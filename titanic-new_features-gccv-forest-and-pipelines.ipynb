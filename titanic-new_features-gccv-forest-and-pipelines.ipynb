{
 "cells": [
  {
   "cell_type": "code",
   "execution_count": 1,
   "id": "45d44af9",
   "metadata": {
    "_cell_guid": "b1076dfc-b9ad-4769-8c92-a6c4dae69d19",
    "_uuid": "8f2839f25d086af736a60e9eeb907d3b93b6e0e5",
    "execution": {
     "iopub.execute_input": "2022-03-29T06:50:31.865798Z",
     "iopub.status.busy": "2022-03-29T06:50:31.864117Z",
     "iopub.status.idle": "2022-03-29T06:50:31.875441Z",
     "shell.execute_reply": "2022-03-29T06:50:31.874769Z",
     "shell.execute_reply.started": "2022-03-29T06:45:14.116577Z"
    },
    "papermill": {
     "duration": 0.072565,
     "end_time": "2022-03-29T06:50:31.875601",
     "exception": false,
     "start_time": "2022-03-29T06:50:31.803036",
     "status": "completed"
    },
    "tags": []
   },
   "outputs": [
    {
     "name": "stdout",
     "output_type": "stream",
     "text": [
      "/kaggle/input/titanic/train.csv\n",
      "/kaggle/input/titanic/test.csv\n",
      "/kaggle/input/titanic/gender_submission.csv\n"
     ]
    }
   ],
   "source": [
    "import os\n",
    "for dirname, _, filenames in os.walk('/kaggle/input'):\n",
    "    for filename in filenames:\n",
    "        print(os.path.join(dirname, filename))"
   ]
  },
  {
   "cell_type": "code",
   "execution_count": 2,
   "id": "fcf430f7",
   "metadata": {
    "execution": {
     "iopub.execute_input": "2022-03-29T06:50:31.973647Z",
     "iopub.status.busy": "2022-03-29T06:50:31.973079Z",
     "iopub.status.idle": "2022-03-29T06:50:33.315378Z",
     "shell.execute_reply": "2022-03-29T06:50:33.314596Z",
     "shell.execute_reply.started": "2022-03-29T06:45:14.470041Z"
    },
    "papermill": {
     "duration": 1.391614,
     "end_time": "2022-03-29T06:50:33.315518",
     "exception": false,
     "start_time": "2022-03-29T06:50:31.923904",
     "status": "completed"
    },
    "tags": []
   },
   "outputs": [],
   "source": [
    "import numpy as np\n",
    "import pandas as pd\n",
    "import matplotlib.pyplot as plt\n",
    "import seaborn as sns\n",
    "from sklearn.impute import SimpleImputer\n",
    "from sklearn.preprocessing import OneHotEncoder, KBinsDiscretizer\n",
    "from sklearn.ensemble import RandomForestClassifier\n",
    "from sklearn.compose import make_column_transformer, ColumnTransformer\n",
    "from sklearn.pipeline import make_pipeline, Pipeline\n",
    "from sklearn.linear_model import LogisticRegression\n",
    "\n",
    "from sklearn.tree import DecisionTreeClassifier\n",
    "from sklearn.neighbors import KNeighborsClassifier\n",
    "from sklearn.model_selection import train_test_split, cross_val_score, GridSearchCV\n",
    "from sklearn.metrics import confusion_matrix, ConfusionMatrixDisplay, classification_report, accuracy_score"
   ]
  },
  {
   "cell_type": "code",
   "execution_count": 3,
   "id": "81f847e3",
   "metadata": {
    "execution": {
     "iopub.execute_input": "2022-03-29T06:50:33.408866Z",
     "iopub.status.busy": "2022-03-29T06:50:33.408271Z",
     "iopub.status.idle": "2022-03-29T06:50:33.433176Z",
     "shell.execute_reply": "2022-03-29T06:50:33.433702Z",
     "shell.execute_reply.started": "2022-03-29T06:45:14.823866Z"
    },
    "papermill": {
     "duration": 0.072837,
     "end_time": "2022-03-29T06:50:33.433875",
     "exception": false,
     "start_time": "2022-03-29T06:50:33.361038",
     "status": "completed"
    },
    "tags": []
   },
   "outputs": [],
   "source": [
    "train_df = pd.read_csv('/kaggle/input/titanic/train.csv')\n",
    "test_df = pd.read_csv('/kaggle/input/titanic/test.csv')"
   ]
  },
  {
   "cell_type": "code",
   "execution_count": 4,
   "id": "c7dff7c6",
   "metadata": {
    "execution": {
     "iopub.execute_input": "2022-03-29T06:50:33.557876Z",
     "iopub.status.busy": "2022-03-29T06:50:33.557229Z",
     "iopub.status.idle": "2022-03-29T06:50:33.578084Z",
     "shell.execute_reply": "2022-03-29T06:50:33.578604Z",
     "shell.execute_reply.started": "2022-03-29T06:45:15.199381Z"
    },
    "papermill": {
     "duration": 0.090122,
     "end_time": "2022-03-29T06:50:33.578840",
     "exception": false,
     "start_time": "2022-03-29T06:50:33.488718",
     "status": "completed"
    },
    "tags": []
   },
   "outputs": [
    {
     "data": {
      "text/html": [
       "<div>\n",
       "<style scoped>\n",
       "    .dataframe tbody tr th:only-of-type {\n",
       "        vertical-align: middle;\n",
       "    }\n",
       "\n",
       "    .dataframe tbody tr th {\n",
       "        vertical-align: top;\n",
       "    }\n",
       "\n",
       "    .dataframe thead th {\n",
       "        text-align: right;\n",
       "    }\n",
       "</style>\n",
       "<table border=\"1\" class=\"dataframe\">\n",
       "  <thead>\n",
       "    <tr style=\"text-align: right;\">\n",
       "      <th></th>\n",
       "      <th>PassengerId</th>\n",
       "      <th>Survived</th>\n",
       "      <th>Pclass</th>\n",
       "      <th>Name</th>\n",
       "      <th>Sex</th>\n",
       "      <th>Age</th>\n",
       "      <th>SibSp</th>\n",
       "      <th>Parch</th>\n",
       "      <th>Ticket</th>\n",
       "      <th>Fare</th>\n",
       "      <th>Cabin</th>\n",
       "      <th>Embarked</th>\n",
       "    </tr>\n",
       "  </thead>\n",
       "  <tbody>\n",
       "    <tr>\n",
       "      <th>0</th>\n",
       "      <td>1</td>\n",
       "      <td>0</td>\n",
       "      <td>3</td>\n",
       "      <td>Braund, Mr. Owen Harris</td>\n",
       "      <td>male</td>\n",
       "      <td>22.0</td>\n",
       "      <td>1</td>\n",
       "      <td>0</td>\n",
       "      <td>A/5 21171</td>\n",
       "      <td>7.2500</td>\n",
       "      <td>NaN</td>\n",
       "      <td>S</td>\n",
       "    </tr>\n",
       "    <tr>\n",
       "      <th>1</th>\n",
       "      <td>2</td>\n",
       "      <td>1</td>\n",
       "      <td>1</td>\n",
       "      <td>Cumings, Mrs. John Bradley (Florence Briggs Th...</td>\n",
       "      <td>female</td>\n",
       "      <td>38.0</td>\n",
       "      <td>1</td>\n",
       "      <td>0</td>\n",
       "      <td>PC 17599</td>\n",
       "      <td>71.2833</td>\n",
       "      <td>C85</td>\n",
       "      <td>C</td>\n",
       "    </tr>\n",
       "    <tr>\n",
       "      <th>2</th>\n",
       "      <td>3</td>\n",
       "      <td>1</td>\n",
       "      <td>3</td>\n",
       "      <td>Heikkinen, Miss. Laina</td>\n",
       "      <td>female</td>\n",
       "      <td>26.0</td>\n",
       "      <td>0</td>\n",
       "      <td>0</td>\n",
       "      <td>STON/O2. 3101282</td>\n",
       "      <td>7.9250</td>\n",
       "      <td>NaN</td>\n",
       "      <td>S</td>\n",
       "    </tr>\n",
       "    <tr>\n",
       "      <th>3</th>\n",
       "      <td>4</td>\n",
       "      <td>1</td>\n",
       "      <td>1</td>\n",
       "      <td>Futrelle, Mrs. Jacques Heath (Lily May Peel)</td>\n",
       "      <td>female</td>\n",
       "      <td>35.0</td>\n",
       "      <td>1</td>\n",
       "      <td>0</td>\n",
       "      <td>113803</td>\n",
       "      <td>53.1000</td>\n",
       "      <td>C123</td>\n",
       "      <td>S</td>\n",
       "    </tr>\n",
       "    <tr>\n",
       "      <th>4</th>\n",
       "      <td>5</td>\n",
       "      <td>0</td>\n",
       "      <td>3</td>\n",
       "      <td>Allen, Mr. William Henry</td>\n",
       "      <td>male</td>\n",
       "      <td>35.0</td>\n",
       "      <td>0</td>\n",
       "      <td>0</td>\n",
       "      <td>373450</td>\n",
       "      <td>8.0500</td>\n",
       "      <td>NaN</td>\n",
       "      <td>S</td>\n",
       "    </tr>\n",
       "  </tbody>\n",
       "</table>\n",
       "</div>"
      ],
      "text/plain": [
       "   PassengerId  Survived  Pclass  \\\n",
       "0            1         0       3   \n",
       "1            2         1       1   \n",
       "2            3         1       3   \n",
       "3            4         1       1   \n",
       "4            5         0       3   \n",
       "\n",
       "                                                Name     Sex   Age  SibSp  \\\n",
       "0                            Braund, Mr. Owen Harris    male  22.0      1   \n",
       "1  Cumings, Mrs. John Bradley (Florence Briggs Th...  female  38.0      1   \n",
       "2                             Heikkinen, Miss. Laina  female  26.0      0   \n",
       "3       Futrelle, Mrs. Jacques Heath (Lily May Peel)  female  35.0      1   \n",
       "4                           Allen, Mr. William Henry    male  35.0      0   \n",
       "\n",
       "   Parch            Ticket     Fare Cabin Embarked  \n",
       "0      0         A/5 21171   7.2500   NaN        S  \n",
       "1      0          PC 17599  71.2833   C85        C  \n",
       "2      0  STON/O2. 3101282   7.9250   NaN        S  \n",
       "3      0            113803  53.1000  C123        S  \n",
       "4      0            373450   8.0500   NaN        S  "
      ]
     },
     "execution_count": 4,
     "metadata": {},
     "output_type": "execute_result"
    }
   ],
   "source": [
    "train_df.head()"
   ]
  },
  {
   "cell_type": "code",
   "execution_count": 5,
   "id": "7c8f0d9e",
   "metadata": {
    "execution": {
     "iopub.execute_input": "2022-03-29T06:50:33.684187Z",
     "iopub.status.busy": "2022-03-29T06:50:33.683563Z",
     "iopub.status.idle": "2022-03-29T06:50:33.701258Z",
     "shell.execute_reply": "2022-03-29T06:50:33.702005Z",
     "shell.execute_reply.started": "2022-03-29T06:45:15.556414Z"
    },
    "papermill": {
     "duration": 0.071617,
     "end_time": "2022-03-29T06:50:33.702222",
     "exception": false,
     "start_time": "2022-03-29T06:50:33.630605",
     "status": "completed"
    },
    "tags": []
   },
   "outputs": [
    {
     "name": "stdout",
     "output_type": "stream",
     "text": [
      "<class 'pandas.core.frame.DataFrame'>\n",
      "RangeIndex: 891 entries, 0 to 890\n",
      "Data columns (total 12 columns):\n",
      " #   Column       Non-Null Count  Dtype  \n",
      "---  ------       --------------  -----  \n",
      " 0   PassengerId  891 non-null    int64  \n",
      " 1   Survived     891 non-null    int64  \n",
      " 2   Pclass       891 non-null    int64  \n",
      " 3   Name         891 non-null    object \n",
      " 4   Sex          891 non-null    object \n",
      " 5   Age          714 non-null    float64\n",
      " 6   SibSp        891 non-null    int64  \n",
      " 7   Parch        891 non-null    int64  \n",
      " 8   Ticket       891 non-null    object \n",
      " 9   Fare         891 non-null    float64\n",
      " 10  Cabin        204 non-null    object \n",
      " 11  Embarked     889 non-null    object \n",
      "dtypes: float64(2), int64(5), object(5)\n",
      "memory usage: 83.7+ KB\n"
     ]
    }
   ],
   "source": [
    "train_df.info()"
   ]
  },
  {
   "cell_type": "code",
   "execution_count": 6,
   "id": "e39581c6",
   "metadata": {
    "execution": {
     "iopub.execute_input": "2022-03-29T06:50:33.799212Z",
     "iopub.status.busy": "2022-03-29T06:50:33.798597Z",
     "iopub.status.idle": "2022-03-29T06:50:33.809196Z",
     "shell.execute_reply": "2022-03-29T06:50:33.809864Z",
     "shell.execute_reply.started": "2022-03-29T06:45:15.874297Z"
    },
    "papermill": {
     "duration": 0.060136,
     "end_time": "2022-03-29T06:50:33.810072",
     "exception": false,
     "start_time": "2022-03-29T06:50:33.749936",
     "status": "completed"
    },
    "tags": []
   },
   "outputs": [
    {
     "name": "stdout",
     "output_type": "stream",
     "text": [
      "<class 'pandas.core.frame.DataFrame'>\n",
      "RangeIndex: 418 entries, 0 to 417\n",
      "Data columns (total 11 columns):\n",
      " #   Column       Non-Null Count  Dtype  \n",
      "---  ------       --------------  -----  \n",
      " 0   PassengerId  418 non-null    int64  \n",
      " 1   Pclass       418 non-null    int64  \n",
      " 2   Name         418 non-null    object \n",
      " 3   Sex          418 non-null    object \n",
      " 4   Age          332 non-null    float64\n",
      " 5   SibSp        418 non-null    int64  \n",
      " 6   Parch        418 non-null    int64  \n",
      " 7   Ticket       418 non-null    object \n",
      " 8   Fare         417 non-null    float64\n",
      " 9   Cabin        91 non-null     object \n",
      " 10  Embarked     418 non-null    object \n",
      "dtypes: float64(2), int64(4), object(5)\n",
      "memory usage: 36.0+ KB\n"
     ]
    }
   ],
   "source": [
    "test_df.info()"
   ]
  },
  {
   "cell_type": "code",
   "execution_count": 7,
   "id": "d88ee24c",
   "metadata": {
    "execution": {
     "iopub.execute_input": "2022-03-29T06:50:33.907264Z",
     "iopub.status.busy": "2022-03-29T06:50:33.906704Z",
     "iopub.status.idle": "2022-03-29T06:50:33.913204Z",
     "shell.execute_reply": "2022-03-29T06:50:33.913723Z",
     "shell.execute_reply.started": "2022-03-29T06:45:16.206921Z"
    },
    "papermill": {
     "duration": 0.056013,
     "end_time": "2022-03-29T06:50:33.913884",
     "exception": false,
     "start_time": "2022-03-29T06:50:33.857871",
     "status": "completed"
    },
    "tags": []
   },
   "outputs": [
    {
     "data": {
      "text/plain": [
       "PassengerId      0\n",
       "Survived         0\n",
       "Pclass           0\n",
       "Name             0\n",
       "Sex              0\n",
       "Age            177\n",
       "SibSp            0\n",
       "Parch            0\n",
       "Ticket           0\n",
       "Fare             0\n",
       "Cabin          687\n",
       "Embarked         2\n",
       "dtype: int64"
      ]
     },
     "execution_count": 7,
     "metadata": {},
     "output_type": "execute_result"
    }
   ],
   "source": [
    "train_df.isna().sum()"
   ]
  },
  {
   "cell_type": "code",
   "execution_count": 8,
   "id": "d1242dc0",
   "metadata": {
    "execution": {
     "iopub.execute_input": "2022-03-29T06:50:34.013237Z",
     "iopub.status.busy": "2022-03-29T06:50:34.012620Z",
     "iopub.status.idle": "2022-03-29T06:50:34.018994Z",
     "shell.execute_reply": "2022-03-29T06:50:34.019489Z",
     "shell.execute_reply.started": "2022-03-29T06:45:16.579382Z"
    },
    "papermill": {
     "duration": 0.057486,
     "end_time": "2022-03-29T06:50:34.019668",
     "exception": false,
     "start_time": "2022-03-29T06:50:33.962182",
     "status": "completed"
    },
    "tags": []
   },
   "outputs": [
    {
     "data": {
      "text/plain": [
       "PassengerId      0\n",
       "Pclass           0\n",
       "Name             0\n",
       "Sex              0\n",
       "Age             86\n",
       "SibSp            0\n",
       "Parch            0\n",
       "Ticket           0\n",
       "Fare             1\n",
       "Cabin          327\n",
       "Embarked         0\n",
       "dtype: int64"
      ]
     },
     "execution_count": 8,
     "metadata": {},
     "output_type": "execute_result"
    }
   ],
   "source": [
    "test_df.isna().sum()"
   ]
  },
  {
   "cell_type": "code",
   "execution_count": 9,
   "id": "e3a6efc9",
   "metadata": {
    "execution": {
     "iopub.execute_input": "2022-03-29T06:50:34.118279Z",
     "iopub.status.busy": "2022-03-29T06:50:34.117711Z",
     "iopub.status.idle": "2022-03-29T06:50:34.124822Z",
     "shell.execute_reply": "2022-03-29T06:50:34.125333Z",
     "shell.execute_reply.started": "2022-03-29T06:45:16.960752Z"
    },
    "papermill": {
     "duration": 0.058199,
     "end_time": "2022-03-29T06:50:34.125486",
     "exception": false,
     "start_time": "2022-03-29T06:50:34.067287",
     "status": "completed"
    },
    "tags": []
   },
   "outputs": [
    {
     "data": {
      "text/plain": [
       "Name      891\n",
       "Ticket    681\n",
       "Cabin     147\n",
       "dtype: int64"
      ]
     },
     "execution_count": 9,
     "metadata": {},
     "output_type": "execute_result"
    }
   ],
   "source": [
    "train_df.loc[:, ['Name', 'Ticket', 'Cabin']].nunique()"
   ]
  },
  {
   "cell_type": "code",
   "execution_count": 10,
   "id": "2934d68b",
   "metadata": {
    "execution": {
     "iopub.execute_input": "2022-03-29T06:50:34.224510Z",
     "iopub.status.busy": "2022-03-29T06:50:34.223959Z",
     "iopub.status.idle": "2022-03-29T06:50:34.406299Z",
     "shell.execute_reply": "2022-03-29T06:50:34.406750Z",
     "shell.execute_reply.started": "2022-03-29T06:45:17.346185Z"
    },
    "papermill": {
     "duration": 0.233607,
     "end_time": "2022-03-29T06:50:34.406909",
     "exception": false,
     "start_time": "2022-03-29T06:50:34.173302",
     "status": "completed"
    },
    "tags": []
   },
   "outputs": [
    {
     "data": {
      "text/plain": [
       "<AxesSubplot:xlabel='Survived', ylabel='count'>"
      ]
     },
     "execution_count": 10,
     "metadata": {},
     "output_type": "execute_result"
    },
    {
     "data": {
      "image/png": "[encoded data removed]",
      "text/plain": [
       "<Figure size 432x288 with 1 Axes>"
      ]
     },
     "metadata": {
      "needs_background": "light"
     },
     "output_type": "display_data"
    }
   ],
   "source": [
    "sns.countplot(x='Survived', data=train_df)"
   ]
  },
  {
   "cell_type": "code",
   "execution_count": 11,
   "id": "33b92add",
   "metadata": {
    "execution": {
     "iopub.execute_input": "2022-03-29T06:50:34.507662Z",
     "iopub.status.busy": "2022-03-29T06:50:34.506746Z",
     "iopub.status.idle": "2022-03-29T06:50:34.688596Z",
     "shell.execute_reply": "2022-03-29T06:50:34.689097Z",
     "shell.execute_reply.started": "2022-03-29T06:45:17.809999Z"
    },
    "papermill": {
     "duration": 0.234026,
     "end_time": "2022-03-29T06:50:34.689255",
     "exception": false,
     "start_time": "2022-03-29T06:50:34.455229",
     "status": "completed"
    },
    "tags": []
   },
   "outputs": [
    {
     "data": {
      "text/plain": [
       "<AxesSubplot:xlabel='Sex', ylabel='count'>"
      ]
     },
     "execution_count": 11,
     "metadata": {},
     "output_type": "execute_result"
    },
    {
     "data": {
      "image/png": "[encoded data removed]",
      "text/plain": [
       "<Figure size 432x288 with 1 Axes>"
      ]
     },
     "metadata": {
      "needs_background": "light"
     },
     "output_type": "display_data"
    }
   ],
   "source": [
    "sns.countplot(x='Sex', hue='Survived', data=train_df)"
   ]
  },
  {
   "cell_type": "code",
   "execution_count": 12,
   "id": "5bda5676",
   "metadata": {
    "execution": {
     "iopub.execute_input": "2022-03-29T06:50:34.792954Z",
     "iopub.status.busy": "2022-03-29T06:50:34.792361Z",
     "iopub.status.idle": "2022-03-29T06:50:34.999471Z",
     "shell.execute_reply": "2022-03-29T06:50:34.999015Z",
     "shell.execute_reply.started": "2022-03-29T06:45:18.209919Z"
    },
    "papermill": {
     "duration": 0.26156,
     "end_time": "2022-03-29T06:50:34.999606",
     "exception": false,
     "start_time": "2022-03-29T06:50:34.738046",
     "status": "completed"
    },
    "tags": []
   },
   "outputs": [
    {
     "data": {
      "text/plain": [
       "<AxesSubplot:xlabel='Pclass', ylabel='count'>"
      ]
     },
     "execution_count": 12,
     "metadata": {},
     "output_type": "execute_result"
    },
    {
     "data": {
      "image/png": "[encoded data removed]",
      "text/plain": [
       "<Figure size 432x288 with 1 Axes>"
      ]
     },
     "metadata": {
      "needs_background": "light"
     },
     "output_type": "display_data"
    }
   ],
   "source": [
    "sns.countplot(x='Pclass', hue='Survived', data=train_df)"
   ]
  },
  {
   "cell_type": "code",
   "execution_count": 13,
   "id": "abb25222",
   "metadata": {
    "execution": {
     "iopub.execute_input": "2022-03-29T06:50:35.107137Z",
     "iopub.status.busy": "2022-03-29T06:50:35.106491Z",
     "iopub.status.idle": "2022-03-29T06:50:35.651254Z",
     "shell.execute_reply": "2022-03-29T06:50:35.650792Z",
     "shell.execute_reply.started": "2022-03-29T06:45:18.564321Z"
    },
    "papermill": {
     "duration": 0.601193,
     "end_time": "2022-03-29T06:50:35.651384",
     "exception": false,
     "start_time": "2022-03-29T06:50:35.050191",
     "status": "completed"
    },
    "tags": []
   },
   "outputs": [
    {
     "data": {
      "text/plain": [
       "<seaborn.axisgrid.FacetGrid at 0x7efc781165d0>"
      ]
     },
     "execution_count": 13,
     "metadata": {},
     "output_type": "execute_result"
    },
    {
     "data": {
      "image/png": "[encoded data removed]",
      "text/plain": [
       "<Figure size 430.5x360 with 1 Axes>"
      ]
     },
     "metadata": {
      "needs_background": "light"
     },
     "output_type": "display_data"
    }
   ],
   "source": [
    "sns.catplot(x='Pclass', y='Survived', hue='Sex', data=train_df, kind='point')"
   ]
  },
  {
   "cell_type": "code",
   "execution_count": 14,
   "id": "ff176534",
   "metadata": {
    "execution": {
     "iopub.execute_input": "2022-03-29T06:50:35.759904Z",
     "iopub.status.busy": "2022-03-29T06:50:35.759301Z",
     "iopub.status.idle": "2022-03-29T06:50:36.934889Z",
     "shell.execute_reply": "2022-03-29T06:50:36.935348Z",
     "shell.execute_reply.started": "2022-03-29T06:45:19.244164Z"
    },
    "papermill": {
     "duration": 1.23234,
     "end_time": "2022-03-29T06:50:36.935515",
     "exception": false,
     "start_time": "2022-03-29T06:50:35.703175",
     "status": "completed"
    },
    "tags": []
   },
   "outputs": [
    {
     "data": {
      "text/plain": [
       "<seaborn.axisgrid.FacetGrid at 0x7efc78049fd0>"
      ]
     },
     "execution_count": 14,
     "metadata": {},
     "output_type": "execute_result"
    },
    {
     "data": {
      "image/png": "[encoded data removed]",
      "text/plain": [
       "<Figure size 1150.5x360 with 3 Axes>"
      ]
     },
     "metadata": {
      "needs_background": "light"
     },
     "output_type": "display_data"
    }
   ],
   "source": [
    "sns.catplot(x='Pclass', y='Survived', hue='Sex', col='Embarked', data=train_df, kind='point')"
   ]
  },
  {
   "cell_type": "code",
   "execution_count": 15,
   "id": "257d8430",
   "metadata": {
    "execution": {
     "iopub.execute_input": "2022-03-29T06:50:37.046338Z",
     "iopub.status.busy": "2022-03-29T06:50:37.045449Z",
     "iopub.status.idle": "2022-03-29T06:50:37.059045Z",
     "shell.execute_reply": "2022-03-29T06:50:37.059521Z",
     "shell.execute_reply.started": "2022-03-29T06:45:20.639100Z"
    },
    "papermill": {
     "duration": 0.070097,
     "end_time": "2022-03-29T06:50:37.059692",
     "exception": false,
     "start_time": "2022-03-29T06:50:36.989595",
     "status": "completed"
    },
    "tags": []
   },
   "outputs": [
    {
     "data": {
      "text/html": [
       "<div>\n",
       "<style scoped>\n",
       "    .dataframe tbody tr th:only-of-type {\n",
       "        vertical-align: middle;\n",
       "    }\n",
       "\n",
       "    .dataframe tbody tr th {\n",
       "        vertical-align: top;\n",
       "    }\n",
       "\n",
       "    .dataframe thead th {\n",
       "        text-align: right;\n",
       "    }\n",
       "</style>\n",
       "<table border=\"1\" class=\"dataframe\">\n",
       "  <thead>\n",
       "    <tr style=\"text-align: right;\">\n",
       "      <th></th>\n",
       "      <th>PassengerId</th>\n",
       "      <th>Survived</th>\n",
       "      <th>Pclass</th>\n",
       "      <th>Name</th>\n",
       "      <th>Sex</th>\n",
       "      <th>Age</th>\n",
       "      <th>SibSp</th>\n",
       "      <th>Parch</th>\n",
       "      <th>Ticket</th>\n",
       "      <th>Fare</th>\n",
       "      <th>Cabin</th>\n",
       "      <th>Embarked</th>\n",
       "    </tr>\n",
       "  </thead>\n",
       "  <tbody>\n",
       "    <tr>\n",
       "      <th>61</th>\n",
       "      <td>62</td>\n",
       "      <td>1</td>\n",
       "      <td>1</td>\n",
       "      <td>Icard, Miss. Amelie</td>\n",
       "      <td>female</td>\n",
       "      <td>38.0</td>\n",
       "      <td>0</td>\n",
       "      <td>0</td>\n",
       "      <td>113572</td>\n",
       "      <td>80.0</td>\n",
       "      <td>B28</td>\n",
       "      <td>NaN</td>\n",
       "    </tr>\n",
       "    <tr>\n",
       "      <th>829</th>\n",
       "      <td>830</td>\n",
       "      <td>1</td>\n",
       "      <td>1</td>\n",
       "      <td>Stone, Mrs. George Nelson (Martha Evelyn)</td>\n",
       "      <td>female</td>\n",
       "      <td>62.0</td>\n",
       "      <td>0</td>\n",
       "      <td>0</td>\n",
       "      <td>113572</td>\n",
       "      <td>80.0</td>\n",
       "      <td>B28</td>\n",
       "      <td>NaN</td>\n",
       "    </tr>\n",
       "  </tbody>\n",
       "</table>\n",
       "</div>"
      ],
      "text/plain": [
       "     PassengerId  Survived  Pclass                                       Name  \\\n",
       "61            62         1       1                        Icard, Miss. Amelie   \n",
       "829          830         1       1  Stone, Mrs. George Nelson (Martha Evelyn)   \n",
       "\n",
       "        Sex   Age  SibSp  Parch  Ticket  Fare Cabin Embarked  \n",
       "61   female  38.0      0      0  113572  80.0   B28      NaN  \n",
       "829  female  62.0      0      0  113572  80.0   B28      NaN  "
      ]
     },
     "execution_count": 15,
     "metadata": {},
     "output_type": "execute_result"
    }
   ],
   "source": [
    "train_df[train_df['Embarked'].isna()]"
   ]
  },
  {
   "cell_type": "code",
   "execution_count": 16,
   "id": "a2223336",
   "metadata": {
    "execution": {
     "iopub.execute_input": "2022-03-29T06:50:37.171797Z",
     "iopub.status.busy": "2022-03-29T06:50:37.170906Z",
     "iopub.status.idle": "2022-03-29T06:50:37.179109Z",
     "shell.execute_reply": "2022-03-29T06:50:37.179650Z",
     "shell.execute_reply.started": "2022-03-29T06:45:20.658833Z"
    },
    "papermill": {
     "duration": 0.065699,
     "end_time": "2022-03-29T06:50:37.179819",
     "exception": false,
     "start_time": "2022-03-29T06:50:37.114120",
     "status": "completed"
    },
    "tags": []
   },
   "outputs": [
    {
     "data": {
      "text/plain": [
       "Embarked\n",
       "C    78.2667\n",
       "Q    90.0000\n",
       "S    52.0000\n",
       "Name: Fare, dtype: float64"
      ]
     },
     "execution_count": 16,
     "metadata": {},
     "output_type": "execute_result"
    }
   ],
   "source": [
    "train_df[train_df['Pclass']==1].groupby(by='Embarked')['Fare'].median()"
   ]
  },
  {
   "cell_type": "code",
   "execution_count": 17,
   "id": "fe0a101b",
   "metadata": {
    "execution": {
     "iopub.execute_input": "2022-03-29T06:50:37.292905Z",
     "iopub.status.busy": "2022-03-29T06:50:37.292004Z",
     "iopub.status.idle": "2022-03-29T06:50:37.296414Z",
     "shell.execute_reply": "2022-03-29T06:50:37.296983Z",
     "shell.execute_reply.started": "2022-03-29T06:45:20.681471Z"
    },
    "papermill": {
     "duration": 0.06161,
     "end_time": "2022-03-29T06:50:37.297146",
     "exception": false,
     "start_time": "2022-03-29T06:50:37.235536",
     "status": "completed"
    },
    "tags": []
   },
   "outputs": [],
   "source": [
    "train_df['Embarked'].fillna('C', inplace=True)"
   ]
  },
  {
   "cell_type": "code",
   "execution_count": 18,
   "id": "5a7e06c5",
   "metadata": {
    "execution": {
     "iopub.execute_input": "2022-03-29T06:50:37.408183Z",
     "iopub.status.busy": "2022-03-29T06:50:37.407291Z",
     "iopub.status.idle": "2022-03-29T06:50:37.459789Z",
     "shell.execute_reply": "2022-03-29T06:50:37.459229Z",
     "shell.execute_reply.started": "2022-03-29T06:45:20.692370Z"
    },
    "papermill": {
     "duration": 0.108665,
     "end_time": "2022-03-29T06:50:37.459936",
     "exception": false,
     "start_time": "2022-03-29T06:50:37.351271",
     "status": "completed"
    },
    "tags": []
   },
   "outputs": [],
   "source": [
    "united_data = [train_df, test_df]\n",
    "for data in united_data:\n",
    "    data['Acronym'] = 0\n",
    "    for _ in data:\n",
    "        data['Acronym'] = data['Name'].str.extract(r'([A-Za-z]+)\\.')"
   ]
  },
  {
   "cell_type": "code",
   "execution_count": 19,
   "id": "baf6ba96",
   "metadata": {
    "execution": {
     "iopub.execute_input": "2022-03-29T06:50:37.574230Z",
     "iopub.status.busy": "2022-03-29T06:50:37.573581Z",
     "iopub.status.idle": "2022-03-29T06:50:37.575916Z",
     "shell.execute_reply": "2022-03-29T06:50:37.576340Z",
     "shell.execute_reply.started": "2022-03-29T06:45:20.791210Z"
    },
    "papermill": {
     "duration": 0.062937,
     "end_time": "2022-03-29T06:50:37.576490",
     "exception": false,
     "start_time": "2022-03-29T06:50:37.513553",
     "status": "completed"
    },
    "tags": []
   },
   "outputs": [
    {
     "data": {
      "text/plain": [
       "Mr          517\n",
       "Miss        182\n",
       "Mrs         125\n",
       "Master       40\n",
       "Dr            7\n",
       "Rev           6\n",
       "Mlle          2\n",
       "Major         2\n",
       "Col           2\n",
       "Countess      1\n",
       "Capt          1\n",
       "Ms            1\n",
       "Sir           1\n",
       "Lady          1\n",
       "Mme           1\n",
       "Don           1\n",
       "Jonkheer      1\n",
       "Name: Acronym, dtype: int64"
      ]
     },
     "execution_count": 19,
     "metadata": {},
     "output_type": "execute_result"
    }
   ],
   "source": [
    "train_df['Acronym'].value_counts()"
   ]
  },
  {
   "cell_type": "code",
   "execution_count": 20,
   "id": "a3280168",
   "metadata": {
    "execution": {
     "iopub.execute_input": "2022-03-29T06:50:37.687197Z",
     "iopub.status.busy": "2022-03-29T06:50:37.686609Z",
     "iopub.status.idle": "2022-03-29T06:50:37.691880Z",
     "shell.execute_reply": "2022-03-29T06:50:37.692388Z",
     "shell.execute_reply.started": "2022-03-29T06:45:20.842879Z"
    },
    "papermill": {
     "duration": 0.062292,
     "end_time": "2022-03-29T06:50:37.692545",
     "exception": false,
     "start_time": "2022-03-29T06:50:37.630253",
     "status": "completed"
    },
    "tags": []
   },
   "outputs": [
    {
     "data": {
      "text/plain": [
       "Mr        240\n",
       "Miss       78\n",
       "Mrs        72\n",
       "Master     21\n",
       "Col         2\n",
       "Rev         2\n",
       "Ms          1\n",
       "Dr          1\n",
       "Dona        1\n",
       "Name: Acronym, dtype: int64"
      ]
     },
     "execution_count": 20,
     "metadata": {},
     "output_type": "execute_result"
    }
   ],
   "source": [
    "test_df['Acronym'].value_counts()"
   ]
  },
  {
   "cell_type": "code",
   "execution_count": 21,
   "id": "f17b726d",
   "metadata": {
    "execution": {
     "iopub.execute_input": "2022-03-29T06:50:37.804241Z",
     "iopub.status.busy": "2022-03-29T06:50:37.803701Z",
     "iopub.status.idle": "2022-03-29T06:50:37.811137Z",
     "shell.execute_reply": "2022-03-29T06:50:37.811666Z",
     "shell.execute_reply.started": "2022-03-29T06:45:21.137644Z"
    },
    "papermill": {
     "duration": 0.06474,
     "end_time": "2022-03-29T06:50:37.811818",
     "exception": false,
     "start_time": "2022-03-29T06:50:37.747078",
     "status": "completed"
    },
    "tags": []
   },
   "outputs": [],
   "source": [
    "for data in united_data:\n",
    "    data['Acronym'].replace(['Dr', 'Rev', 'Major', 'Col', 'Capt', 'Countess', 'Sir', 'Lady', 'Don', 'Dona', 'Jonkheer'], 'Rare', inplace=True)\n",
    "    data['Acronym'].replace(['Mlle', 'Ms', 'Mme'], ['Miss', 'Mrs', 'Mrs'], inplace=True)"
   ]
  },
  {
   "cell_type": "code",
   "execution_count": 22,
   "id": "24c4ba71",
   "metadata": {
    "execution": {
     "iopub.execute_input": "2022-03-29T06:50:37.925325Z",
     "iopub.status.busy": "2022-03-29T06:50:37.924765Z",
     "iopub.status.idle": "2022-03-29T06:50:37.933074Z",
     "shell.execute_reply": "2022-03-29T06:50:37.933574Z",
     "shell.execute_reply.started": "2022-03-29T06:45:21.579193Z"
    },
    "papermill": {
     "duration": 0.067326,
     "end_time": "2022-03-29T06:50:37.933746",
     "exception": false,
     "start_time": "2022-03-29T06:50:37.866420",
     "status": "completed"
    },
    "tags": []
   },
   "outputs": [
    {
     "data": {
      "text/plain": [
       "Acronym\n",
       "Master     4.574167\n",
       "Miss      21.804054\n",
       "Mr        32.368090\n",
       "Mrs       35.718182\n",
       "Rare      45.545455\n",
       "Name: Age, dtype: float64"
      ]
     },
     "execution_count": 22,
     "metadata": {},
     "output_type": "execute_result"
    }
   ],
   "source": [
    "train_df.groupby(by='Acronym')['Age'].mean()"
   ]
  },
  {
   "cell_type": "code",
   "execution_count": 23,
   "id": "070def53",
   "metadata": {
    "execution": {
     "iopub.execute_input": "2022-03-29T06:50:38.050940Z",
     "iopub.status.busy": "2022-03-29T06:50:38.046470Z",
     "iopub.status.idle": "2022-03-29T06:50:38.053873Z",
     "shell.execute_reply": "2022-03-29T06:50:38.054293Z",
     "shell.execute_reply.started": "2022-03-29T06:45:22.146161Z"
    },
    "papermill": {
     "duration": 0.064513,
     "end_time": "2022-03-29T06:50:38.054442",
     "exception": false,
     "start_time": "2022-03-29T06:50:37.989929",
     "status": "completed"
    },
    "tags": []
   },
   "outputs": [
    {
     "data": {
      "text/plain": [
       "Acronym\n",
       "Master     7.406471\n",
       "Miss      21.774844\n",
       "Mr        32.000000\n",
       "Mrs       38.903226\n",
       "Rare      43.833333\n",
       "Name: Age, dtype: float64"
      ]
     },
     "execution_count": 23,
     "metadata": {},
     "output_type": "execute_result"
    }
   ],
   "source": [
    "test_df.groupby(by='Acronym')['Age'].mean()"
   ]
  },
  {
   "cell_type": "code",
   "execution_count": 24,
   "id": "c00e37d2",
   "metadata": {
    "execution": {
     "iopub.execute_input": "2022-03-29T06:50:38.169765Z",
     "iopub.status.busy": "2022-03-29T06:50:38.169174Z",
     "iopub.status.idle": "2022-03-29T06:50:38.173241Z",
     "shell.execute_reply": "2022-03-29T06:50:38.173807Z",
     "shell.execute_reply.started": "2022-03-29T06:45:22.539300Z"
    },
    "papermill": {
     "duration": 0.06391,
     "end_time": "2022-03-29T06:50:38.173959",
     "exception": false,
     "start_time": "2022-03-29T06:50:38.110049",
     "status": "completed"
    },
    "tags": []
   },
   "outputs": [],
   "source": [
    "train_df['Age'] = train_df['Age'].fillna(train_df.groupby('Acronym')['Age'].transform('mean'))\n",
    "test_df['Age'] = test_df['Age'].fillna(test_df.groupby('Acronym')['Age'].transform('mean'))"
   ]
  },
  {
   "cell_type": "code",
   "execution_count": 25,
   "id": "43b39a19",
   "metadata": {
    "execution": {
     "iopub.execute_input": "2022-03-29T06:50:38.288774Z",
     "iopub.status.busy": "2022-03-29T06:50:38.288141Z",
     "iopub.status.idle": "2022-03-29T06:50:38.292684Z",
     "shell.execute_reply": "2022-03-29T06:50:38.293194Z",
     "shell.execute_reply.started": "2022-03-29T06:45:22.797387Z"
    },
    "papermill": {
     "duration": 0.064393,
     "end_time": "2022-03-29T06:50:38.293346",
     "exception": false,
     "start_time": "2022-03-29T06:50:38.228953",
     "status": "completed"
    },
    "tags": []
   },
   "outputs": [
    {
     "data": {
      "text/plain": [
       "Acronym\n",
       "Master     4.574167\n",
       "Miss      21.804054\n",
       "Mr        32.368090\n",
       "Mrs       35.718182\n",
       "Rare      45.545455\n",
       "Name: Age, dtype: float64"
      ]
     },
     "execution_count": 25,
     "metadata": {},
     "output_type": "execute_result"
    }
   ],
   "source": [
    "train_df.groupby(by='Acronym')['Age'].mean()"
   ]
  },
  {
   "cell_type": "code",
   "execution_count": 26,
   "id": "aa456767",
   "metadata": {
    "execution": {
     "iopub.execute_input": "2022-03-29T06:50:38.410604Z",
     "iopub.status.busy": "2022-03-29T06:50:38.405718Z",
     "iopub.status.idle": "2022-03-29T06:50:38.413171Z",
     "shell.execute_reply": "2022-03-29T06:50:38.413591Z",
     "shell.execute_reply.started": "2022-03-29T06:45:23.031844Z"
    },
    "papermill": {
     "duration": 0.065067,
     "end_time": "2022-03-29T06:50:38.413765",
     "exception": false,
     "start_time": "2022-03-29T06:50:38.348698",
     "status": "completed"
    },
    "tags": []
   },
   "outputs": [
    {
     "data": {
      "text/plain": [
       "Acronym\n",
       "Master     7.406471\n",
       "Miss      21.774844\n",
       "Mr        32.000000\n",
       "Mrs       38.903226\n",
       "Rare      43.833333\n",
       "Name: Age, dtype: float64"
      ]
     },
     "execution_count": 26,
     "metadata": {},
     "output_type": "execute_result"
    }
   ],
   "source": [
    "test_df.groupby(by='Acronym')['Age'].mean()"
   ]
  },
  {
   "cell_type": "code",
   "execution_count": 27,
   "id": "d3aac15a",
   "metadata": {
    "execution": {
     "iopub.execute_input": "2022-03-29T06:50:38.527059Z",
     "iopub.status.busy": "2022-03-29T06:50:38.526493Z",
     "iopub.status.idle": "2022-03-29T06:50:38.531341Z",
     "shell.execute_reply": "2022-03-29T06:50:38.530808Z",
     "shell.execute_reply.started": "2022-03-29T06:45:23.326744Z"
    },
    "papermill": {
     "duration": 0.062603,
     "end_time": "2022-03-29T06:50:38.531461",
     "exception": false,
     "start_time": "2022-03-29T06:50:38.468858",
     "status": "completed"
    },
    "tags": []
   },
   "outputs": [],
   "source": [
    "pass_id_train = train_df['PassengerId']\n",
    "pass_id_test = test_df['PassengerId']\n",
    "y_train = np.array(train_df['Survived'])"
   ]
  },
  {
   "cell_type": "code",
   "execution_count": 28,
   "id": "9fe92ae3",
   "metadata": {
    "execution": {
     "iopub.execute_input": "2022-03-29T06:50:38.648649Z",
     "iopub.status.busy": "2022-03-29T06:50:38.648090Z",
     "iopub.status.idle": "2022-03-29T06:50:38.651858Z",
     "shell.execute_reply": "2022-03-29T06:50:38.652277Z",
     "shell.execute_reply.started": "2022-03-29T06:45:23.674453Z"
    },
    "papermill": {
     "duration": 0.065064,
     "end_time": "2022-03-29T06:50:38.652426",
     "exception": false,
     "start_time": "2022-03-29T06:50:38.587362",
     "status": "completed"
    },
    "tags": []
   },
   "outputs": [],
   "source": [
    "train_df['Family_size'] = train_df['SibSp'] + train_df['Parch'] + 1\n",
    "test_df['Family_size'] = test_df['SibSp'] + test_df['Parch'] + 1"
   ]
  },
  {
   "cell_type": "code",
   "execution_count": 29,
   "id": "7153d257",
   "metadata": {
    "execution": {
     "iopub.execute_input": "2022-03-29T06:50:38.767264Z",
     "iopub.status.busy": "2022-03-29T06:50:38.764872Z",
     "iopub.status.idle": "2022-03-29T06:50:38.771606Z",
     "shell.execute_reply": "2022-03-29T06:50:38.772050Z",
     "shell.execute_reply.started": "2022-03-29T06:45:24.024583Z"
    },
    "papermill": {
     "duration": 0.0644,
     "end_time": "2022-03-29T06:50:38.772197",
     "exception": false,
     "start_time": "2022-03-29T06:50:38.707797",
     "status": "completed"
    },
    "tags": []
   },
   "outputs": [],
   "source": [
    "train_df.drop(['SibSp', 'Parch'], axis=1, inplace=True)\n",
    "test_df.drop(['SibSp', 'Parch'], axis=1, inplace=True)"
   ]
  },
  {
   "cell_type": "code",
   "execution_count": 30,
   "id": "17bb17b4",
   "metadata": {
    "execution": {
     "iopub.execute_input": "2022-03-29T06:50:38.890573Z",
     "iopub.status.busy": "2022-03-29T06:50:38.886407Z",
     "iopub.status.idle": "2022-03-29T06:50:38.893673Z",
     "shell.execute_reply": "2022-03-29T06:50:38.893197Z",
     "shell.execute_reply.started": "2022-03-29T06:45:24.435886Z"
    },
    "papermill": {
     "duration": 0.06493,
     "end_time": "2022-03-29T06:50:38.893806",
     "exception": false,
     "start_time": "2022-03-29T06:50:38.828876",
     "status": "completed"
    },
    "tags": []
   },
   "outputs": [],
   "source": [
    "train_df['Alone'] = 0\n",
    "train_df.loc[train_df['Family_size'] == 1, 'Alone'] = 1"
   ]
  },
  {
   "cell_type": "code",
   "execution_count": 31,
   "id": "21d34255",
   "metadata": {
    "execution": {
     "iopub.execute_input": "2022-03-29T06:50:39.011823Z",
     "iopub.status.busy": "2022-03-29T06:50:39.011233Z",
     "iopub.status.idle": "2022-03-29T06:50:39.013741Z",
     "shell.execute_reply": "2022-03-29T06:50:39.014141Z",
     "shell.execute_reply.started": "2022-03-29T06:45:24.817681Z"
    },
    "papermill": {
     "duration": 0.064907,
     "end_time": "2022-03-29T06:50:39.014291",
     "exception": false,
     "start_time": "2022-03-29T06:50:38.949384",
     "status": "completed"
    },
    "tags": []
   },
   "outputs": [],
   "source": [
    "test_df['Alone'] = 0\n",
    "test_df.loc[test_df['Family_size'] == 1, 'Alone'] = 1"
   ]
  },
  {
   "cell_type": "code",
   "execution_count": 32,
   "id": "ec747c5e",
   "metadata": {
    "execution": {
     "iopub.execute_input": "2022-03-29T06:50:39.129610Z",
     "iopub.status.busy": "2022-03-29T06:50:39.128947Z",
     "iopub.status.idle": "2022-03-29T06:50:39.565524Z",
     "shell.execute_reply": "2022-03-29T06:50:39.565938Z",
     "shell.execute_reply.started": "2022-03-29T06:45:25.159246Z"
    },
    "papermill": {
     "duration": 0.496745,
     "end_time": "2022-03-29T06:50:39.566098",
     "exception": false,
     "start_time": "2022-03-29T06:50:39.069353",
     "status": "completed"
    },
    "tags": []
   },
   "outputs": [
    {
     "data": {
      "text/plain": [
       "<AxesSubplot:xlabel='Family_size', ylabel='Survived'>"
      ]
     },
     "execution_count": 32,
     "metadata": {},
     "output_type": "execute_result"
    },
    {
     "data": {
      "image/png": "[encoded data removed]",
      "text/plain": [
       "<Figure size 432x288 with 1 Axes>"
      ]
     },
     "metadata": {
      "needs_background": "light"
     },
     "output_type": "display_data"
    }
   ],
   "source": [
    "sns.barplot(x='Family_size', y='Survived', data=train_df)"
   ]
  },
  {
   "cell_type": "code",
   "execution_count": 33,
   "id": "7f0144bb",
   "metadata": {
    "execution": {
     "iopub.execute_input": "2022-03-29T06:50:39.680756Z",
     "iopub.status.busy": "2022-03-29T06:50:39.680159Z",
     "iopub.status.idle": "2022-03-29T06:50:40.016893Z",
     "shell.execute_reply": "2022-03-29T06:50:40.017499Z",
     "shell.execute_reply.started": "2022-03-29T06:45:25.715152Z"
    },
    "papermill": {
     "duration": 0.395673,
     "end_time": "2022-03-29T06:50:40.017676",
     "exception": false,
     "start_time": "2022-03-29T06:50:39.622003",
     "status": "completed"
    },
    "tags": []
   },
   "outputs": [
    {
     "data": {
      "text/plain": [
       "<AxesSubplot:xlabel='Alone', ylabel='Survived'>"
      ]
     },
     "execution_count": 33,
     "metadata": {},
     "output_type": "execute_result"
    },
    {
     "data": {
      "image/png": "[encoded data removed]",
      "text/plain": [
       "<Figure size 432x288 with 1 Axes>"
      ]
     },
     "metadata": {
      "needs_background": "light"
     },
     "output_type": "display_data"
    }
   ],
   "source": [
    "sns.barplot(x='Alone', y='Survived', data=train_df)"
   ]
  },
  {
   "cell_type": "code",
   "execution_count": 34,
   "id": "54a1eeee",
   "metadata": {
    "execution": {
     "iopub.execute_input": "2022-03-29T06:50:40.133782Z",
     "iopub.status.busy": "2022-03-29T06:50:40.133234Z",
     "iopub.status.idle": "2022-03-29T06:50:40.154888Z",
     "shell.execute_reply": "2022-03-29T06:50:40.154337Z",
     "shell.execute_reply.started": "2022-03-29T06:45:25.973615Z"
    },
    "papermill": {
     "duration": 0.080811,
     "end_time": "2022-03-29T06:50:40.155015",
     "exception": false,
     "start_time": "2022-03-29T06:50:40.074204",
     "status": "completed"
    },
    "tags": []
   },
   "outputs": [
    {
     "data": {
      "text/html": [
       "<div>\n",
       "<style scoped>\n",
       "    .dataframe tbody tr th:only-of-type {\n",
       "        vertical-align: middle;\n",
       "    }\n",
       "\n",
       "    .dataframe tbody tr th {\n",
       "        vertical-align: top;\n",
       "    }\n",
       "\n",
       "    .dataframe thead th {\n",
       "        text-align: right;\n",
       "    }\n",
       "</style>\n",
       "<table border=\"1\" class=\"dataframe\">\n",
       "  <thead>\n",
       "    <tr style=\"text-align: right;\">\n",
       "      <th></th>\n",
       "      <th>PassengerId</th>\n",
       "      <th>Survived</th>\n",
       "      <th>Pclass</th>\n",
       "      <th>Name</th>\n",
       "      <th>Sex</th>\n",
       "      <th>Age</th>\n",
       "      <th>Ticket</th>\n",
       "      <th>Fare</th>\n",
       "      <th>Cabin</th>\n",
       "      <th>Embarked</th>\n",
       "      <th>Acronym</th>\n",
       "      <th>Family_size</th>\n",
       "      <th>Alone</th>\n",
       "    </tr>\n",
       "  </thead>\n",
       "  <tbody>\n",
       "    <tr>\n",
       "      <th>2</th>\n",
       "      <td>3</td>\n",
       "      <td>1</td>\n",
       "      <td>3</td>\n",
       "      <td>Heikkinen, Miss. Laina</td>\n",
       "      <td>female</td>\n",
       "      <td>26.00000</td>\n",
       "      <td>STON/O2. 3101282</td>\n",
       "      <td>7.9250</td>\n",
       "      <td>NaN</td>\n",
       "      <td>S</td>\n",
       "      <td>Miss</td>\n",
       "      <td>1</td>\n",
       "      <td>1</td>\n",
       "    </tr>\n",
       "    <tr>\n",
       "      <th>4</th>\n",
       "      <td>5</td>\n",
       "      <td>0</td>\n",
       "      <td>3</td>\n",
       "      <td>Allen, Mr. William Henry</td>\n",
       "      <td>male</td>\n",
       "      <td>35.00000</td>\n",
       "      <td>373450</td>\n",
       "      <td>8.0500</td>\n",
       "      <td>NaN</td>\n",
       "      <td>S</td>\n",
       "      <td>Mr</td>\n",
       "      <td>1</td>\n",
       "      <td>1</td>\n",
       "    </tr>\n",
       "    <tr>\n",
       "      <th>5</th>\n",
       "      <td>6</td>\n",
       "      <td>0</td>\n",
       "      <td>3</td>\n",
       "      <td>Moran, Mr. James</td>\n",
       "      <td>male</td>\n",
       "      <td>32.36809</td>\n",
       "      <td>330877</td>\n",
       "      <td>8.4583</td>\n",
       "      <td>NaN</td>\n",
       "      <td>Q</td>\n",
       "      <td>Mr</td>\n",
       "      <td>1</td>\n",
       "      <td>1</td>\n",
       "    </tr>\n",
       "    <tr>\n",
       "      <th>6</th>\n",
       "      <td>7</td>\n",
       "      <td>0</td>\n",
       "      <td>1</td>\n",
       "      <td>McCarthy, Mr. Timothy J</td>\n",
       "      <td>male</td>\n",
       "      <td>54.00000</td>\n",
       "      <td>17463</td>\n",
       "      <td>51.8625</td>\n",
       "      <td>E46</td>\n",
       "      <td>S</td>\n",
       "      <td>Mr</td>\n",
       "      <td>1</td>\n",
       "      <td>1</td>\n",
       "    </tr>\n",
       "    <tr>\n",
       "      <th>7</th>\n",
       "      <td>8</td>\n",
       "      <td>0</td>\n",
       "      <td>3</td>\n",
       "      <td>Palsson, Master. Gosta Leonard</td>\n",
       "      <td>male</td>\n",
       "      <td>2.00000</td>\n",
       "      <td>349909</td>\n",
       "      <td>21.0750</td>\n",
       "      <td>NaN</td>\n",
       "      <td>S</td>\n",
       "      <td>Master</td>\n",
       "      <td>5</td>\n",
       "      <td>0</td>\n",
       "    </tr>\n",
       "    <tr>\n",
       "      <th>...</th>\n",
       "      <td>...</td>\n",
       "      <td>...</td>\n",
       "      <td>...</td>\n",
       "      <td>...</td>\n",
       "      <td>...</td>\n",
       "      <td>...</td>\n",
       "      <td>...</td>\n",
       "      <td>...</td>\n",
       "      <td>...</td>\n",
       "      <td>...</td>\n",
       "      <td>...</td>\n",
       "      <td>...</td>\n",
       "      <td>...</td>\n",
       "    </tr>\n",
       "    <tr>\n",
       "      <th>885</th>\n",
       "      <td>886</td>\n",
       "      <td>0</td>\n",
       "      <td>3</td>\n",
       "      <td>Rice, Mrs. William (Margaret Norton)</td>\n",
       "      <td>female</td>\n",
       "      <td>39.00000</td>\n",
       "      <td>382652</td>\n",
       "      <td>29.1250</td>\n",
       "      <td>NaN</td>\n",
       "      <td>Q</td>\n",
       "      <td>Mrs</td>\n",
       "      <td>6</td>\n",
       "      <td>0</td>\n",
       "    </tr>\n",
       "    <tr>\n",
       "      <th>886</th>\n",
       "      <td>887</td>\n",
       "      <td>0</td>\n",
       "      <td>2</td>\n",
       "      <td>Montvila, Rev. Juozas</td>\n",
       "      <td>male</td>\n",
       "      <td>27.00000</td>\n",
       "      <td>211536</td>\n",
       "      <td>13.0000</td>\n",
       "      <td>NaN</td>\n",
       "      <td>S</td>\n",
       "      <td>Rare</td>\n",
       "      <td>1</td>\n",
       "      <td>1</td>\n",
       "    </tr>\n",
       "    <tr>\n",
       "      <th>887</th>\n",
       "      <td>888</td>\n",
       "      <td>1</td>\n",
       "      <td>1</td>\n",
       "      <td>Graham, Miss. Margaret Edith</td>\n",
       "      <td>female</td>\n",
       "      <td>19.00000</td>\n",
       "      <td>112053</td>\n",
       "      <td>30.0000</td>\n",
       "      <td>B42</td>\n",
       "      <td>S</td>\n",
       "      <td>Miss</td>\n",
       "      <td>1</td>\n",
       "      <td>1</td>\n",
       "    </tr>\n",
       "    <tr>\n",
       "      <th>889</th>\n",
       "      <td>890</td>\n",
       "      <td>1</td>\n",
       "      <td>1</td>\n",
       "      <td>Behr, Mr. Karl Howell</td>\n",
       "      <td>male</td>\n",
       "      <td>26.00000</td>\n",
       "      <td>111369</td>\n",
       "      <td>30.0000</td>\n",
       "      <td>C148</td>\n",
       "      <td>C</td>\n",
       "      <td>Mr</td>\n",
       "      <td>1</td>\n",
       "      <td>1</td>\n",
       "    </tr>\n",
       "    <tr>\n",
       "      <th>890</th>\n",
       "      <td>891</td>\n",
       "      <td>0</td>\n",
       "      <td>3</td>\n",
       "      <td>Dooley, Mr. Patrick</td>\n",
       "      <td>male</td>\n",
       "      <td>32.00000</td>\n",
       "      <td>370376</td>\n",
       "      <td>7.7500</td>\n",
       "      <td>NaN</td>\n",
       "      <td>Q</td>\n",
       "      <td>Mr</td>\n",
       "      <td>1</td>\n",
       "      <td>1</td>\n",
       "    </tr>\n",
       "  </tbody>\n",
       "</table>\n",
       "<p>586 rows × 13 columns</p>\n",
       "</div>"
      ],
      "text/plain": [
       "     PassengerId  Survived  Pclass                                  Name  \\\n",
       "2              3         1       3                Heikkinen, Miss. Laina   \n",
       "4              5         0       3              Allen, Mr. William Henry   \n",
       "5              6         0       3                      Moran, Mr. James   \n",
       "6              7         0       1               McCarthy, Mr. Timothy J   \n",
       "7              8         0       3        Palsson, Master. Gosta Leonard   \n",
       "..           ...       ...     ...                                   ...   \n",
       "885          886         0       3  Rice, Mrs. William (Margaret Norton)   \n",
       "886          887         0       2                 Montvila, Rev. Juozas   \n",
       "887          888         1       1          Graham, Miss. Margaret Edith   \n",
       "889          890         1       1                 Behr, Mr. Karl Howell   \n",
       "890          891         0       3                   Dooley, Mr. Patrick   \n",
       "\n",
       "        Sex       Age            Ticket     Fare Cabin Embarked Acronym  \\\n",
       "2    female  26.00000  STON/O2. 3101282   7.9250   NaN        S    Miss   \n",
       "4      male  35.00000            373450   8.0500   NaN        S      Mr   \n",
       "5      male  32.36809            330877   8.4583   NaN        Q      Mr   \n",
       "6      male  54.00000             17463  51.8625   E46        S      Mr   \n",
       "7      male   2.00000            349909  21.0750   NaN        S  Master   \n",
       "..      ...       ...               ...      ...   ...      ...     ...   \n",
       "885  female  39.00000            382652  29.1250   NaN        Q     Mrs   \n",
       "886    male  27.00000            211536  13.0000   NaN        S    Rare   \n",
       "887  female  19.00000            112053  30.0000   B42        S    Miss   \n",
       "889    male  26.00000            111369  30.0000  C148        C      Mr   \n",
       "890    male  32.00000            370376   7.7500   NaN        Q      Mr   \n",
       "\n",
       "     Family_size  Alone  \n",
       "2              1      1  \n",
       "4              1      1  \n",
       "5              1      1  \n",
       "6              1      1  \n",
       "7              5      0  \n",
       "..           ...    ...  \n",
       "885            6      0  \n",
       "886            1      1  \n",
       "887            1      1  \n",
       "889            1      1  \n",
       "890            1      1  \n",
       "\n",
       "[586 rows x 13 columns]"
      ]
     },
     "execution_count": 34,
     "metadata": {},
     "output_type": "execute_result"
    }
   ],
   "source": [
    "train_df.loc[((train_df['Family_size'].isin([5,6,7])) | (train_df['Family_size'] == 1))]"
   ]
  },
  {
   "cell_type": "code",
   "execution_count": 35,
   "id": "a7ac92f0",
   "metadata": {
    "execution": {
     "iopub.execute_input": "2022-03-29T06:50:40.277969Z",
     "iopub.status.busy": "2022-03-29T06:50:40.276890Z",
     "iopub.status.idle": "2022-03-29T06:50:40.280876Z",
     "shell.execute_reply": "2022-03-29T06:50:40.281308Z",
     "shell.execute_reply.started": "2022-03-29T06:45:26.232594Z"
    },
    "papermill": {
     "duration": 0.068563,
     "end_time": "2022-03-29T06:50:40.281460",
     "exception": false,
     "start_time": "2022-03-29T06:50:40.212897",
     "status": "completed"
    },
    "tags": []
   },
   "outputs": [],
   "source": [
    "train_df['Family_label'] = 0\n",
    "train_df.loc[((train_df['Family_size'].isin([5,6,7])) | (train_df['Family_size'] == 1)), 'Family_label'] = 1\n",
    "train_df.loc[(train_df['Family_size'].isin([2,3,4])), 'Family_label'] = 2"
   ]
  },
  {
   "cell_type": "code",
   "execution_count": 36,
   "id": "22d624bd",
   "metadata": {
    "execution": {
     "iopub.execute_input": "2022-03-29T06:50:40.400255Z",
     "iopub.status.busy": "2022-03-29T06:50:40.399347Z",
     "iopub.status.idle": "2022-03-29T06:50:40.406300Z",
     "shell.execute_reply": "2022-03-29T06:50:40.406842Z",
     "shell.execute_reply.started": "2022-03-29T06:45:26.467349Z"
    },
    "papermill": {
     "duration": 0.067888,
     "end_time": "2022-03-29T06:50:40.407005",
     "exception": false,
     "start_time": "2022-03-29T06:50:40.339117",
     "status": "completed"
    },
    "tags": []
   },
   "outputs": [],
   "source": [
    "test_df['Family_label'] = 0\n",
    "test_df.loc[((test_df['Family_size'].isin([5,6,7])) | (test_df['Family_size'] == 1)), 'Family_label'] = 1\n",
    "test_df.loc[(test_df['Family_size'].isin([2,3,4])), 'Family_label'] = 2"
   ]
  },
  {
   "cell_type": "code",
   "execution_count": 37,
   "id": "56783570",
   "metadata": {
    "execution": {
     "iopub.execute_input": "2022-03-29T06:50:40.526709Z",
     "iopub.status.busy": "2022-03-29T06:50:40.525815Z",
     "iopub.status.idle": "2022-03-29T06:50:40.544603Z",
     "shell.execute_reply": "2022-03-29T06:50:40.545088Z",
     "shell.execute_reply.started": "2022-03-29T06:45:26.572369Z"
    },
    "papermill": {
     "duration": 0.080438,
     "end_time": "2022-03-29T06:50:40.545250",
     "exception": false,
     "start_time": "2022-03-29T06:50:40.464812",
     "status": "completed"
    },
    "tags": []
   },
   "outputs": [
    {
     "data": {
      "text/html": [
       "<div>\n",
       "<style scoped>\n",
       "    .dataframe tbody tr th:only-of-type {\n",
       "        vertical-align: middle;\n",
       "    }\n",
       "\n",
       "    .dataframe tbody tr th {\n",
       "        vertical-align: top;\n",
       "    }\n",
       "\n",
       "    .dataframe thead th {\n",
       "        text-align: right;\n",
       "    }\n",
       "</style>\n",
       "<table border=\"1\" class=\"dataframe\">\n",
       "  <thead>\n",
       "    <tr style=\"text-align: right;\">\n",
       "      <th></th>\n",
       "      <th>PassengerId</th>\n",
       "      <th>Survived</th>\n",
       "      <th>Pclass</th>\n",
       "      <th>Name</th>\n",
       "      <th>Sex</th>\n",
       "      <th>Age</th>\n",
       "      <th>Ticket</th>\n",
       "      <th>Fare</th>\n",
       "      <th>Cabin</th>\n",
       "      <th>Embarked</th>\n",
       "      <th>Acronym</th>\n",
       "      <th>Family_size</th>\n",
       "      <th>Alone</th>\n",
       "      <th>Family_label</th>\n",
       "    </tr>\n",
       "  </thead>\n",
       "  <tbody>\n",
       "    <tr>\n",
       "      <th>59</th>\n",
       "      <td>60</td>\n",
       "      <td>0</td>\n",
       "      <td>3</td>\n",
       "      <td>Goodwin, Master. William Frederick</td>\n",
       "      <td>male</td>\n",
       "      <td>11.000000</td>\n",
       "      <td>CA 2144</td>\n",
       "      <td>46.90</td>\n",
       "      <td>NaN</td>\n",
       "      <td>S</td>\n",
       "      <td>Master</td>\n",
       "      <td>8</td>\n",
       "      <td>0</td>\n",
       "      <td>0</td>\n",
       "    </tr>\n",
       "    <tr>\n",
       "      <th>71</th>\n",
       "      <td>72</td>\n",
       "      <td>0</td>\n",
       "      <td>3</td>\n",
       "      <td>Goodwin, Miss. Lillian Amy</td>\n",
       "      <td>female</td>\n",
       "      <td>16.000000</td>\n",
       "      <td>CA 2144</td>\n",
       "      <td>46.90</td>\n",
       "      <td>NaN</td>\n",
       "      <td>S</td>\n",
       "      <td>Miss</td>\n",
       "      <td>8</td>\n",
       "      <td>0</td>\n",
       "      <td>0</td>\n",
       "    </tr>\n",
       "    <tr>\n",
       "      <th>159</th>\n",
       "      <td>160</td>\n",
       "      <td>0</td>\n",
       "      <td>3</td>\n",
       "      <td>Sage, Master. Thomas Henry</td>\n",
       "      <td>male</td>\n",
       "      <td>4.574167</td>\n",
       "      <td>CA. 2343</td>\n",
       "      <td>69.55</td>\n",
       "      <td>NaN</td>\n",
       "      <td>S</td>\n",
       "      <td>Master</td>\n",
       "      <td>11</td>\n",
       "      <td>0</td>\n",
       "      <td>0</td>\n",
       "    </tr>\n",
       "    <tr>\n",
       "      <th>180</th>\n",
       "      <td>181</td>\n",
       "      <td>0</td>\n",
       "      <td>3</td>\n",
       "      <td>Sage, Miss. Constance Gladys</td>\n",
       "      <td>female</td>\n",
       "      <td>21.804054</td>\n",
       "      <td>CA. 2343</td>\n",
       "      <td>69.55</td>\n",
       "      <td>NaN</td>\n",
       "      <td>S</td>\n",
       "      <td>Miss</td>\n",
       "      <td>11</td>\n",
       "      <td>0</td>\n",
       "      <td>0</td>\n",
       "    </tr>\n",
       "    <tr>\n",
       "      <th>201</th>\n",
       "      <td>202</td>\n",
       "      <td>0</td>\n",
       "      <td>3</td>\n",
       "      <td>Sage, Mr. Frederick</td>\n",
       "      <td>male</td>\n",
       "      <td>32.368090</td>\n",
       "      <td>CA. 2343</td>\n",
       "      <td>69.55</td>\n",
       "      <td>NaN</td>\n",
       "      <td>S</td>\n",
       "      <td>Mr</td>\n",
       "      <td>11</td>\n",
       "      <td>0</td>\n",
       "      <td>0</td>\n",
       "    </tr>\n",
       "    <tr>\n",
       "      <th>324</th>\n",
       "      <td>325</td>\n",
       "      <td>0</td>\n",
       "      <td>3</td>\n",
       "      <td>Sage, Mr. George John Jr</td>\n",
       "      <td>male</td>\n",
       "      <td>32.368090</td>\n",
       "      <td>CA. 2343</td>\n",
       "      <td>69.55</td>\n",
       "      <td>NaN</td>\n",
       "      <td>S</td>\n",
       "      <td>Mr</td>\n",
       "      <td>11</td>\n",
       "      <td>0</td>\n",
       "      <td>0</td>\n",
       "    </tr>\n",
       "    <tr>\n",
       "      <th>386</th>\n",
       "      <td>387</td>\n",
       "      <td>0</td>\n",
       "      <td>3</td>\n",
       "      <td>Goodwin, Master. Sidney Leonard</td>\n",
       "      <td>male</td>\n",
       "      <td>1.000000</td>\n",
       "      <td>CA 2144</td>\n",
       "      <td>46.90</td>\n",
       "      <td>NaN</td>\n",
       "      <td>S</td>\n",
       "      <td>Master</td>\n",
       "      <td>8</td>\n",
       "      <td>0</td>\n",
       "      <td>0</td>\n",
       "    </tr>\n",
       "    <tr>\n",
       "      <th>480</th>\n",
       "      <td>481</td>\n",
       "      <td>0</td>\n",
       "      <td>3</td>\n",
       "      <td>Goodwin, Master. Harold Victor</td>\n",
       "      <td>male</td>\n",
       "      <td>9.000000</td>\n",
       "      <td>CA 2144</td>\n",
       "      <td>46.90</td>\n",
       "      <td>NaN</td>\n",
       "      <td>S</td>\n",
       "      <td>Master</td>\n",
       "      <td>8</td>\n",
       "      <td>0</td>\n",
       "      <td>0</td>\n",
       "    </tr>\n",
       "    <tr>\n",
       "      <th>678</th>\n",
       "      <td>679</td>\n",
       "      <td>0</td>\n",
       "      <td>3</td>\n",
       "      <td>Goodwin, Mrs. Frederick (Augusta Tyler)</td>\n",
       "      <td>female</td>\n",
       "      <td>43.000000</td>\n",
       "      <td>CA 2144</td>\n",
       "      <td>46.90</td>\n",
       "      <td>NaN</td>\n",
       "      <td>S</td>\n",
       "      <td>Mrs</td>\n",
       "      <td>8</td>\n",
       "      <td>0</td>\n",
       "      <td>0</td>\n",
       "    </tr>\n",
       "    <tr>\n",
       "      <th>683</th>\n",
       "      <td>684</td>\n",
       "      <td>0</td>\n",
       "      <td>3</td>\n",
       "      <td>Goodwin, Mr. Charles Edward</td>\n",
       "      <td>male</td>\n",
       "      <td>14.000000</td>\n",
       "      <td>CA 2144</td>\n",
       "      <td>46.90</td>\n",
       "      <td>NaN</td>\n",
       "      <td>S</td>\n",
       "      <td>Mr</td>\n",
       "      <td>8</td>\n",
       "      <td>0</td>\n",
       "      <td>0</td>\n",
       "    </tr>\n",
       "    <tr>\n",
       "      <th>792</th>\n",
       "      <td>793</td>\n",
       "      <td>0</td>\n",
       "      <td>3</td>\n",
       "      <td>Sage, Miss. Stella Anna</td>\n",
       "      <td>female</td>\n",
       "      <td>21.804054</td>\n",
       "      <td>CA. 2343</td>\n",
       "      <td>69.55</td>\n",
       "      <td>NaN</td>\n",
       "      <td>S</td>\n",
       "      <td>Miss</td>\n",
       "      <td>11</td>\n",
       "      <td>0</td>\n",
       "      <td>0</td>\n",
       "    </tr>\n",
       "    <tr>\n",
       "      <th>846</th>\n",
       "      <td>847</td>\n",
       "      <td>0</td>\n",
       "      <td>3</td>\n",
       "      <td>Sage, Mr. Douglas Bullen</td>\n",
       "      <td>male</td>\n",
       "      <td>32.368090</td>\n",
       "      <td>CA. 2343</td>\n",
       "      <td>69.55</td>\n",
       "      <td>NaN</td>\n",
       "      <td>S</td>\n",
       "      <td>Mr</td>\n",
       "      <td>11</td>\n",
       "      <td>0</td>\n",
       "      <td>0</td>\n",
       "    </tr>\n",
       "    <tr>\n",
       "      <th>863</th>\n",
       "      <td>864</td>\n",
       "      <td>0</td>\n",
       "      <td>3</td>\n",
       "      <td>Sage, Miss. Dorothy Edith \"Dolly\"</td>\n",
       "      <td>female</td>\n",
       "      <td>21.804054</td>\n",
       "      <td>CA. 2343</td>\n",
       "      <td>69.55</td>\n",
       "      <td>NaN</td>\n",
       "      <td>S</td>\n",
       "      <td>Miss</td>\n",
       "      <td>11</td>\n",
       "      <td>0</td>\n",
       "      <td>0</td>\n",
       "    </tr>\n",
       "  </tbody>\n",
       "</table>\n",
       "</div>"
      ],
      "text/plain": [
       "     PassengerId  Survived  Pclass                                     Name  \\\n",
       "59            60         0       3       Goodwin, Master. William Frederick   \n",
       "71            72         0       3               Goodwin, Miss. Lillian Amy   \n",
       "159          160         0       3               Sage, Master. Thomas Henry   \n",
       "180          181         0       3             Sage, Miss. Constance Gladys   \n",
       "201          202         0       3                      Sage, Mr. Frederick   \n",
       "324          325         0       3                 Sage, Mr. George John Jr   \n",
       "386          387         0       3          Goodwin, Master. Sidney Leonard   \n",
       "480          481         0       3           Goodwin, Master. Harold Victor   \n",
       "678          679         0       3  Goodwin, Mrs. Frederick (Augusta Tyler)   \n",
       "683          684         0       3              Goodwin, Mr. Charles Edward   \n",
       "792          793         0       3                  Sage, Miss. Stella Anna   \n",
       "846          847         0       3                 Sage, Mr. Douglas Bullen   \n",
       "863          864         0       3        Sage, Miss. Dorothy Edith \"Dolly\"   \n",
       "\n",
       "        Sex        Age    Ticket   Fare Cabin Embarked Acronym  Family_size  \\\n",
       "59     male  11.000000   CA 2144  46.90   NaN        S  Master            8   \n",
       "71   female  16.000000   CA 2144  46.90   NaN        S    Miss            8   \n",
       "159    male   4.574167  CA. 2343  69.55   NaN        S  Master           11   \n",
       "180  female  21.804054  CA. 2343  69.55   NaN        S    Miss           11   \n",
       "201    male  32.368090  CA. 2343  69.55   NaN        S      Mr           11   \n",
       "324    male  32.368090  CA. 2343  69.55   NaN        S      Mr           11   \n",
       "386    male   1.000000   CA 2144  46.90   NaN        S  Master            8   \n",
       "480    male   9.000000   CA 2144  46.90   NaN        S  Master            8   \n",
       "678  female  43.000000   CA 2144  46.90   NaN        S     Mrs            8   \n",
       "683    male  14.000000   CA 2144  46.90   NaN        S      Mr            8   \n",
       "792  female  21.804054  CA. 2343  69.55   NaN        S    Miss           11   \n",
       "846    male  32.368090  CA. 2343  69.55   NaN        S      Mr           11   \n",
       "863  female  21.804054  CA. 2343  69.55   NaN        S    Miss           11   \n",
       "\n",
       "     Alone  Family_label  \n",
       "59       0             0  \n",
       "71       0             0  \n",
       "159      0             0  \n",
       "180      0             0  \n",
       "201      0             0  \n",
       "324      0             0  \n",
       "386      0             0  \n",
       "480      0             0  \n",
       "678      0             0  \n",
       "683      0             0  \n",
       "792      0             0  \n",
       "846      0             0  \n",
       "863      0             0  "
      ]
     },
     "execution_count": 37,
     "metadata": {},
     "output_type": "execute_result"
    }
   ],
   "source": [
    "train_df[train_df['Family_size'].isin([8, 9, 10, 11])]"
   ]
  },
  {
   "cell_type": "code",
   "execution_count": 38,
   "id": "a3cc8b50",
   "metadata": {
    "execution": {
     "iopub.execute_input": "2022-03-29T06:50:40.668220Z",
     "iopub.status.busy": "2022-03-29T06:50:40.667328Z",
     "iopub.status.idle": "2022-03-29T06:50:40.920156Z",
     "shell.execute_reply": "2022-03-29T06:50:40.920548Z",
     "shell.execute_reply.started": "2022-03-29T06:45:26.865445Z"
    },
    "papermill": {
     "duration": 0.317262,
     "end_time": "2022-03-29T06:50:40.920723",
     "exception": false,
     "start_time": "2022-03-29T06:50:40.603461",
     "status": "completed"
    },
    "tags": []
   },
   "outputs": [
    {
     "data": {
      "text/plain": [
       "<AxesSubplot:xlabel='Family_label', ylabel='Survived'>"
      ]
     },
     "execution_count": 38,
     "metadata": {},
     "output_type": "execute_result"
    },
    {
     "data": {
      "image/png": "[encoded data removed]",
      "text/plain": [
       "<Figure size 432x288 with 1 Axes>"
      ]
     },
     "metadata": {
      "needs_background": "light"
     },
     "output_type": "display_data"
    }
   ],
   "source": [
    "sns.barplot(x='Family_label', y='Survived', data=train_df)"
   ]
  },
  {
   "cell_type": "code",
   "execution_count": 39,
   "id": "f743d88d",
   "metadata": {
    "execution": {
     "iopub.execute_input": "2022-03-29T06:50:41.060989Z",
     "iopub.status.busy": "2022-03-29T06:50:41.046515Z",
     "iopub.status.idle": "2022-03-29T06:50:41.354192Z",
     "shell.execute_reply": "2022-03-29T06:50:41.354797Z",
     "shell.execute_reply.started": "2022-03-29T06:45:27.169413Z"
    },
    "papermill": {
     "duration": 0.375207,
     "end_time": "2022-03-29T06:50:41.355018",
     "exception": false,
     "start_time": "2022-03-29T06:50:40.979811",
     "status": "completed"
    },
    "tags": []
   },
   "outputs": [
    {
     "data": {
      "text/plain": [
       "<seaborn.axisgrid.FacetGrid at 0x7efc77cdbe50>"
      ]
     },
     "execution_count": 39,
     "metadata": {},
     "output_type": "execute_result"
    },
    {
     "data": {
      "image/png": "[encoded data removed]",
      "text/plain": [
       "<Figure size 360x360 with 1 Axes>"
      ]
     },
     "metadata": {
      "needs_background": "light"
     },
     "output_type": "display_data"
    }
   ],
   "source": [
    "sns.catplot(x='Pclass', y='Fare', data=train_df, kind='bar')"
   ]
  },
  {
   "cell_type": "code",
   "execution_count": 40,
   "id": "c31c763b",
   "metadata": {
    "execution": {
     "iopub.execute_input": "2022-03-29T06:50:41.483320Z",
     "iopub.status.busy": "2022-03-29T06:50:41.482731Z",
     "iopub.status.idle": "2022-03-29T06:50:41.495944Z",
     "shell.execute_reply": "2022-03-29T06:50:41.496466Z",
     "shell.execute_reply.started": "2022-03-29T06:45:27.542905Z"
    },
    "papermill": {
     "duration": 0.080555,
     "end_time": "2022-03-29T06:50:41.496636",
     "exception": false,
     "start_time": "2022-03-29T06:50:41.416081",
     "status": "completed"
    },
    "tags": []
   },
   "outputs": [
    {
     "data": {
      "text/html": [
       "<div>\n",
       "<style scoped>\n",
       "    .dataframe tbody tr th:only-of-type {\n",
       "        vertical-align: middle;\n",
       "    }\n",
       "\n",
       "    .dataframe tbody tr th {\n",
       "        vertical-align: top;\n",
       "    }\n",
       "\n",
       "    .dataframe thead th {\n",
       "        text-align: right;\n",
       "    }\n",
       "</style>\n",
       "<table border=\"1\" class=\"dataframe\">\n",
       "  <thead>\n",
       "    <tr style=\"text-align: right;\">\n",
       "      <th></th>\n",
       "      <th>PassengerId</th>\n",
       "      <th>Pclass</th>\n",
       "      <th>Name</th>\n",
       "      <th>Sex</th>\n",
       "      <th>Age</th>\n",
       "      <th>Ticket</th>\n",
       "      <th>Fare</th>\n",
       "      <th>Cabin</th>\n",
       "      <th>Embarked</th>\n",
       "      <th>Acronym</th>\n",
       "      <th>Family_size</th>\n",
       "      <th>Alone</th>\n",
       "      <th>Family_label</th>\n",
       "    </tr>\n",
       "  </thead>\n",
       "  <tbody>\n",
       "    <tr>\n",
       "      <th>152</th>\n",
       "      <td>1044</td>\n",
       "      <td>3</td>\n",
       "      <td>Storey, Mr. Thomas</td>\n",
       "      <td>male</td>\n",
       "      <td>60.5</td>\n",
       "      <td>3701</td>\n",
       "      <td>NaN</td>\n",
       "      <td>NaN</td>\n",
       "      <td>S</td>\n",
       "      <td>Mr</td>\n",
       "      <td>1</td>\n",
       "      <td>1</td>\n",
       "      <td>1</td>\n",
       "    </tr>\n",
       "  </tbody>\n",
       "</table>\n",
       "</div>"
      ],
      "text/plain": [
       "     PassengerId  Pclass                Name   Sex   Age Ticket  Fare Cabin  \\\n",
       "152         1044       3  Storey, Mr. Thomas  male  60.5   3701   NaN   NaN   \n",
       "\n",
       "    Embarked Acronym  Family_size  Alone  Family_label  \n",
       "152        S      Mr            1      1             1  "
      ]
     },
     "execution_count": 40,
     "metadata": {},
     "output_type": "execute_result"
    }
   ],
   "source": [
    "test_df[test_df['Fare'].isna()]"
   ]
  },
  {
   "cell_type": "code",
   "execution_count": 41,
   "id": "94765fea",
   "metadata": {
    "execution": {
     "iopub.execute_input": "2022-03-29T06:50:41.621654Z",
     "iopub.status.busy": "2022-03-29T06:50:41.621084Z",
     "iopub.status.idle": "2022-03-29T06:50:41.627666Z",
     "shell.execute_reply": "2022-03-29T06:50:41.628181Z",
     "shell.execute_reply.started": "2022-03-29T06:45:27.617584Z"
    },
    "papermill": {
     "duration": 0.070479,
     "end_time": "2022-03-29T06:50:41.628331",
     "exception": false,
     "start_time": "2022-03-29T06:50:41.557852",
     "status": "completed"
    },
    "tags": []
   },
   "outputs": [
    {
     "data": {
      "text/plain": [
       "7.987500000000001"
      ]
     },
     "execution_count": 41,
     "metadata": {},
     "output_type": "execute_result"
    }
   ],
   "source": [
    "test_df[(test_df['Pclass']==3) & (test_df['Sex']=='male') & (test_df['Embarked']=='S')]['Fare'].median()"
   ]
  },
  {
   "cell_type": "code",
   "execution_count": 42,
   "id": "8769fe40",
   "metadata": {
    "execution": {
     "iopub.execute_input": "2022-03-29T06:50:41.753377Z",
     "iopub.status.busy": "2022-03-29T06:50:41.752842Z",
     "iopub.status.idle": "2022-03-29T06:50:41.758041Z",
     "shell.execute_reply": "2022-03-29T06:50:41.758546Z",
     "shell.execute_reply.started": "2022-03-29T06:45:27.716802Z"
    },
    "papermill": {
     "duration": 0.069456,
     "end_time": "2022-03-29T06:50:41.758721",
     "exception": false,
     "start_time": "2022-03-29T06:50:41.689265",
     "status": "completed"
    },
    "tags": []
   },
   "outputs": [],
   "source": [
    "test_df['Fare'].fillna(test_df[(test_df['Pclass']==3) & (test_df['Sex']=='male') & (test_df['Embarked']=='S')]['Fare'].median(), inplace=True)"
   ]
  },
  {
   "cell_type": "code",
   "execution_count": 43,
   "id": "6f95ebb2",
   "metadata": {
    "execution": {
     "iopub.execute_input": "2022-03-29T06:50:41.888487Z",
     "iopub.status.busy": "2022-03-29T06:50:41.887916Z",
     "iopub.status.idle": "2022-03-29T06:50:41.891111Z",
     "shell.execute_reply": "2022-03-29T06:50:41.891660Z",
     "shell.execute_reply.started": "2022-03-29T06:45:27.811262Z"
    },
    "papermill": {
     "duration": 0.072106,
     "end_time": "2022-03-29T06:50:41.891813",
     "exception": false,
     "start_time": "2022-03-29T06:50:41.819707",
     "status": "completed"
    },
    "tags": []
   },
   "outputs": [],
   "source": [
    "train_df['Cabin'].fillna('Unknown', inplace=True)\n",
    "train_df['Cabin_label'] = train_df['Cabin'].str.get(0)\n",
    "test_df['Cabin'].fillna('Unknown', inplace=True)\n",
    "test_df['Cabin_label'] = test_df['Cabin'].str.get(0)"
   ]
  },
  {
   "cell_type": "code",
   "execution_count": 44,
   "id": "3f2f5f58",
   "metadata": {
    "execution": {
     "iopub.execute_input": "2022-03-29T06:50:42.026047Z",
     "iopub.status.busy": "2022-03-29T06:50:42.025017Z",
     "iopub.status.idle": "2022-03-29T06:50:42.532406Z",
     "shell.execute_reply": "2022-03-29T06:50:42.531910Z",
     "shell.execute_reply.started": "2022-03-29T06:45:27.901569Z"
    },
    "papermill": {
     "duration": 0.578458,
     "end_time": "2022-03-29T06:50:42.532547",
     "exception": false,
     "start_time": "2022-03-29T06:50:41.954089",
     "status": "completed"
    },
    "tags": []
   },
   "outputs": [
    {
     "data": {
      "text/plain": [
       "<seaborn.axisgrid.FacetGrid at 0x7efc77d6a390>"
      ]
     },
     "execution_count": 44,
     "metadata": {},
     "output_type": "execute_result"
    },
    {
     "data": {
      "image/png": "[encoded data removed]",
      "text/plain": [
       "<Figure size 360x360 with 1 Axes>"
      ]
     },
     "metadata": {
      "needs_background": "light"
     },
     "output_type": "display_data"
    }
   ],
   "source": [
    "sns.catplot(x='Cabin_label', y='Survived', data=train_df, kind='bar')"
   ]
  },
  {
   "cell_type": "code",
   "execution_count": 45,
   "id": "b2c175d7",
   "metadata": {
    "execution": {
     "iopub.execute_input": "2022-03-29T06:50:42.671935Z",
     "iopub.status.busy": "2022-03-29T06:50:42.667760Z",
     "iopub.status.idle": "2022-03-29T06:50:42.686234Z",
     "shell.execute_reply": "2022-03-29T06:50:42.686687Z",
     "shell.execute_reply.started": "2022-03-29T06:45:28.502590Z"
    },
    "papermill": {
     "duration": 0.090973,
     "end_time": "2022-03-29T06:50:42.686856",
     "exception": false,
     "start_time": "2022-03-29T06:50:42.595883",
     "status": "completed"
    },
    "tags": []
   },
   "outputs": [],
   "source": [
    "ticket_counter_train = dict(train_df['Ticket'].value_counts())\n",
    "train_df['Ticket_group'] = train_df['Ticket'].map(ticket_counter_train)\n",
    "ticket_counter_test = dict(test_df['Ticket'].value_counts())\n",
    "test_df['Ticket_group'] = test_df['Ticket'].map(ticket_counter_test)"
   ]
  },
  {
   "cell_type": "code",
   "execution_count": 46,
   "id": "35c3c3c2",
   "metadata": {
    "execution": {
     "iopub.execute_input": "2022-03-29T06:50:42.830718Z",
     "iopub.status.busy": "2022-03-29T06:50:42.830009Z",
     "iopub.status.idle": "2022-03-29T06:50:43.390254Z",
     "shell.execute_reply": "2022-03-29T06:50:43.389675Z",
     "shell.execute_reply.started": "2022-03-29T06:45:28.523318Z"
    },
    "papermill": {
     "duration": 0.634149,
     "end_time": "2022-03-29T06:50:43.390382",
     "exception": false,
     "start_time": "2022-03-29T06:50:42.756233",
     "status": "completed"
    },
    "tags": []
   },
   "outputs": [
    {
     "data": {
      "text/plain": [
       "<seaborn.axisgrid.FacetGrid at 0x7efc77c3c590>"
      ]
     },
     "execution_count": 46,
     "metadata": {},
     "output_type": "execute_result"
    },
    {
     "data": {
      "image/png": "[encoded data removed]",
      "text/plain": [
       "<Figure size 360x360 with 1 Axes>"
      ]
     },
     "metadata": {
      "needs_background": "light"
     },
     "output_type": "display_data"
    }
   ],
   "source": [
    "sns.catplot(x='Ticket_group', y='Survived', data=train_df, kind='bar')"
   ]
  },
  {
   "cell_type": "code",
   "execution_count": 47,
   "id": "712e6f08",
   "metadata": {
    "execution": {
     "iopub.execute_input": "2022-03-29T06:50:43.524271Z",
     "iopub.status.busy": "2022-03-29T06:50:43.523454Z",
     "iopub.status.idle": "2022-03-29T06:50:43.526062Z",
     "shell.execute_reply": "2022-03-29T06:50:43.526450Z",
     "shell.execute_reply.started": "2022-03-29T06:45:29.088407Z"
    },
    "papermill": {
     "duration": 0.072899,
     "end_time": "2022-03-29T06:50:43.526670",
     "exception": false,
     "start_time": "2022-03-29T06:50:43.453771",
     "status": "completed"
    },
    "tags": []
   },
   "outputs": [],
   "source": [
    "train_df['Ticket_label'] = 0\n",
    "train_df.loc[train_df['Ticket_group'].isin([2,3,4]), 'Ticket_label'] = 1"
   ]
  },
  {
   "cell_type": "code",
   "execution_count": 48,
   "id": "7b81e3c0",
   "metadata": {
    "execution": {
     "iopub.execute_input": "2022-03-29T06:50:43.660846Z",
     "iopub.status.busy": "2022-03-29T06:50:43.660198Z",
     "iopub.status.idle": "2022-03-29T06:50:43.663844Z",
     "shell.execute_reply": "2022-03-29T06:50:43.664233Z",
     "shell.execute_reply.started": "2022-03-29T06:45:29.098206Z"
    },
    "papermill": {
     "duration": 0.072937,
     "end_time": "2022-03-29T06:50:43.664393",
     "exception": false,
     "start_time": "2022-03-29T06:50:43.591456",
     "status": "completed"
    },
    "tags": []
   },
   "outputs": [],
   "source": [
    "test_df['Ticket_label'] = 0\n",
    "test_df.loc[test_df['Ticket_group'].isin([2,3,4]), 'Ticket_label'] = 1"
   ]
  },
  {
   "cell_type": "code",
   "execution_count": 49,
   "id": "d80228cb",
   "metadata": {
    "execution": {
     "iopub.execute_input": "2022-03-29T06:50:43.815854Z",
     "iopub.status.busy": "2022-03-29T06:50:43.794838Z",
     "iopub.status.idle": "2022-03-29T06:50:43.820215Z",
     "shell.execute_reply": "2022-03-29T06:50:43.819678Z",
     "shell.execute_reply.started": "2022-03-29T06:45:29.112111Z"
    },
    "papermill": {
     "duration": 0.093272,
     "end_time": "2022-03-29T06:50:43.820339",
     "exception": false,
     "start_time": "2022-03-29T06:50:43.727067",
     "status": "completed"
    },
    "tags": []
   },
   "outputs": [
    {
     "data": {
      "text/html": [
       "<div>\n",
       "<style scoped>\n",
       "    .dataframe tbody tr th:only-of-type {\n",
       "        vertical-align: middle;\n",
       "    }\n",
       "\n",
       "    .dataframe tbody tr th {\n",
       "        vertical-align: top;\n",
       "    }\n",
       "\n",
       "    .dataframe thead th {\n",
       "        text-align: right;\n",
       "    }\n",
       "</style>\n",
       "<table border=\"1\" class=\"dataframe\">\n",
       "  <thead>\n",
       "    <tr style=\"text-align: right;\">\n",
       "      <th></th>\n",
       "      <th>PassengerId</th>\n",
       "      <th>Survived</th>\n",
       "      <th>Pclass</th>\n",
       "      <th>Name</th>\n",
       "      <th>Sex</th>\n",
       "      <th>Age</th>\n",
       "      <th>Ticket</th>\n",
       "      <th>Fare</th>\n",
       "      <th>Cabin</th>\n",
       "      <th>Embarked</th>\n",
       "      <th>Acronym</th>\n",
       "      <th>Family_size</th>\n",
       "      <th>Alone</th>\n",
       "      <th>Family_label</th>\n",
       "      <th>Cabin_label</th>\n",
       "      <th>Ticket_group</th>\n",
       "      <th>Ticket_label</th>\n",
       "    </tr>\n",
       "  </thead>\n",
       "  <tbody>\n",
       "    <tr>\n",
       "      <th>0</th>\n",
       "      <td>1</td>\n",
       "      <td>0</td>\n",
       "      <td>3</td>\n",
       "      <td>Braund, Mr. Owen Harris</td>\n",
       "      <td>male</td>\n",
       "      <td>22.000000</td>\n",
       "      <td>A/5 21171</td>\n",
       "      <td>7.2500</td>\n",
       "      <td>Unknown</td>\n",
       "      <td>S</td>\n",
       "      <td>Mr</td>\n",
       "      <td>2</td>\n",
       "      <td>0</td>\n",
       "      <td>2</td>\n",
       "      <td>U</td>\n",
       "      <td>1</td>\n",
       "      <td>0</td>\n",
       "    </tr>\n",
       "    <tr>\n",
       "      <th>1</th>\n",
       "      <td>2</td>\n",
       "      <td>1</td>\n",
       "      <td>1</td>\n",
       "      <td>Cumings, Mrs. John Bradley (Florence Briggs Th...</td>\n",
       "      <td>female</td>\n",
       "      <td>38.000000</td>\n",
       "      <td>PC 17599</td>\n",
       "      <td>71.2833</td>\n",
       "      <td>C85</td>\n",
       "      <td>C</td>\n",
       "      <td>Mrs</td>\n",
       "      <td>2</td>\n",
       "      <td>0</td>\n",
       "      <td>2</td>\n",
       "      <td>C</td>\n",
       "      <td>1</td>\n",
       "      <td>0</td>\n",
       "    </tr>\n",
       "    <tr>\n",
       "      <th>2</th>\n",
       "      <td>3</td>\n",
       "      <td>1</td>\n",
       "      <td>3</td>\n",
       "      <td>Heikkinen, Miss. Laina</td>\n",
       "      <td>female</td>\n",
       "      <td>26.000000</td>\n",
       "      <td>STON/O2. 3101282</td>\n",
       "      <td>7.9250</td>\n",
       "      <td>Unknown</td>\n",
       "      <td>S</td>\n",
       "      <td>Miss</td>\n",
       "      <td>1</td>\n",
       "      <td>1</td>\n",
       "      <td>1</td>\n",
       "      <td>U</td>\n",
       "      <td>1</td>\n",
       "      <td>0</td>\n",
       "    </tr>\n",
       "    <tr>\n",
       "      <th>3</th>\n",
       "      <td>4</td>\n",
       "      <td>1</td>\n",
       "      <td>1</td>\n",
       "      <td>Futrelle, Mrs. Jacques Heath (Lily May Peel)</td>\n",
       "      <td>female</td>\n",
       "      <td>35.000000</td>\n",
       "      <td>113803</td>\n",
       "      <td>53.1000</td>\n",
       "      <td>C123</td>\n",
       "      <td>S</td>\n",
       "      <td>Mrs</td>\n",
       "      <td>2</td>\n",
       "      <td>0</td>\n",
       "      <td>2</td>\n",
       "      <td>C</td>\n",
       "      <td>2</td>\n",
       "      <td>1</td>\n",
       "    </tr>\n",
       "    <tr>\n",
       "      <th>4</th>\n",
       "      <td>5</td>\n",
       "      <td>0</td>\n",
       "      <td>3</td>\n",
       "      <td>Allen, Mr. William Henry</td>\n",
       "      <td>male</td>\n",
       "      <td>35.000000</td>\n",
       "      <td>373450</td>\n",
       "      <td>8.0500</td>\n",
       "      <td>Unknown</td>\n",
       "      <td>S</td>\n",
       "      <td>Mr</td>\n",
       "      <td>1</td>\n",
       "      <td>1</td>\n",
       "      <td>1</td>\n",
       "      <td>U</td>\n",
       "      <td>1</td>\n",
       "      <td>0</td>\n",
       "    </tr>\n",
       "    <tr>\n",
       "      <th>...</th>\n",
       "      <td>...</td>\n",
       "      <td>...</td>\n",
       "      <td>...</td>\n",
       "      <td>...</td>\n",
       "      <td>...</td>\n",
       "      <td>...</td>\n",
       "      <td>...</td>\n",
       "      <td>...</td>\n",
       "      <td>...</td>\n",
       "      <td>...</td>\n",
       "      <td>...</td>\n",
       "      <td>...</td>\n",
       "      <td>...</td>\n",
       "      <td>...</td>\n",
       "      <td>...</td>\n",
       "      <td>...</td>\n",
       "      <td>...</td>\n",
       "    </tr>\n",
       "    <tr>\n",
       "      <th>886</th>\n",
       "      <td>887</td>\n",
       "      <td>0</td>\n",
       "      <td>2</td>\n",
       "      <td>Montvila, Rev. Juozas</td>\n",
       "      <td>male</td>\n",
       "      <td>27.000000</td>\n",
       "      <td>211536</td>\n",
       "      <td>13.0000</td>\n",
       "      <td>Unknown</td>\n",
       "      <td>S</td>\n",
       "      <td>Rare</td>\n",
       "      <td>1</td>\n",
       "      <td>1</td>\n",
       "      <td>1</td>\n",
       "      <td>U</td>\n",
       "      <td>1</td>\n",
       "      <td>0</td>\n",
       "    </tr>\n",
       "    <tr>\n",
       "      <th>887</th>\n",
       "      <td>888</td>\n",
       "      <td>1</td>\n",
       "      <td>1</td>\n",
       "      <td>Graham, Miss. Margaret Edith</td>\n",
       "      <td>female</td>\n",
       "      <td>19.000000</td>\n",
       "      <td>112053</td>\n",
       "      <td>30.0000</td>\n",
       "      <td>B42</td>\n",
       "      <td>S</td>\n",
       "      <td>Miss</td>\n",
       "      <td>1</td>\n",
       "      <td>1</td>\n",
       "      <td>1</td>\n",
       "      <td>B</td>\n",
       "      <td>1</td>\n",
       "      <td>0</td>\n",
       "    </tr>\n",
       "    <tr>\n",
       "      <th>888</th>\n",
       "      <td>889</td>\n",
       "      <td>0</td>\n",
       "      <td>3</td>\n",
       "      <td>Johnston, Miss. Catherine Helen \"Carrie\"</td>\n",
       "      <td>female</td>\n",
       "      <td>21.804054</td>\n",
       "      <td>W./C. 6607</td>\n",
       "      <td>23.4500</td>\n",
       "      <td>Unknown</td>\n",
       "      <td>S</td>\n",
       "      <td>Miss</td>\n",
       "      <td>4</td>\n",
       "      <td>0</td>\n",
       "      <td>2</td>\n",
       "      <td>U</td>\n",
       "      <td>2</td>\n",
       "      <td>1</td>\n",
       "    </tr>\n",
       "    <tr>\n",
       "      <th>889</th>\n",
       "      <td>890</td>\n",
       "      <td>1</td>\n",
       "      <td>1</td>\n",
       "      <td>Behr, Mr. Karl Howell</td>\n",
       "      <td>male</td>\n",
       "      <td>26.000000</td>\n",
       "      <td>111369</td>\n",
       "      <td>30.0000</td>\n",
       "      <td>C148</td>\n",
       "      <td>C</td>\n",
       "      <td>Mr</td>\n",
       "      <td>1</td>\n",
       "      <td>1</td>\n",
       "      <td>1</td>\n",
       "      <td>C</td>\n",
       "      <td>1</td>\n",
       "      <td>0</td>\n",
       "    </tr>\n",
       "    <tr>\n",
       "      <th>890</th>\n",
       "      <td>891</td>\n",
       "      <td>0</td>\n",
       "      <td>3</td>\n",
       "      <td>Dooley, Mr. Patrick</td>\n",
       "      <td>male</td>\n",
       "      <td>32.000000</td>\n",
       "      <td>370376</td>\n",
       "      <td>7.7500</td>\n",
       "      <td>Unknown</td>\n",
       "      <td>Q</td>\n",
       "      <td>Mr</td>\n",
       "      <td>1</td>\n",
       "      <td>1</td>\n",
       "      <td>1</td>\n",
       "      <td>U</td>\n",
       "      <td>1</td>\n",
       "      <td>0</td>\n",
       "    </tr>\n",
       "  </tbody>\n",
       "</table>\n",
       "<p>891 rows × 17 columns</p>\n",
       "</div>"
      ],
      "text/plain": [
       "     PassengerId  Survived  Pclass  \\\n",
       "0              1         0       3   \n",
       "1              2         1       1   \n",
       "2              3         1       3   \n",
       "3              4         1       1   \n",
       "4              5         0       3   \n",
       "..           ...       ...     ...   \n",
       "886          887         0       2   \n",
       "887          888         1       1   \n",
       "888          889         0       3   \n",
       "889          890         1       1   \n",
       "890          891         0       3   \n",
       "\n",
       "                                                  Name     Sex        Age  \\\n",
       "0                              Braund, Mr. Owen Harris    male  22.000000   \n",
       "1    Cumings, Mrs. John Bradley (Florence Briggs Th...  female  38.000000   \n",
       "2                               Heikkinen, Miss. Laina  female  26.000000   \n",
       "3         Futrelle, Mrs. Jacques Heath (Lily May Peel)  female  35.000000   \n",
       "4                             Allen, Mr. William Henry    male  35.000000   \n",
       "..                                                 ...     ...        ...   \n",
       "886                              Montvila, Rev. Juozas    male  27.000000   \n",
       "887                       Graham, Miss. Margaret Edith  female  19.000000   \n",
       "888           Johnston, Miss. Catherine Helen \"Carrie\"  female  21.804054   \n",
       "889                              Behr, Mr. Karl Howell    male  26.000000   \n",
       "890                                Dooley, Mr. Patrick    male  32.000000   \n",
       "\n",
       "               Ticket     Fare    Cabin Embarked Acronym  Family_size  Alone  \\\n",
       "0           A/5 21171   7.2500  Unknown        S      Mr            2      0   \n",
       "1            PC 17599  71.2833      C85        C     Mrs            2      0   \n",
       "2    STON/O2. 3101282   7.9250  Unknown        S    Miss            1      1   \n",
       "3              113803  53.1000     C123        S     Mrs            2      0   \n",
       "4              373450   8.0500  Unknown        S      Mr            1      1   \n",
       "..                ...      ...      ...      ...     ...          ...    ...   \n",
       "886            211536  13.0000  Unknown        S    Rare            1      1   \n",
       "887            112053  30.0000      B42        S    Miss            1      1   \n",
       "888        W./C. 6607  23.4500  Unknown        S    Miss            4      0   \n",
       "889            111369  30.0000     C148        C      Mr            1      1   \n",
       "890            370376   7.7500  Unknown        Q      Mr            1      1   \n",
       "\n",
       "     Family_label Cabin_label  Ticket_group  Ticket_label  \n",
       "0               2           U             1             0  \n",
       "1               2           C             1             0  \n",
       "2               1           U             1             0  \n",
       "3               2           C             2             1  \n",
       "4               1           U             1             0  \n",
       "..            ...         ...           ...           ...  \n",
       "886             1           U             1             0  \n",
       "887             1           B             1             0  \n",
       "888             2           U             2             1  \n",
       "889             1           C             1             0  \n",
       "890             1           U             1             0  \n",
       "\n",
       "[891 rows x 17 columns]"
      ]
     },
     "execution_count": 49,
     "metadata": {},
     "output_type": "execute_result"
    }
   ],
   "source": [
    "train_df"
   ]
  },
  {
   "cell_type": "code",
   "execution_count": 50,
   "id": "b99d70f6",
   "metadata": {
    "execution": {
     "iopub.execute_input": "2022-03-29T06:50:43.959977Z",
     "iopub.status.busy": "2022-03-29T06:50:43.959356Z",
     "iopub.status.idle": "2022-03-29T06:50:43.961660Z",
     "shell.execute_reply": "2022-03-29T06:50:43.961067Z",
     "shell.execute_reply.started": "2022-03-29T06:45:29.146958Z"
    },
    "papermill": {
     "duration": 0.074545,
     "end_time": "2022-03-29T06:50:43.961794",
     "exception": false,
     "start_time": "2022-03-29T06:50:43.887249",
     "status": "completed"
    },
    "tags": []
   },
   "outputs": [],
   "source": [
    "KBinsDiscretizer.get_feature_names_out = (lambda self, names=None: self.feature_names_in_)"
   ]
  },
  {
   "cell_type": "code",
   "execution_count": 51,
   "id": "7745e64f",
   "metadata": {
    "execution": {
     "iopub.execute_input": "2022-03-29T06:50:44.107121Z",
     "iopub.status.busy": "2022-03-29T06:50:44.106220Z",
     "iopub.status.idle": "2022-03-29T06:50:44.109111Z",
     "shell.execute_reply": "2022-03-29T06:50:44.108561Z",
     "shell.execute_reply.started": "2022-03-29T06:45:29.159006Z"
    },
    "papermill": {
     "duration": 0.08112,
     "end_time": "2022-03-29T06:50:44.109250",
     "exception": false,
     "start_time": "2022-03-29T06:50:44.028130",
     "status": "completed"
    },
    "tags": []
   },
   "outputs": [],
   "source": [
    "transformer = make_column_transformer(\n",
    "    (KBinsDiscretizer(n_bins=5, encode='ordinal', strategy='uniform'), ['Age']),\n",
    "    (KBinsDiscretizer(n_bins=4, encode='ordinal', strategy='quantile'), ['Fare']),\n",
    "    (OneHotEncoder(drop='if_binary', handle_unknown='ignore'), ['Pclass', 'Sex', 'Embarked', 'Acronym', 'Cabin_label']),\n",
    "    ('passthrough', ['Alone', 'Family_label', 'Ticket_label']),\n",
    "    n_jobs=-1)"
   ]
  },
  {
   "cell_type": "code",
   "execution_count": 52,
   "id": "cdcb1d86",
   "metadata": {
    "execution": {
     "iopub.execute_input": "2022-03-29T06:50:44.246565Z",
     "iopub.status.busy": "2022-03-29T06:50:44.245640Z",
     "iopub.status.idle": "2022-03-29T06:50:45.806192Z",
     "shell.execute_reply": "2022-03-29T06:50:45.806865Z",
     "shell.execute_reply.started": "2022-03-29T06:45:29.448631Z"
    },
    "papermill": {
     "duration": 1.629679,
     "end_time": "2022-03-29T06:50:45.807039",
     "exception": false,
     "start_time": "2022-03-29T06:50:44.177360",
     "status": "completed"
    },
    "tags": []
   },
   "outputs": [
    {
     "data": {
      "text/html": [
       "<div>\n",
       "<style scoped>\n",
       "    .dataframe tbody tr th:only-of-type {\n",
       "        vertical-align: middle;\n",
       "    }\n",
       "\n",
       "    .dataframe tbody tr th {\n",
       "        vertical-align: top;\n",
       "    }\n",
       "\n",
       "    .dataframe thead th {\n",
       "        text-align: right;\n",
       "    }\n",
       "</style>\n",
       "<table border=\"1\" class=\"dataframe\">\n",
       "  <thead>\n",
       "    <tr style=\"text-align: right;\">\n",
       "      <th></th>\n",
       "      <th>kbinsdiscretizer-1__Age</th>\n",
       "      <th>kbinsdiscretizer-2__Fare</th>\n",
       "      <th>onehotencoder__Pclass_1</th>\n",
       "      <th>onehotencoder__Pclass_2</th>\n",
       "      <th>onehotencoder__Pclass_3</th>\n",
       "      <th>onehotencoder__Sex_male</th>\n",
       "      <th>onehotencoder__Embarked_C</th>\n",
       "      <th>onehotencoder__Embarked_Q</th>\n",
       "      <th>onehotencoder__Embarked_S</th>\n",
       "      <th>onehotencoder__Acronym_Master</th>\n",
       "      <th>...</th>\n",
       "      <th>onehotencoder__Cabin_label_C</th>\n",
       "      <th>onehotencoder__Cabin_label_D</th>\n",
       "      <th>onehotencoder__Cabin_label_E</th>\n",
       "      <th>onehotencoder__Cabin_label_F</th>\n",
       "      <th>onehotencoder__Cabin_label_G</th>\n",
       "      <th>onehotencoder__Cabin_label_T</th>\n",
       "      <th>onehotencoder__Cabin_label_U</th>\n",
       "      <th>passthrough__Alone</th>\n",
       "      <th>passthrough__Family_label</th>\n",
       "      <th>passthrough__Ticket_label</th>\n",
       "    </tr>\n",
       "  </thead>\n",
       "  <tbody>\n",
       "    <tr>\n",
       "      <th>0</th>\n",
       "      <td>1.0</td>\n",
       "      <td>0.0</td>\n",
       "      <td>0.0</td>\n",
       "      <td>0.0</td>\n",
       "      <td>1.0</td>\n",
       "      <td>1.0</td>\n",
       "      <td>0.0</td>\n",
       "      <td>0.0</td>\n",
       "      <td>1.0</td>\n",
       "      <td>0.0</td>\n",
       "      <td>...</td>\n",
       "      <td>0.0</td>\n",
       "      <td>0.0</td>\n",
       "      <td>0.0</td>\n",
       "      <td>0.0</td>\n",
       "      <td>0.0</td>\n",
       "      <td>0.0</td>\n",
       "      <td>1.0</td>\n",
       "      <td>0.0</td>\n",
       "      <td>2.0</td>\n",
       "      <td>0.0</td>\n",
       "    </tr>\n",
       "    <tr>\n",
       "      <th>1</th>\n",
       "      <td>2.0</td>\n",
       "      <td>3.0</td>\n",
       "      <td>1.0</td>\n",
       "      <td>0.0</td>\n",
       "      <td>0.0</td>\n",
       "      <td>0.0</td>\n",
       "      <td>1.0</td>\n",
       "      <td>0.0</td>\n",
       "      <td>0.0</td>\n",
       "      <td>0.0</td>\n",
       "      <td>...</td>\n",
       "      <td>1.0</td>\n",
       "      <td>0.0</td>\n",
       "      <td>0.0</td>\n",
       "      <td>0.0</td>\n",
       "      <td>0.0</td>\n",
       "      <td>0.0</td>\n",
       "      <td>0.0</td>\n",
       "      <td>0.0</td>\n",
       "      <td>2.0</td>\n",
       "      <td>0.0</td>\n",
       "    </tr>\n",
       "    <tr>\n",
       "      <th>2</th>\n",
       "      <td>1.0</td>\n",
       "      <td>1.0</td>\n",
       "      <td>0.0</td>\n",
       "      <td>0.0</td>\n",
       "      <td>1.0</td>\n",
       "      <td>0.0</td>\n",
       "      <td>0.0</td>\n",
       "      <td>0.0</td>\n",
       "      <td>1.0</td>\n",
       "      <td>0.0</td>\n",
       "      <td>...</td>\n",
       "      <td>0.0</td>\n",
       "      <td>0.0</td>\n",
       "      <td>0.0</td>\n",
       "      <td>0.0</td>\n",
       "      <td>0.0</td>\n",
       "      <td>0.0</td>\n",
       "      <td>1.0</td>\n",
       "      <td>1.0</td>\n",
       "      <td>1.0</td>\n",
       "      <td>0.0</td>\n",
       "    </tr>\n",
       "    <tr>\n",
       "      <th>3</th>\n",
       "      <td>2.0</td>\n",
       "      <td>3.0</td>\n",
       "      <td>1.0</td>\n",
       "      <td>0.0</td>\n",
       "      <td>0.0</td>\n",
       "      <td>0.0</td>\n",
       "      <td>0.0</td>\n",
       "      <td>0.0</td>\n",
       "      <td>1.0</td>\n",
       "      <td>0.0</td>\n",
       "      <td>...</td>\n",
       "      <td>1.0</td>\n",
       "      <td>0.0</td>\n",
       "      <td>0.0</td>\n",
       "      <td>0.0</td>\n",
       "      <td>0.0</td>\n",
       "      <td>0.0</td>\n",
       "      <td>0.0</td>\n",
       "      <td>0.0</td>\n",
       "      <td>2.0</td>\n",
       "      <td>1.0</td>\n",
       "    </tr>\n",
       "    <tr>\n",
       "      <th>4</th>\n",
       "      <td>2.0</td>\n",
       "      <td>1.0</td>\n",
       "      <td>0.0</td>\n",
       "      <td>0.0</td>\n",
       "      <td>1.0</td>\n",
       "      <td>1.0</td>\n",
       "      <td>0.0</td>\n",
       "      <td>0.0</td>\n",
       "      <td>1.0</td>\n",
       "      <td>0.0</td>\n",
       "      <td>...</td>\n",
       "      <td>0.0</td>\n",
       "      <td>0.0</td>\n",
       "      <td>0.0</td>\n",
       "      <td>0.0</td>\n",
       "      <td>0.0</td>\n",
       "      <td>0.0</td>\n",
       "      <td>1.0</td>\n",
       "      <td>1.0</td>\n",
       "      <td>1.0</td>\n",
       "      <td>0.0</td>\n",
       "    </tr>\n",
       "    <tr>\n",
       "      <th>...</th>\n",
       "      <td>...</td>\n",
       "      <td>...</td>\n",
       "      <td>...</td>\n",
       "      <td>...</td>\n",
       "      <td>...</td>\n",
       "      <td>...</td>\n",
       "      <td>...</td>\n",
       "      <td>...</td>\n",
       "      <td>...</td>\n",
       "      <td>...</td>\n",
       "      <td>...</td>\n",
       "      <td>...</td>\n",
       "      <td>...</td>\n",
       "      <td>...</td>\n",
       "      <td>...</td>\n",
       "      <td>...</td>\n",
       "      <td>...</td>\n",
       "      <td>...</td>\n",
       "      <td>...</td>\n",
       "      <td>...</td>\n",
       "      <td>...</td>\n",
       "    </tr>\n",
       "    <tr>\n",
       "      <th>886</th>\n",
       "      <td>1.0</td>\n",
       "      <td>1.0</td>\n",
       "      <td>0.0</td>\n",
       "      <td>1.0</td>\n",
       "      <td>0.0</td>\n",
       "      <td>1.0</td>\n",
       "      <td>0.0</td>\n",
       "      <td>0.0</td>\n",
       "      <td>1.0</td>\n",
       "      <td>0.0</td>\n",
       "      <td>...</td>\n",
       "      <td>0.0</td>\n",
       "      <td>0.0</td>\n",
       "      <td>0.0</td>\n",
       "      <td>0.0</td>\n",
       "      <td>0.0</td>\n",
       "      <td>0.0</td>\n",
       "      <td>1.0</td>\n",
       "      <td>1.0</td>\n",
       "      <td>1.0</td>\n",
       "      <td>0.0</td>\n",
       "    </tr>\n",
       "    <tr>\n",
       "      <th>887</th>\n",
       "      <td>1.0</td>\n",
       "      <td>2.0</td>\n",
       "      <td>1.0</td>\n",
       "      <td>0.0</td>\n",
       "      <td>0.0</td>\n",
       "      <td>0.0</td>\n",
       "      <td>0.0</td>\n",
       "      <td>0.0</td>\n",
       "      <td>1.0</td>\n",
       "      <td>0.0</td>\n",
       "      <td>...</td>\n",
       "      <td>0.0</td>\n",
       "      <td>0.0</td>\n",
       "      <td>0.0</td>\n",
       "      <td>0.0</td>\n",
       "      <td>0.0</td>\n",
       "      <td>0.0</td>\n",
       "      <td>0.0</td>\n",
       "      <td>1.0</td>\n",
       "      <td>1.0</td>\n",
       "      <td>0.0</td>\n",
       "    </tr>\n",
       "    <tr>\n",
       "      <th>888</th>\n",
       "      <td>1.0</td>\n",
       "      <td>2.0</td>\n",
       "      <td>0.0</td>\n",
       "      <td>0.0</td>\n",
       "      <td>1.0</td>\n",
       "      <td>0.0</td>\n",
       "      <td>0.0</td>\n",
       "      <td>0.0</td>\n",
       "      <td>1.0</td>\n",
       "      <td>0.0</td>\n",
       "      <td>...</td>\n",
       "      <td>0.0</td>\n",
       "      <td>0.0</td>\n",
       "      <td>0.0</td>\n",
       "      <td>0.0</td>\n",
       "      <td>0.0</td>\n",
       "      <td>0.0</td>\n",
       "      <td>1.0</td>\n",
       "      <td>0.0</td>\n",
       "      <td>2.0</td>\n",
       "      <td>1.0</td>\n",
       "    </tr>\n",
       "    <tr>\n",
       "      <th>889</th>\n",
       "      <td>1.0</td>\n",
       "      <td>2.0</td>\n",
       "      <td>1.0</td>\n",
       "      <td>0.0</td>\n",
       "      <td>0.0</td>\n",
       "      <td>1.0</td>\n",
       "      <td>1.0</td>\n",
       "      <td>0.0</td>\n",
       "      <td>0.0</td>\n",
       "      <td>0.0</td>\n",
       "      <td>...</td>\n",
       "      <td>1.0</td>\n",
       "      <td>0.0</td>\n",
       "      <td>0.0</td>\n",
       "      <td>0.0</td>\n",
       "      <td>0.0</td>\n",
       "      <td>0.0</td>\n",
       "      <td>0.0</td>\n",
       "      <td>1.0</td>\n",
       "      <td>1.0</td>\n",
       "      <td>0.0</td>\n",
       "    </tr>\n",
       "    <tr>\n",
       "      <th>890</th>\n",
       "      <td>1.0</td>\n",
       "      <td>0.0</td>\n",
       "      <td>0.0</td>\n",
       "      <td>0.0</td>\n",
       "      <td>1.0</td>\n",
       "      <td>1.0</td>\n",
       "      <td>0.0</td>\n",
       "      <td>1.0</td>\n",
       "      <td>0.0</td>\n",
       "      <td>0.0</td>\n",
       "      <td>...</td>\n",
       "      <td>0.0</td>\n",
       "      <td>0.0</td>\n",
       "      <td>0.0</td>\n",
       "      <td>0.0</td>\n",
       "      <td>0.0</td>\n",
       "      <td>0.0</td>\n",
       "      <td>1.0</td>\n",
       "      <td>1.0</td>\n",
       "      <td>1.0</td>\n",
       "      <td>0.0</td>\n",
       "    </tr>\n",
       "  </tbody>\n",
       "</table>\n",
       "<p>891 rows × 26 columns</p>\n",
       "</div>"
      ],
      "text/plain": [
       "     kbinsdiscretizer-1__Age  kbinsdiscretizer-2__Fare  \\\n",
       "0                        1.0                       0.0   \n",
       "1                        2.0                       3.0   \n",
       "2                        1.0                       1.0   \n",
       "3                        2.0                       3.0   \n",
       "4                        2.0                       1.0   \n",
       "..                       ...                       ...   \n",
       "886                      1.0                       1.0   \n",
       "887                      1.0                       2.0   \n",
       "888                      1.0                       2.0   \n",
       "889                      1.0                       2.0   \n",
       "890                      1.0                       0.0   \n",
       "\n",
       "     onehotencoder__Pclass_1  onehotencoder__Pclass_2  \\\n",
       "0                        0.0                      0.0   \n",
       "1                        1.0                      0.0   \n",
       "2                        0.0                      0.0   \n",
       "3                        1.0                      0.0   \n",
       "4                        0.0                      0.0   \n",
       "..                       ...                      ...   \n",
       "886                      0.0                      1.0   \n",
       "887                      1.0                      0.0   \n",
       "888                      0.0                      0.0   \n",
       "889                      1.0                      0.0   \n",
       "890                      0.0                      0.0   \n",
       "\n",
       "     onehotencoder__Pclass_3  onehotencoder__Sex_male  \\\n",
       "0                        1.0                      1.0   \n",
       "1                        0.0                      0.0   \n",
       "2                        1.0                      0.0   \n",
       "3                        0.0                      0.0   \n",
       "4                        1.0                      1.0   \n",
       "..                       ...                      ...   \n",
       "886                      0.0                      1.0   \n",
       "887                      0.0                      0.0   \n",
       "888                      1.0                      0.0   \n",
       "889                      0.0                      1.0   \n",
       "890                      1.0                      1.0   \n",
       "\n",
       "     onehotencoder__Embarked_C  onehotencoder__Embarked_Q  \\\n",
       "0                          0.0                        0.0   \n",
       "1                          1.0                        0.0   \n",
       "2                          0.0                        0.0   \n",
       "3                          0.0                        0.0   \n",
       "4                          0.0                        0.0   \n",
       "..                         ...                        ...   \n",
       "886                        0.0                        0.0   \n",
       "887                        0.0                        0.0   \n",
       "888                        0.0                        0.0   \n",
       "889                        1.0                        0.0   \n",
       "890                        0.0                        1.0   \n",
       "\n",
       "     onehotencoder__Embarked_S  onehotencoder__Acronym_Master  ...  \\\n",
       "0                          1.0                            0.0  ...   \n",
       "1                          0.0                            0.0  ...   \n",
       "2                          1.0                            0.0  ...   \n",
       "3                          1.0                            0.0  ...   \n",
       "4                          1.0                            0.0  ...   \n",
       "..                         ...                            ...  ...   \n",
       "886                        1.0                            0.0  ...   \n",
       "887                        1.0                            0.0  ...   \n",
       "888                        1.0                            0.0  ...   \n",
       "889                        0.0                            0.0  ...   \n",
       "890                        0.0                            0.0  ...   \n",
       "\n",
       "     onehotencoder__Cabin_label_C  onehotencoder__Cabin_label_D  \\\n",
       "0                             0.0                           0.0   \n",
       "1                             1.0                           0.0   \n",
       "2                             0.0                           0.0   \n",
       "3                             1.0                           0.0   \n",
       "4                             0.0                           0.0   \n",
       "..                            ...                           ...   \n",
       "886                           0.0                           0.0   \n",
       "887                           0.0                           0.0   \n",
       "888                           0.0                           0.0   \n",
       "889                           1.0                           0.0   \n",
       "890                           0.0                           0.0   \n",
       "\n",
       "     onehotencoder__Cabin_label_E  onehotencoder__Cabin_label_F  \\\n",
       "0                             0.0                           0.0   \n",
       "1                             0.0                           0.0   \n",
       "2                             0.0                           0.0   \n",
       "3                             0.0                           0.0   \n",
       "4                             0.0                           0.0   \n",
       "..                            ...                           ...   \n",
       "886                           0.0                           0.0   \n",
       "887                           0.0                           0.0   \n",
       "888                           0.0                           0.0   \n",
       "889                           0.0                           0.0   \n",
       "890                           0.0                           0.0   \n",
       "\n",
       "     onehotencoder__Cabin_label_G  onehotencoder__Cabin_label_T  \\\n",
       "0                             0.0                           0.0   \n",
       "1                             0.0                           0.0   \n",
       "2                             0.0                           0.0   \n",
       "3                             0.0                           0.0   \n",
       "4                             0.0                           0.0   \n",
       "..                            ...                           ...   \n",
       "886                           0.0                           0.0   \n",
       "887                           0.0                           0.0   \n",
       "888                           0.0                           0.0   \n",
       "889                           0.0                           0.0   \n",
       "890                           0.0                           0.0   \n",
       "\n",
       "     onehotencoder__Cabin_label_U  passthrough__Alone  \\\n",
       "0                             1.0                 0.0   \n",
       "1                             0.0                 0.0   \n",
       "2                             1.0                 1.0   \n",
       "3                             0.0                 0.0   \n",
       "4                             1.0                 1.0   \n",
       "..                            ...                 ...   \n",
       "886                           1.0                 1.0   \n",
       "887                           0.0                 1.0   \n",
       "888                           1.0                 0.0   \n",
       "889                           0.0                 1.0   \n",
       "890                           1.0                 1.0   \n",
       "\n",
       "     passthrough__Family_label  passthrough__Ticket_label  \n",
       "0                          2.0                        0.0  \n",
       "1                          2.0                        0.0  \n",
       "2                          1.0                        0.0  \n",
       "3                          2.0                        1.0  \n",
       "4                          1.0                        0.0  \n",
       "..                         ...                        ...  \n",
       "886                        1.0                        0.0  \n",
       "887                        1.0                        0.0  \n",
       "888                        2.0                        1.0  \n",
       "889                        1.0                        0.0  \n",
       "890                        1.0                        0.0  \n",
       "\n",
       "[891 rows x 26 columns]"
      ]
     },
     "execution_count": 52,
     "metadata": {},
     "output_type": "execute_result"
    }
   ],
   "source": [
    "pd.DataFrame(transformer.fit_transform(train_df), columns=transformer.get_feature_names_out())"
   ]
  },
  {
   "cell_type": "code",
   "execution_count": 53,
   "id": "e42e1cbc",
   "metadata": {
    "execution": {
     "iopub.execute_input": "2022-03-29T06:50:45.945943Z",
     "iopub.status.busy": "2022-03-29T06:50:45.944971Z",
     "iopub.status.idle": "2022-03-29T06:50:45.947058Z",
     "shell.execute_reply": "2022-03-29T06:50:45.947497Z",
     "shell.execute_reply.started": "2022-03-29T06:45:29.788536Z"
    },
    "papermill": {
     "duration": 0.074254,
     "end_time": "2022-03-29T06:50:45.947688",
     "exception": false,
     "start_time": "2022-03-29T06:50:45.873434",
     "status": "completed"
    },
    "tags": []
   },
   "outputs": [],
   "source": [
    "rfc = RandomForestClassifier(random_state=17)"
   ]
  },
  {
   "cell_type": "code",
   "execution_count": 54,
   "id": "81a70f97",
   "metadata": {
    "execution": {
     "iopub.execute_input": "2022-03-29T06:50:46.088076Z",
     "iopub.status.busy": "2022-03-29T06:50:46.087447Z",
     "iopub.status.idle": "2022-03-29T06:50:46.091186Z",
     "shell.execute_reply": "2022-03-29T06:50:46.091673Z",
     "shell.execute_reply.started": "2022-03-29T06:45:30.142630Z"
    },
    "papermill": {
     "duration": 0.076513,
     "end_time": "2022-03-29T06:50:46.091837",
     "exception": false,
     "start_time": "2022-03-29T06:50:46.015324",
     "status": "completed"
    },
    "tags": []
   },
   "outputs": [],
   "source": [
    "pipe_model = make_pipeline(transformer, rfc)"
   ]
  },
  {
   "cell_type": "code",
   "execution_count": 55,
   "id": "656f0e92",
   "metadata": {
    "execution": {
     "iopub.execute_input": "2022-03-29T06:50:46.227759Z",
     "iopub.status.busy": "2022-03-29T06:50:46.224514Z",
     "iopub.status.idle": "2022-03-29T06:50:46.230375Z",
     "shell.execute_reply": "2022-03-29T06:50:46.230924Z",
     "shell.execute_reply.started": "2022-03-29T06:45:30.499879Z"
    },
    "papermill": {
     "duration": 0.073704,
     "end_time": "2022-03-29T06:50:46.231092",
     "exception": false,
     "start_time": "2022-03-29T06:50:46.157388",
     "status": "completed"
    },
    "tags": []
   },
   "outputs": [
    {
     "data": {
      "text/plain": [
       "dict_keys(['memory', 'steps', 'verbose', 'columntransformer', 'randomforestclassifier', 'columntransformer__n_jobs', 'columntransformer__remainder', 'columntransformer__sparse_threshold', 'columntransformer__transformer_weights', 'columntransformer__transformers', 'columntransformer__verbose', 'columntransformer__verbose_feature_names_out', 'columntransformer__kbinsdiscretizer-1', 'columntransformer__kbinsdiscretizer-2', 'columntransformer__onehotencoder', 'columntransformer__passthrough', 'columntransformer__kbinsdiscretizer-1__dtype', 'columntransformer__kbinsdiscretizer-1__encode', 'columntransformer__kbinsdiscretizer-1__n_bins', 'columntransformer__kbinsdiscretizer-1__strategy', 'columntransformer__kbinsdiscretizer-2__dtype', 'columntransformer__kbinsdiscretizer-2__encode', 'columntransformer__kbinsdiscretizer-2__n_bins', 'columntransformer__kbinsdiscretizer-2__strategy', 'columntransformer__onehotencoder__categories', 'columntransformer__onehotencoder__drop', 'columntransformer__onehotencoder__dtype', 'columntransformer__onehotencoder__handle_unknown', 'columntransformer__onehotencoder__sparse', 'randomforestclassifier__bootstrap', 'randomforestclassifier__ccp_alpha', 'randomforestclassifier__class_weight', 'randomforestclassifier__criterion', 'randomforestclassifier__max_depth', 'randomforestclassifier__max_features', 'randomforestclassifier__max_leaf_nodes', 'randomforestclassifier__max_samples', 'randomforestclassifier__min_impurity_decrease', 'randomforestclassifier__min_samples_leaf', 'randomforestclassifier__min_samples_split', 'randomforestclassifier__min_weight_fraction_leaf', 'randomforestclassifier__n_estimators', 'randomforestclassifier__n_jobs', 'randomforestclassifier__oob_score', 'randomforestclassifier__random_state', 'randomforestclassifier__verbose', 'randomforestclassifier__warm_start'])"
      ]
     },
     "execution_count": 55,
     "metadata": {},
     "output_type": "execute_result"
    }
   ],
   "source": [
    "pipe_model.get_params().keys()"
   ]
  },
  {
   "cell_type": "code",
   "execution_count": 56,
   "id": "93259957",
   "metadata": {
    "execution": {
     "iopub.execute_input": "2022-03-29T06:50:46.365775Z",
     "iopub.status.busy": "2022-03-29T06:50:46.365169Z",
     "iopub.status.idle": "2022-03-29T06:50:46.369776Z",
     "shell.execute_reply": "2022-03-29T06:50:46.370183Z",
     "shell.execute_reply.started": "2022-03-29T06:45:30.865158Z"
    },
    "papermill": {
     "duration": 0.07298,
     "end_time": "2022-03-29T06:50:46.370343",
     "exception": false,
     "start_time": "2022-03-29T06:50:46.297363",
     "status": "completed"
    },
    "tags": []
   },
   "outputs": [],
   "source": [
    "parameters = {}\n",
    "parameters['randomforestclassifier__max_depth'] = [i for i in range(2, 10, 2)]\n",
    "parameters['randomforestclassifier__min_samples_split'] = [i for i in range(2, 11)]\n",
    "parameters['randomforestclassifier__min_samples_leaf'] = [i for i in range(1, 11)]"
   ]
  },
  {
   "cell_type": "code",
   "execution_count": 57,
   "id": "911b3622",
   "metadata": {
    "execution": {
     "iopub.execute_input": "2022-03-29T06:50:46.509846Z",
     "iopub.status.busy": "2022-03-29T06:50:46.509198Z",
     "iopub.status.idle": "2022-03-29T06:50:46.510942Z",
     "shell.execute_reply": "2022-03-29T06:50:46.511450Z",
     "shell.execute_reply.started": "2022-03-29T06:45:31.216359Z"
    },
    "papermill": {
     "duration": 0.074408,
     "end_time": "2022-03-29T06:50:46.511605",
     "exception": false,
     "start_time": "2022-03-29T06:50:46.437197",
     "status": "completed"
    },
    "tags": []
   },
   "outputs": [],
   "source": [
    "gccv = GridSearchCV(pipe_model, parameters, cv=5,  scoring = 'accuracy', n_jobs=-1)"
   ]
  },
  {
   "cell_type": "code",
   "execution_count": 58,
   "id": "0cc6208b",
   "metadata": {
    "execution": {
     "iopub.execute_input": "2022-03-29T06:50:46.649052Z",
     "iopub.status.busy": "2022-03-29T06:50:46.648414Z",
     "iopub.status.idle": "2022-03-29T06:53:47.063361Z",
     "shell.execute_reply": "2022-03-29T06:53:47.063860Z",
     "shell.execute_reply.started": "2022-03-29T06:45:31.574622Z"
    },
    "papermill": {
     "duration": 180.485673,
     "end_time": "2022-03-29T06:53:47.064036",
     "exception": false,
     "start_time": "2022-03-29T06:50:46.578363",
     "status": "completed"
    },
    "tags": []
   },
   "outputs": [
    {
     "name": "stderr",
     "output_type": "stream",
     "text": [
      "/opt/conda/lib/python3.7/site-packages/sklearn/preprocessing/_encoders.py:174: UserWarning: Found unknown categories in columns [4] during transform. These unknown categories will be encoded as all zeros\n",
      "  UserWarning,\n",
      "/opt/conda/lib/python3.7/site-packages/sklearn/preprocessing/_encoders.py:174: UserWarning: Found unknown categories in columns [4] during transform. These unknown categories will be encoded as all zeros\n",
      "  UserWarning,\n",
      "/opt/conda/lib/python3.7/site-packages/sklearn/preprocessing/_encoders.py:174: UserWarning: Found unknown categories in columns [4] during transform. These unknown categories will be encoded as all zeros\n",
      "  UserWarning,\n",
      "/opt/conda/lib/python3.7/site-packages/sklearn/preprocessing/_encoders.py:174: UserWarning: Found unknown categories in columns [4] during transform. These unknown categories will be encoded as all zeros\n",
      "  UserWarning,\n",
      "/opt/conda/lib/python3.7/site-packages/sklearn/preprocessing/_encoders.py:174: UserWarning: Found unknown categories in columns [4] during transform. These unknown categories will be encoded as all zeros\n",
      "  UserWarning,\n",
      "/opt/conda/lib/python3.7/site-packages/sklearn/preprocessing/_encoders.py:174: UserWarning: Found unknown categories in columns [4] during transform. These unknown categories will be encoded as all zeros\n",
      "  UserWarning,\n",
      "/opt/conda/lib/python3.7/site-packages/sklearn/preprocessing/_encoders.py:174: UserWarning: Found unknown categories in columns [4] during transform. These unknown categories will be encoded as all zeros\n",
      "  UserWarning,\n",
      "/opt/conda/lib/python3.7/site-packages/sklearn/preprocessing/_encoders.py:174: UserWarning: Found unknown categories in columns [4] during transform. These unknown categories will be encoded as all zeros\n",
      "  UserWarning,\n",
      "/opt/conda/lib/python3.7/site-packages/sklearn/preprocessing/_encoders.py:174: UserWarning: Found unknown categories in columns [4] during transform. These unknown categories will be encoded as all zeros\n",
      "  UserWarning,\n",
      "/opt/conda/lib/python3.7/site-packages/sklearn/preprocessing/_encoders.py:174: UserWarning: Found unknown categories in columns [4] during transform. These unknown categories will be encoded as all zeros\n",
      "  UserWarning,\n",
      "/opt/conda/lib/python3.7/site-packages/sklearn/preprocessing/_encoders.py:174: UserWarning: Found unknown categories in columns [4] during transform. These unknown categories will be encoded as all zeros\n",
      "  UserWarning,\n",
      "/opt/conda/lib/python3.7/site-packages/sklearn/preprocessing/_encoders.py:174: UserWarning: Found unknown categories in columns [4] during transform. These unknown categories will be encoded as all zeros\n",
      "  UserWarning,\n",
      "/opt/conda/lib/python3.7/site-packages/sklearn/preprocessing/_encoders.py:174: UserWarning: Found unknown categories in columns [4] during transform. These unknown categories will be encoded as all zeros\n",
      "  UserWarning,\n",
      "/opt/conda/lib/python3.7/site-packages/sklearn/preprocessing/_encoders.py:174: UserWarning: Found unknown categories in columns [4] during transform. These unknown categories will be encoded as all zeros\n",
      "  UserWarning,\n",
      "/opt/conda/lib/python3.7/site-packages/sklearn/preprocessing/_encoders.py:174: UserWarning: Found unknown categories in columns [4] during transform. These unknown categories will be encoded as all zeros\n",
      "  UserWarning,\n",
      "/opt/conda/lib/python3.7/site-packages/sklearn/preprocessing/_encoders.py:174: UserWarning: Found unknown categories in columns [4] during transform. These unknown categories will be encoded as all zeros\n",
      "  UserWarning,\n",
      "/opt/conda/lib/python3.7/site-packages/sklearn/preprocessing/_encoders.py:174: UserWarning: Found unknown categories in columns [4] during transform. These unknown categories will be encoded as all zeros\n",
      "  UserWarning,\n",
      "/opt/conda/lib/python3.7/site-packages/sklearn/preprocessing/_encoders.py:174: UserWarning: Found unknown categories in columns [4] during transform. These unknown categories will be encoded as all zeros\n",
      "  UserWarning,\n",
      "/opt/conda/lib/python3.7/site-packages/sklearn/preprocessing/_encoders.py:174: UserWarning: Found unknown categories in columns [4] during transform. These unknown categories will be encoded as all zeros\n",
      "  UserWarning,\n",
      "/opt/conda/lib/python3.7/site-packages/sklearn/preprocessing/_encoders.py:174: UserWarning: Found unknown categories in columns [4] during transform. These unknown categories will be encoded as all zeros\n",
      "  UserWarning,\n",
      "/opt/conda/lib/python3.7/site-packages/sklearn/preprocessing/_encoders.py:174: UserWarning: Found unknown categories in columns [4] during transform. These unknown categories will be encoded as all zeros\n",
      "  UserWarning,\n",
      "/opt/conda/lib/python3.7/site-packages/sklearn/preprocessing/_encoders.py:174: UserWarning: Found unknown categories in columns [4] during transform. These unknown categories will be encoded as all zeros\n",
      "  UserWarning,\n",
      "/opt/conda/lib/python3.7/site-packages/sklearn/preprocessing/_encoders.py:174: UserWarning: Found unknown categories in columns [4] during transform. These unknown categories will be encoded as all zeros\n",
      "  UserWarning,\n",
      "/opt/conda/lib/python3.7/site-packages/sklearn/preprocessing/_encoders.py:174: UserWarning: Found unknown categories in columns [4] during transform. These unknown categories will be encoded as all zeros\n",
      "  UserWarning,\n",
      "/opt/conda/lib/python3.7/site-packages/sklearn/preprocessing/_encoders.py:174: UserWarning: Found unknown categories in columns [4] during transform. These unknown categories will be encoded as all zeros\n",
      "  UserWarning,\n",
      "/opt/conda/lib/python3.7/site-packages/sklearn/preprocessing/_encoders.py:174: UserWarning: Found unknown categories in columns [4] during transform. These unknown categories will be encoded as all zeros\n",
      "  UserWarning,\n",
      "/opt/conda/lib/python3.7/site-packages/sklearn/preprocessing/_encoders.py:174: UserWarning: Found unknown categories in columns [4] during transform. These unknown categories will be encoded as all zeros\n",
      "  UserWarning,\n",
      "/opt/conda/lib/python3.7/site-packages/sklearn/preprocessing/_encoders.py:174: UserWarning: Found unknown categories in columns [4] during transform. These unknown categories will be encoded as all zeros\n",
      "  UserWarning,\n",
      "/opt/conda/lib/python3.7/site-packages/sklearn/preprocessing/_encoders.py:174: UserWarning: Found unknown categories in columns [4] during transform. These unknown categories will be encoded as all zeros\n",
      "  UserWarning,\n",
      "/opt/conda/lib/python3.7/site-packages/sklearn/preprocessing/_encoders.py:174: UserWarning: Found unknown categories in columns [4] during transform. These unknown categories will be encoded as all zeros\n",
      "  UserWarning,\n",
      "/opt/conda/lib/python3.7/site-packages/sklearn/preprocessing/_encoders.py:174: UserWarning: Found unknown categories in columns [4] during transform. These unknown categories will be encoded as all zeros\n",
      "  UserWarning,\n",
      "/opt/conda/lib/python3.7/site-packages/sklearn/preprocessing/_encoders.py:174: UserWarning: Found unknown categories in columns [4] during transform. These unknown categories will be encoded as all zeros\n",
      "  UserWarning,\n",
      "/opt/conda/lib/python3.7/site-packages/sklearn/preprocessing/_encoders.py:174: UserWarning: Found unknown categories in columns [4] during transform. These unknown categories will be encoded as all zeros\n",
      "  UserWarning,\n",
      "/opt/conda/lib/python3.7/site-packages/sklearn/preprocessing/_encoders.py:174: UserWarning: Found unknown categories in columns [4] during transform. These unknown categories will be encoded as all zeros\n",
      "  UserWarning,\n",
      "/opt/conda/lib/python3.7/site-packages/sklearn/preprocessing/_encoders.py:174: UserWarning: Found unknown categories in columns [4] during transform. These unknown categories will be encoded as all zeros\n",
      "  UserWarning,\n",
      "/opt/conda/lib/python3.7/site-packages/sklearn/preprocessing/_encoders.py:174: UserWarning: Found unknown categories in columns [4] during transform. These unknown categories will be encoded as all zeros\n",
      "  UserWarning,\n",
      "/opt/conda/lib/python3.7/site-packages/sklearn/preprocessing/_encoders.py:174: UserWarning: Found unknown categories in columns [4] during transform. These unknown categories will be encoded as all zeros\n",
      "  UserWarning,\n",
      "/opt/conda/lib/python3.7/site-packages/sklearn/preprocessing/_encoders.py:174: UserWarning: Found unknown categories in columns [4] during transform. These unknown categories will be encoded as all zeros\n",
      "  UserWarning,\n",
      "/opt/conda/lib/python3.7/site-packages/sklearn/preprocessing/_encoders.py:174: UserWarning: Found unknown categories in columns [4] during transform. These unknown categories will be encoded as all zeros\n",
      "  UserWarning,\n",
      "/opt/conda/lib/python3.7/site-packages/sklearn/preprocessing/_encoders.py:174: UserWarning: Found unknown categories in columns [4] during transform. These unknown categories will be encoded as all zeros\n",
      "  UserWarning,\n",
      "/opt/conda/lib/python3.7/site-packages/sklearn/preprocessing/_encoders.py:174: UserWarning: Found unknown categories in columns [4] during transform. These unknown categories will be encoded as all zeros\n",
      "  UserWarning,\n",
      "/opt/conda/lib/python3.7/site-packages/sklearn/preprocessing/_encoders.py:174: UserWarning: Found unknown categories in columns [4] during transform. These unknown categories will be encoded as all zeros\n",
      "  UserWarning,\n",
      "/opt/conda/lib/python3.7/site-packages/sklearn/preprocessing/_encoders.py:174: UserWarning: Found unknown categories in columns [4] during transform. These unknown categories will be encoded as all zeros\n",
      "  UserWarning,\n",
      "/opt/conda/lib/python3.7/site-packages/sklearn/preprocessing/_encoders.py:174: UserWarning: Found unknown categories in columns [4] during transform. These unknown categories will be encoded as all zeros\n",
      "  UserWarning,\n",
      "/opt/conda/lib/python3.7/site-packages/sklearn/preprocessing/_encoders.py:174: UserWarning: Found unknown categories in columns [4] during transform. These unknown categories will be encoded as all zeros\n",
      "  UserWarning,\n",
      "/opt/conda/lib/python3.7/site-packages/sklearn/preprocessing/_encoders.py:174: UserWarning: Found unknown categories in columns [4] during transform. These unknown categories will be encoded as all zeros\n",
      "  UserWarning,\n",
      "/opt/conda/lib/python3.7/site-packages/sklearn/preprocessing/_encoders.py:174: UserWarning: Found unknown categories in columns [4] during transform. These unknown categories will be encoded as all zeros\n",
      "  UserWarning,\n",
      "/opt/conda/lib/python3.7/site-packages/sklearn/preprocessing/_encoders.py:174: UserWarning: Found unknown categories in columns [4] during transform. These unknown categories will be encoded as all zeros\n",
      "  UserWarning,\n",
      "/opt/conda/lib/python3.7/site-packages/sklearn/preprocessing/_encoders.py:174: UserWarning: Found unknown categories in columns [4] during transform. These unknown categories will be encoded as all zeros\n",
      "  UserWarning,\n",
      "/opt/conda/lib/python3.7/site-packages/sklearn/preprocessing/_encoders.py:174: UserWarning: Found unknown categories in columns [4] during transform. These unknown categories will be encoded as all zeros\n",
      "  UserWarning,\n",
      "/opt/conda/lib/python3.7/site-packages/sklearn/preprocessing/_encoders.py:174: UserWarning: Found unknown categories in columns [4] during transform. These unknown categories will be encoded as all zeros\n",
      "  UserWarning,\n",
      "/opt/conda/lib/python3.7/site-packages/sklearn/preprocessing/_encoders.py:174: UserWarning: Found unknown categories in columns [4] during transform. These unknown categories will be encoded as all zeros\n",
      "  UserWarning,\n",
      "/opt/conda/lib/python3.7/site-packages/sklearn/preprocessing/_encoders.py:174: UserWarning: Found unknown categories in columns [4] during transform. These unknown categories will be encoded as all zeros\n",
      "  UserWarning,\n",
      "/opt/conda/lib/python3.7/site-packages/sklearn/preprocessing/_encoders.py:174: UserWarning: Found unknown categories in columns [4] during transform. These unknown categories will be encoded as all zeros\n",
      "  UserWarning,\n",
      "/opt/conda/lib/python3.7/site-packages/sklearn/preprocessing/_encoders.py:174: UserWarning: Found unknown categories in columns [4] during transform. These unknown categories will be encoded as all zeros\n",
      "  UserWarning,\n",
      "/opt/conda/lib/python3.7/site-packages/sklearn/preprocessing/_encoders.py:174: UserWarning: Found unknown categories in columns [4] during transform. These unknown categories will be encoded as all zeros\n",
      "  UserWarning,\n",
      "/opt/conda/lib/python3.7/site-packages/sklearn/preprocessing/_encoders.py:174: UserWarning: Found unknown categories in columns [4] during transform. These unknown categories will be encoded as all zeros\n",
      "  UserWarning,\n",
      "/opt/conda/lib/python3.7/site-packages/sklearn/preprocessing/_encoders.py:174: UserWarning: Found unknown categories in columns [4] during transform. These unknown categories will be encoded as all zeros\n",
      "  UserWarning,\n",
      "/opt/conda/lib/python3.7/site-packages/sklearn/preprocessing/_encoders.py:174: UserWarning: Found unknown categories in columns [4] during transform. These unknown categories will be encoded as all zeros\n",
      "  UserWarning,\n",
      "/opt/conda/lib/python3.7/site-packages/sklearn/preprocessing/_encoders.py:174: UserWarning: Found unknown categories in columns [4] during transform. These unknown categories will be encoded as all zeros\n",
      "  UserWarning,\n",
      "/opt/conda/lib/python3.7/site-packages/sklearn/preprocessing/_encoders.py:174: UserWarning: Found unknown categories in columns [4] during transform. These unknown categories will be encoded as all zeros\n",
      "  UserWarning,\n",
      "/opt/conda/lib/python3.7/site-packages/sklearn/preprocessing/_encoders.py:174: UserWarning: Found unknown categories in columns [4] during transform. These unknown categories will be encoded as all zeros\n",
      "  UserWarning,\n",
      "/opt/conda/lib/python3.7/site-packages/sklearn/preprocessing/_encoders.py:174: UserWarning: Found unknown categories in columns [4] during transform. These unknown categories will be encoded as all zeros\n",
      "  UserWarning,\n",
      "/opt/conda/lib/python3.7/site-packages/sklearn/preprocessing/_encoders.py:174: UserWarning: Found unknown categories in columns [4] during transform. These unknown categories will be encoded as all zeros\n",
      "  UserWarning,\n",
      "/opt/conda/lib/python3.7/site-packages/sklearn/preprocessing/_encoders.py:174: UserWarning: Found unknown categories in columns [4] during transform. These unknown categories will be encoded as all zeros\n",
      "  UserWarning,\n",
      "/opt/conda/lib/python3.7/site-packages/sklearn/preprocessing/_encoders.py:174: UserWarning: Found unknown categories in columns [4] during transform. These unknown categories will be encoded as all zeros\n",
      "  UserWarning,\n",
      "/opt/conda/lib/python3.7/site-packages/sklearn/preprocessing/_encoders.py:174: UserWarning: Found unknown categories in columns [4] during transform. These unknown categories will be encoded as all zeros\n",
      "  UserWarning,\n",
      "/opt/conda/lib/python3.7/site-packages/sklearn/preprocessing/_encoders.py:174: UserWarning: Found unknown categories in columns [4] during transform. These unknown categories will be encoded as all zeros\n",
      "  UserWarning,\n",
      "/opt/conda/lib/python3.7/site-packages/sklearn/preprocessing/_encoders.py:174: UserWarning: Found unknown categories in columns [4] during transform. These unknown categories will be encoded as all zeros\n",
      "  UserWarning,\n",
      "/opt/conda/lib/python3.7/site-packages/sklearn/preprocessing/_encoders.py:174: UserWarning: Found unknown categories in columns [4] during transform. These unknown categories will be encoded as all zeros\n",
      "  UserWarning,\n",
      "/opt/conda/lib/python3.7/site-packages/sklearn/preprocessing/_encoders.py:174: UserWarning: Found unknown categories in columns [4] during transform. These unknown categories will be encoded as all zeros\n",
      "  UserWarning,\n",
      "/opt/conda/lib/python3.7/site-packages/sklearn/preprocessing/_encoders.py:174: UserWarning: Found unknown categories in columns [4] during transform. These unknown categories will be encoded as all zeros\n",
      "  UserWarning,\n",
      "/opt/conda/lib/python3.7/site-packages/sklearn/preprocessing/_encoders.py:174: UserWarning: Found unknown categories in columns [4] during transform. These unknown categories will be encoded as all zeros\n",
      "  UserWarning,\n",
      "/opt/conda/lib/python3.7/site-packages/sklearn/preprocessing/_encoders.py:174: UserWarning: Found unknown categories in columns [4] during transform. These unknown categories will be encoded as all zeros\n",
      "  UserWarning,\n",
      "/opt/conda/lib/python3.7/site-packages/sklearn/preprocessing/_encoders.py:174: UserWarning: Found unknown categories in columns [4] during transform. These unknown categories will be encoded as all zeros\n",
      "  UserWarning,\n",
      "/opt/conda/lib/python3.7/site-packages/sklearn/preprocessing/_encoders.py:174: UserWarning: Found unknown categories in columns [4] during transform. These unknown categories will be encoded as all zeros\n",
      "  UserWarning,\n",
      "/opt/conda/lib/python3.7/site-packages/sklearn/preprocessing/_encoders.py:174: UserWarning: Found unknown categories in columns [4] during transform. These unknown categories will be encoded as all zeros\n",
      "  UserWarning,\n",
      "/opt/conda/lib/python3.7/site-packages/sklearn/preprocessing/_encoders.py:174: UserWarning: Found unknown categories in columns [4] during transform. These unknown categories will be encoded as all zeros\n",
      "  UserWarning,\n",
      "/opt/conda/lib/python3.7/site-packages/sklearn/preprocessing/_encoders.py:174: UserWarning: Found unknown categories in columns [4] during transform. These unknown categories will be encoded as all zeros\n",
      "  UserWarning,\n",
      "/opt/conda/lib/python3.7/site-packages/sklearn/preprocessing/_encoders.py:174: UserWarning: Found unknown categories in columns [4] during transform. These unknown categories will be encoded as all zeros\n",
      "  UserWarning,\n",
      "/opt/conda/lib/python3.7/site-packages/sklearn/preprocessing/_encoders.py:174: UserWarning: Found unknown categories in columns [4] during transform. These unknown categories will be encoded as all zeros\n",
      "  UserWarning,\n",
      "/opt/conda/lib/python3.7/site-packages/sklearn/preprocessing/_encoders.py:174: UserWarning: Found unknown categories in columns [4] during transform. These unknown categories will be encoded as all zeros\n",
      "  UserWarning,\n",
      "/opt/conda/lib/python3.7/site-packages/sklearn/preprocessing/_encoders.py:174: UserWarning: Found unknown categories in columns [4] during transform. These unknown categories will be encoded as all zeros\n",
      "  UserWarning,\n",
      "/opt/conda/lib/python3.7/site-packages/sklearn/preprocessing/_encoders.py:174: UserWarning: Found unknown categories in columns [4] during transform. These unknown categories will be encoded as all zeros\n",
      "  UserWarning,\n",
      "/opt/conda/lib/python3.7/site-packages/sklearn/preprocessing/_encoders.py:174: UserWarning: Found unknown categories in columns [4] during transform. These unknown categories will be encoded as all zeros\n",
      "  UserWarning,\n",
      "/opt/conda/lib/python3.7/site-packages/sklearn/preprocessing/_encoders.py:174: UserWarning: Found unknown categories in columns [4] during transform. These unknown categories will be encoded as all zeros\n",
      "  UserWarning,\n",
      "/opt/conda/lib/python3.7/site-packages/sklearn/preprocessing/_encoders.py:174: UserWarning: Found unknown categories in columns [4] during transform. These unknown categories will be encoded as all zeros\n",
      "  UserWarning,\n",
      "/opt/conda/lib/python3.7/site-packages/sklearn/preprocessing/_encoders.py:174: UserWarning: Found unknown categories in columns [4] during transform. These unknown categories will be encoded as all zeros\n",
      "  UserWarning,\n",
      "/opt/conda/lib/python3.7/site-packages/sklearn/preprocessing/_encoders.py:174: UserWarning: Found unknown categories in columns [4] during transform. These unknown categories will be encoded as all zeros\n",
      "  UserWarning,\n",
      "/opt/conda/lib/python3.7/site-packages/sklearn/preprocessing/_encoders.py:174: UserWarning: Found unknown categories in columns [4] during transform. These unknown categories will be encoded as all zeros\n",
      "  UserWarning,\n",
      "/opt/conda/lib/python3.7/site-packages/sklearn/preprocessing/_encoders.py:174: UserWarning: Found unknown categories in columns [4] during transform. These unknown categories will be encoded as all zeros\n",
      "  UserWarning,\n",
      "/opt/conda/lib/python3.7/site-packages/sklearn/preprocessing/_encoders.py:174: UserWarning: Found unknown categories in columns [4] during transform. These unknown categories will be encoded as all zeros\n",
      "  UserWarning,\n",
      "/opt/conda/lib/python3.7/site-packages/sklearn/preprocessing/_encoders.py:174: UserWarning: Found unknown categories in columns [4] during transform. These unknown categories will be encoded as all zeros\n",
      "  UserWarning,\n",
      "/opt/conda/lib/python3.7/site-packages/sklearn/preprocessing/_encoders.py:174: UserWarning: Found unknown categories in columns [4] during transform. These unknown categories will be encoded as all zeros\n",
      "  UserWarning,\n",
      "/opt/conda/lib/python3.7/site-packages/sklearn/preprocessing/_encoders.py:174: UserWarning: Found unknown categories in columns [4] during transform. These unknown categories will be encoded as all zeros\n",
      "  UserWarning,\n",
      "/opt/conda/lib/python3.7/site-packages/sklearn/preprocessing/_encoders.py:174: UserWarning: Found unknown categories in columns [4] during transform. These unknown categories will be encoded as all zeros\n",
      "  UserWarning,\n",
      "/opt/conda/lib/python3.7/site-packages/sklearn/preprocessing/_encoders.py:174: UserWarning: Found unknown categories in columns [4] during transform. These unknown categories will be encoded as all zeros\n",
      "  UserWarning,\n",
      "/opt/conda/lib/python3.7/site-packages/sklearn/preprocessing/_encoders.py:174: UserWarning: Found unknown categories in columns [4] during transform. These unknown categories will be encoded as all zeros\n",
      "  UserWarning,\n",
      "/opt/conda/lib/python3.7/site-packages/sklearn/preprocessing/_encoders.py:174: UserWarning: Found unknown categories in columns [4] during transform. These unknown categories will be encoded as all zeros\n",
      "  UserWarning,\n",
      "/opt/conda/lib/python3.7/site-packages/sklearn/preprocessing/_encoders.py:174: UserWarning: Found unknown categories in columns [4] during transform. These unknown categories will be encoded as all zeros\n",
      "  UserWarning,\n",
      "/opt/conda/lib/python3.7/site-packages/sklearn/preprocessing/_encoders.py:174: UserWarning: Found unknown categories in columns [4] during transform. These unknown categories will be encoded as all zeros\n",
      "  UserWarning,\n",
      "/opt/conda/lib/python3.7/site-packages/sklearn/preprocessing/_encoders.py:174: UserWarning: Found unknown categories in columns [4] during transform. These unknown categories will be encoded as all zeros\n",
      "  UserWarning,\n",
      "/opt/conda/lib/python3.7/site-packages/sklearn/preprocessing/_encoders.py:174: UserWarning: Found unknown categories in columns [4] during transform. These unknown categories will be encoded as all zeros\n",
      "  UserWarning,\n",
      "/opt/conda/lib/python3.7/site-packages/sklearn/preprocessing/_encoders.py:174: UserWarning: Found unknown categories in columns [4] during transform. These unknown categories will be encoded as all zeros\n",
      "  UserWarning,\n",
      "/opt/conda/lib/python3.7/site-packages/sklearn/preprocessing/_encoders.py:174: UserWarning: Found unknown categories in columns [4] during transform. These unknown categories will be encoded as all zeros\n",
      "  UserWarning,\n",
      "/opt/conda/lib/python3.7/site-packages/sklearn/preprocessing/_encoders.py:174: UserWarning: Found unknown categories in columns [4] during transform. These unknown categories will be encoded as all zeros\n",
      "  UserWarning,\n",
      "/opt/conda/lib/python3.7/site-packages/sklearn/preprocessing/_encoders.py:174: UserWarning: Found unknown categories in columns [4] during transform. These unknown categories will be encoded as all zeros\n",
      "  UserWarning,\n",
      "/opt/conda/lib/python3.7/site-packages/sklearn/preprocessing/_encoders.py:174: UserWarning: Found unknown categories in columns [4] during transform. These unknown categories will be encoded as all zeros\n",
      "  UserWarning,\n",
      "/opt/conda/lib/python3.7/site-packages/sklearn/preprocessing/_encoders.py:174: UserWarning: Found unknown categories in columns [4] during transform. These unknown categories will be encoded as all zeros\n",
      "  UserWarning,\n",
      "/opt/conda/lib/python3.7/site-packages/sklearn/preprocessing/_encoders.py:174: UserWarning: Found unknown categories in columns [4] during transform. These unknown categories will be encoded as all zeros\n",
      "  UserWarning,\n",
      "/opt/conda/lib/python3.7/site-packages/sklearn/preprocessing/_encoders.py:174: UserWarning: Found unknown categories in columns [4] during transform. These unknown categories will be encoded as all zeros\n",
      "  UserWarning,\n",
      "/opt/conda/lib/python3.7/site-packages/sklearn/preprocessing/_encoders.py:174: UserWarning: Found unknown categories in columns [4] during transform. These unknown categories will be encoded as all zeros\n",
      "  UserWarning,\n",
      "/opt/conda/lib/python3.7/site-packages/sklearn/preprocessing/_encoders.py:174: UserWarning: Found unknown categories in columns [4] during transform. These unknown categories will be encoded as all zeros\n",
      "  UserWarning,\n",
      "/opt/conda/lib/python3.7/site-packages/sklearn/preprocessing/_encoders.py:174: UserWarning: Found unknown categories in columns [4] during transform. These unknown categories will be encoded as all zeros\n",
      "  UserWarning,\n",
      "/opt/conda/lib/python3.7/site-packages/sklearn/preprocessing/_encoders.py:174: UserWarning: Found unknown categories in columns [4] during transform. These unknown categories will be encoded as all zeros\n",
      "  UserWarning,\n",
      "/opt/conda/lib/python3.7/site-packages/sklearn/preprocessing/_encoders.py:174: UserWarning: Found unknown categories in columns [4] during transform. These unknown categories will be encoded as all zeros\n",
      "  UserWarning,\n",
      "/opt/conda/lib/python3.7/site-packages/sklearn/preprocessing/_encoders.py:174: UserWarning: Found unknown categories in columns [4] during transform. These unknown categories will be encoded as all zeros\n",
      "  UserWarning,\n",
      "/opt/conda/lib/python3.7/site-packages/sklearn/preprocessing/_encoders.py:174: UserWarning: Found unknown categories in columns [4] during transform. These unknown categories will be encoded as all zeros\n",
      "  UserWarning,\n",
      "/opt/conda/lib/python3.7/site-packages/sklearn/preprocessing/_encoders.py:174: UserWarning: Found unknown categories in columns [4] during transform. These unknown categories will be encoded as all zeros\n",
      "  UserWarning,\n",
      "/opt/conda/lib/python3.7/site-packages/sklearn/preprocessing/_encoders.py:174: UserWarning: Found unknown categories in columns [4] during transform. These unknown categories will be encoded as all zeros\n",
      "  UserWarning,\n",
      "/opt/conda/lib/python3.7/site-packages/sklearn/preprocessing/_encoders.py:174: UserWarning: Found unknown categories in columns [4] during transform. These unknown categories will be encoded as all zeros\n",
      "  UserWarning,\n",
      "/opt/conda/lib/python3.7/site-packages/sklearn/preprocessing/_encoders.py:174: UserWarning: Found unknown categories in columns [4] during transform. These unknown categories will be encoded as all zeros\n",
      "  UserWarning,\n",
      "/opt/conda/lib/python3.7/site-packages/sklearn/preprocessing/_encoders.py:174: UserWarning: Found unknown categories in columns [4] during transform. These unknown categories will be encoded as all zeros\n",
      "  UserWarning,\n",
      "/opt/conda/lib/python3.7/site-packages/sklearn/preprocessing/_encoders.py:174: UserWarning: Found unknown categories in columns [4] during transform. These unknown categories will be encoded as all zeros\n",
      "  UserWarning,\n",
      "/opt/conda/lib/python3.7/site-packages/sklearn/preprocessing/_encoders.py:174: UserWarning: Found unknown categories in columns [4] during transform. These unknown categories will be encoded as all zeros\n",
      "  UserWarning,\n",
      "/opt/conda/lib/python3.7/site-packages/sklearn/preprocessing/_encoders.py:174: UserWarning: Found unknown categories in columns [4] during transform. These unknown categories will be encoded as all zeros\n",
      "  UserWarning,\n",
      "/opt/conda/lib/python3.7/site-packages/sklearn/preprocessing/_encoders.py:174: UserWarning: Found unknown categories in columns [4] during transform. These unknown categories will be encoded as all zeros\n",
      "  UserWarning,\n",
      "/opt/conda/lib/python3.7/site-packages/sklearn/preprocessing/_encoders.py:174: UserWarning: Found unknown categories in columns [4] during transform. These unknown categories will be encoded as all zeros\n",
      "  UserWarning,\n",
      "/opt/conda/lib/python3.7/site-packages/sklearn/preprocessing/_encoders.py:174: UserWarning: Found unknown categories in columns [4] during transform. These unknown categories will be encoded as all zeros\n",
      "  UserWarning,\n",
      "/opt/conda/lib/python3.7/site-packages/sklearn/preprocessing/_encoders.py:174: UserWarning: Found unknown categories in columns [4] during transform. These unknown categories will be encoded as all zeros\n",
      "  UserWarning,\n",
      "/opt/conda/lib/python3.7/site-packages/sklearn/preprocessing/_encoders.py:174: UserWarning: Found unknown categories in columns [4] during transform. These unknown categories will be encoded as all zeros\n",
      "  UserWarning,\n",
      "/opt/conda/lib/python3.7/site-packages/sklearn/preprocessing/_encoders.py:174: UserWarning: Found unknown categories in columns [4] during transform. These unknown categories will be encoded as all zeros\n",
      "  UserWarning,\n",
      "/opt/conda/lib/python3.7/site-packages/sklearn/preprocessing/_encoders.py:174: UserWarning: Found unknown categories in columns [4] during transform. These unknown categories will be encoded as all zeros\n",
      "  UserWarning,\n",
      "/opt/conda/lib/python3.7/site-packages/sklearn/preprocessing/_encoders.py:174: UserWarning: Found unknown categories in columns [4] during transform. These unknown categories will be encoded as all zeros\n",
      "  UserWarning,\n",
      "/opt/conda/lib/python3.7/site-packages/sklearn/preprocessing/_encoders.py:174: UserWarning: Found unknown categories in columns [4] during transform. These unknown categories will be encoded as all zeros\n",
      "  UserWarning,\n",
      "/opt/conda/lib/python3.7/site-packages/sklearn/preprocessing/_encoders.py:174: UserWarning: Found unknown categories in columns [4] during transform. These unknown categories will be encoded as all zeros\n",
      "  UserWarning,\n",
      "/opt/conda/lib/python3.7/site-packages/sklearn/preprocessing/_encoders.py:174: UserWarning: Found unknown categories in columns [4] during transform. These unknown categories will be encoded as all zeros\n",
      "  UserWarning,\n",
      "/opt/conda/lib/python3.7/site-packages/sklearn/preprocessing/_encoders.py:174: UserWarning: Found unknown categories in columns [4] during transform. These unknown categories will be encoded as all zeros\n",
      "  UserWarning,\n",
      "/opt/conda/lib/python3.7/site-packages/sklearn/preprocessing/_encoders.py:174: UserWarning: Found unknown categories in columns [4] during transform. These unknown categories will be encoded as all zeros\n",
      "  UserWarning,\n",
      "/opt/conda/lib/python3.7/site-packages/sklearn/preprocessing/_encoders.py:174: UserWarning: Found unknown categories in columns [4] during transform. These unknown categories will be encoded as all zeros\n",
      "  UserWarning,\n",
      "/opt/conda/lib/python3.7/site-packages/sklearn/preprocessing/_encoders.py:174: UserWarning: Found unknown categories in columns [4] during transform. These unknown categories will be encoded as all zeros\n",
      "  UserWarning,\n",
      "/opt/conda/lib/python3.7/site-packages/sklearn/preprocessing/_encoders.py:174: UserWarning: Found unknown categories in columns [4] during transform. These unknown categories will be encoded as all zeros\n",
      "  UserWarning,\n",
      "/opt/conda/lib/python3.7/site-packages/sklearn/preprocessing/_encoders.py:174: UserWarning: Found unknown categories in columns [4] during transform. These unknown categories will be encoded as all zeros\n",
      "  UserWarning,\n",
      "/opt/conda/lib/python3.7/site-packages/sklearn/preprocessing/_encoders.py:174: UserWarning: Found unknown categories in columns [4] during transform. These unknown categories will be encoded as all zeros\n",
      "  UserWarning,\n",
      "/opt/conda/lib/python3.7/site-packages/sklearn/preprocessing/_encoders.py:174: UserWarning: Found unknown categories in columns [4] during transform. These unknown categories will be encoded as all zeros\n",
      "  UserWarning,\n",
      "/opt/conda/lib/python3.7/site-packages/sklearn/preprocessing/_encoders.py:174: UserWarning: Found unknown categories in columns [4] during transform. These unknown categories will be encoded as all zeros\n",
      "  UserWarning,\n",
      "/opt/conda/lib/python3.7/site-packages/sklearn/preprocessing/_encoders.py:174: UserWarning: Found unknown categories in columns [4] during transform. These unknown categories will be encoded as all zeros\n",
      "  UserWarning,\n",
      "/opt/conda/lib/python3.7/site-packages/sklearn/preprocessing/_encoders.py:174: UserWarning: Found unknown categories in columns [4] during transform. These unknown categories will be encoded as all zeros\n",
      "  UserWarning,\n",
      "/opt/conda/lib/python3.7/site-packages/sklearn/preprocessing/_encoders.py:174: UserWarning: Found unknown categories in columns [4] during transform. These unknown categories will be encoded as all zeros\n",
      "  UserWarning,\n",
      "/opt/conda/lib/python3.7/site-packages/sklearn/preprocessing/_encoders.py:174: UserWarning: Found unknown categories in columns [4] during transform. These unknown categories will be encoded as all zeros\n",
      "  UserWarning,\n",
      "/opt/conda/lib/python3.7/site-packages/sklearn/preprocessing/_encoders.py:174: UserWarning: Found unknown categories in columns [4] during transform. These unknown categories will be encoded as all zeros\n",
      "  UserWarning,\n",
      "/opt/conda/lib/python3.7/site-packages/sklearn/preprocessing/_encoders.py:174: UserWarning: Found unknown categories in columns [4] during transform. These unknown categories will be encoded as all zeros\n",
      "  UserWarning,\n",
      "/opt/conda/lib/python3.7/site-packages/sklearn/preprocessing/_encoders.py:174: UserWarning: Found unknown categories in columns [4] during transform. These unknown categories will be encoded as all zeros\n",
      "  UserWarning,\n",
      "/opt/conda/lib/python3.7/site-packages/sklearn/preprocessing/_encoders.py:174: UserWarning: Found unknown categories in columns [4] during transform. These unknown categories will be encoded as all zeros\n",
      "  UserWarning,\n",
      "/opt/conda/lib/python3.7/site-packages/sklearn/preprocessing/_encoders.py:174: UserWarning: Found unknown categories in columns [4] during transform. These unknown categories will be encoded as all zeros\n",
      "  UserWarning,\n",
      "/opt/conda/lib/python3.7/site-packages/sklearn/preprocessing/_encoders.py:174: UserWarning: Found unknown categories in columns [4] during transform. These unknown categories will be encoded as all zeros\n",
      "  UserWarning,\n",
      "/opt/conda/lib/python3.7/site-packages/sklearn/preprocessing/_encoders.py:174: UserWarning: Found unknown categories in columns [4] during transform. These unknown categories will be encoded as all zeros\n",
      "  UserWarning,\n",
      "/opt/conda/lib/python3.7/site-packages/sklearn/preprocessing/_encoders.py:174: UserWarning: Found unknown categories in columns [4] during transform. These unknown categories will be encoded as all zeros\n",
      "  UserWarning,\n",
      "/opt/conda/lib/python3.7/site-packages/sklearn/preprocessing/_encoders.py:174: UserWarning: Found unknown categories in columns [4] during transform. These unknown categories will be encoded as all zeros\n",
      "  UserWarning,\n",
      "/opt/conda/lib/python3.7/site-packages/sklearn/preprocessing/_encoders.py:174: UserWarning: Found unknown categories in columns [4] during transform. These unknown categories will be encoded as all zeros\n",
      "  UserWarning,\n",
      "/opt/conda/lib/python3.7/site-packages/sklearn/preprocessing/_encoders.py:174: UserWarning: Found unknown categories in columns [4] during transform. These unknown categories will be encoded as all zeros\n",
      "  UserWarning,\n",
      "/opt/conda/lib/python3.7/site-packages/sklearn/preprocessing/_encoders.py:174: UserWarning: Found unknown categories in columns [4] during transform. These unknown categories will be encoded as all zeros\n",
      "  UserWarning,\n",
      "/opt/conda/lib/python3.7/site-packages/sklearn/preprocessing/_encoders.py:174: UserWarning: Found unknown categories in columns [4] during transform. These unknown categories will be encoded as all zeros\n",
      "  UserWarning,\n",
      "/opt/conda/lib/python3.7/site-packages/sklearn/preprocessing/_encoders.py:174: UserWarning: Found unknown categories in columns [4] during transform. These unknown categories will be encoded as all zeros\n",
      "  UserWarning,\n",
      "/opt/conda/lib/python3.7/site-packages/sklearn/preprocessing/_encoders.py:174: UserWarning: Found unknown categories in columns [4] during transform. These unknown categories will be encoded as all zeros\n",
      "  UserWarning,\n",
      "/opt/conda/lib/python3.7/site-packages/sklearn/preprocessing/_encoders.py:174: UserWarning: Found unknown categories in columns [4] during transform. These unknown categories will be encoded as all zeros\n",
      "  UserWarning,\n",
      "/opt/conda/lib/python3.7/site-packages/sklearn/preprocessing/_encoders.py:174: UserWarning: Found unknown categories in columns [4] during transform. These unknown categories will be encoded as all zeros\n",
      "  UserWarning,\n",
      "/opt/conda/lib/python3.7/site-packages/sklearn/preprocessing/_encoders.py:174: UserWarning: Found unknown categories in columns [4] during transform. These unknown categories will be encoded as all zeros\n",
      "  UserWarning,\n",
      "/opt/conda/lib/python3.7/site-packages/sklearn/preprocessing/_encoders.py:174: UserWarning: Found unknown categories in columns [4] during transform. These unknown categories will be encoded as all zeros\n",
      "  UserWarning,\n",
      "/opt/conda/lib/python3.7/site-packages/sklearn/preprocessing/_encoders.py:174: UserWarning: Found unknown categories in columns [4] during transform. These unknown categories will be encoded as all zeros\n",
      "  UserWarning,\n",
      "/opt/conda/lib/python3.7/site-packages/sklearn/preprocessing/_encoders.py:174: UserWarning: Found unknown categories in columns [4] during transform. These unknown categories will be encoded as all zeros\n",
      "  UserWarning,\n",
      "/opt/conda/lib/python3.7/site-packages/sklearn/preprocessing/_encoders.py:174: UserWarning: Found unknown categories in columns [4] during transform. These unknown categories will be encoded as all zeros\n",
      "  UserWarning,\n",
      "/opt/conda/lib/python3.7/site-packages/sklearn/preprocessing/_encoders.py:174: UserWarning: Found unknown categories in columns [4] during transform. These unknown categories will be encoded as all zeros\n",
      "  UserWarning,\n",
      "/opt/conda/lib/python3.7/site-packages/sklearn/preprocessing/_encoders.py:174: UserWarning: Found unknown categories in columns [4] during transform. These unknown categories will be encoded as all zeros\n",
      "  UserWarning,\n",
      "/opt/conda/lib/python3.7/site-packages/sklearn/preprocessing/_encoders.py:174: UserWarning: Found unknown categories in columns [4] during transform. These unknown categories will be encoded as all zeros\n",
      "  UserWarning,\n",
      "/opt/conda/lib/python3.7/site-packages/sklearn/preprocessing/_encoders.py:174: UserWarning: Found unknown categories in columns [4] during transform. These unknown categories will be encoded as all zeros\n",
      "  UserWarning,\n",
      "/opt/conda/lib/python3.7/site-packages/sklearn/preprocessing/_encoders.py:174: UserWarning: Found unknown categories in columns [4] during transform. These unknown categories will be encoded as all zeros\n",
      "  UserWarning,\n",
      "/opt/conda/lib/python3.7/site-packages/sklearn/preprocessing/_encoders.py:174: UserWarning: Found unknown categories in columns [4] during transform. These unknown categories will be encoded as all zeros\n",
      "  UserWarning,\n",
      "/opt/conda/lib/python3.7/site-packages/sklearn/preprocessing/_encoders.py:174: UserWarning: Found unknown categories in columns [4] during transform. These unknown categories will be encoded as all zeros\n",
      "  UserWarning,\n",
      "/opt/conda/lib/python3.7/site-packages/sklearn/preprocessing/_encoders.py:174: UserWarning: Found unknown categories in columns [4] during transform. These unknown categories will be encoded as all zeros\n",
      "  UserWarning,\n",
      "/opt/conda/lib/python3.7/site-packages/sklearn/preprocessing/_encoders.py:174: UserWarning: Found unknown categories in columns [4] during transform. These unknown categories will be encoded as all zeros\n",
      "  UserWarning,\n",
      "/opt/conda/lib/python3.7/site-packages/sklearn/preprocessing/_encoders.py:174: UserWarning: Found unknown categories in columns [4] during transform. These unknown categories will be encoded as all zeros\n",
      "  UserWarning,\n",
      "/opt/conda/lib/python3.7/site-packages/sklearn/preprocessing/_encoders.py:174: UserWarning: Found unknown categories in columns [4] during transform. These unknown categories will be encoded as all zeros\n",
      "  UserWarning,\n",
      "/opt/conda/lib/python3.7/site-packages/sklearn/preprocessing/_encoders.py:174: UserWarning: Found unknown categories in columns [4] during transform. These unknown categories will be encoded as all zeros\n",
      "  UserWarning,\n",
      "/opt/conda/lib/python3.7/site-packages/sklearn/preprocessing/_encoders.py:174: UserWarning: Found unknown categories in columns [4] during transform. These unknown categories will be encoded as all zeros\n",
      "  UserWarning,\n",
      "/opt/conda/lib/python3.7/site-packages/sklearn/preprocessing/_encoders.py:174: UserWarning: Found unknown categories in columns [4] during transform. These unknown categories will be encoded as all zeros\n",
      "  UserWarning,\n",
      "/opt/conda/lib/python3.7/site-packages/sklearn/preprocessing/_encoders.py:174: UserWarning: Found unknown categories in columns [4] during transform. These unknown categories will be encoded as all zeros\n",
      "  UserWarning,\n",
      "/opt/conda/lib/python3.7/site-packages/sklearn/preprocessing/_encoders.py:174: UserWarning: Found unknown categories in columns [4] during transform. These unknown categories will be encoded as all zeros\n",
      "  UserWarning,\n",
      "/opt/conda/lib/python3.7/site-packages/sklearn/preprocessing/_encoders.py:174: UserWarning: Found unknown categories in columns [4] during transform. These unknown categories will be encoded as all zeros\n",
      "  UserWarning,\n",
      "/opt/conda/lib/python3.7/site-packages/sklearn/preprocessing/_encoders.py:174: UserWarning: Found unknown categories in columns [4] during transform. These unknown categories will be encoded as all zeros\n",
      "  UserWarning,\n",
      "/opt/conda/lib/python3.7/site-packages/sklearn/preprocessing/_encoders.py:174: UserWarning: Found unknown categories in columns [4] during transform. These unknown categories will be encoded as all zeros\n",
      "  UserWarning,\n",
      "/opt/conda/lib/python3.7/site-packages/sklearn/preprocessing/_encoders.py:174: UserWarning: Found unknown categories in columns [4] during transform. These unknown categories will be encoded as all zeros\n",
      "  UserWarning,\n",
      "/opt/conda/lib/python3.7/site-packages/sklearn/preprocessing/_encoders.py:174: UserWarning: Found unknown categories in columns [4] during transform. These unknown categories will be encoded as all zeros\n",
      "  UserWarning,\n",
      "/opt/conda/lib/python3.7/site-packages/sklearn/preprocessing/_encoders.py:174: UserWarning: Found unknown categories in columns [4] during transform. These unknown categories will be encoded as all zeros\n",
      "  UserWarning,\n",
      "/opt/conda/lib/python3.7/site-packages/sklearn/preprocessing/_encoders.py:174: UserWarning: Found unknown categories in columns [4] during transform. These unknown categories will be encoded as all zeros\n",
      "  UserWarning,\n",
      "/opt/conda/lib/python3.7/site-packages/sklearn/preprocessing/_encoders.py:174: UserWarning: Found unknown categories in columns [4] during transform. These unknown categories will be encoded as all zeros\n",
      "  UserWarning,\n",
      "/opt/conda/lib/python3.7/site-packages/sklearn/preprocessing/_encoders.py:174: UserWarning: Found unknown categories in columns [4] during transform. These unknown categories will be encoded as all zeros\n",
      "  UserWarning,\n",
      "/opt/conda/lib/python3.7/site-packages/sklearn/preprocessing/_encoders.py:174: UserWarning: Found unknown categories in columns [4] during transform. These unknown categories will be encoded as all zeros\n",
      "  UserWarning,\n",
      "/opt/conda/lib/python3.7/site-packages/sklearn/preprocessing/_encoders.py:174: UserWarning: Found unknown categories in columns [4] during transform. These unknown categories will be encoded as all zeros\n",
      "  UserWarning,\n",
      "/opt/conda/lib/python3.7/site-packages/sklearn/preprocessing/_encoders.py:174: UserWarning: Found unknown categories in columns [4] during transform. These unknown categories will be encoded as all zeros\n",
      "  UserWarning,\n",
      "/opt/conda/lib/python3.7/site-packages/sklearn/preprocessing/_encoders.py:174: UserWarning: Found unknown categories in columns [4] during transform. These unknown categories will be encoded as all zeros\n",
      "  UserWarning,\n",
      "/opt/conda/lib/python3.7/site-packages/sklearn/preprocessing/_encoders.py:174: UserWarning: Found unknown categories in columns [4] during transform. These unknown categories will be encoded as all zeros\n",
      "  UserWarning,\n",
      "/opt/conda/lib/python3.7/site-packages/sklearn/preprocessing/_encoders.py:174: UserWarning: Found unknown categories in columns [4] during transform. These unknown categories will be encoded as all zeros\n",
      "  UserWarning,\n",
      "/opt/conda/lib/python3.7/site-packages/sklearn/preprocessing/_encoders.py:174: UserWarning: Found unknown categories in columns [4] during transform. These unknown categories will be encoded as all zeros\n",
      "  UserWarning,\n",
      "/opt/conda/lib/python3.7/site-packages/sklearn/preprocessing/_encoders.py:174: UserWarning: Found unknown categories in columns [4] during transform. These unknown categories will be encoded as all zeros\n",
      "  UserWarning,\n",
      "/opt/conda/lib/python3.7/site-packages/sklearn/preprocessing/_encoders.py:174: UserWarning: Found unknown categories in columns [4] during transform. These unknown categories will be encoded as all zeros\n",
      "  UserWarning,\n",
      "/opt/conda/lib/python3.7/site-packages/sklearn/preprocessing/_encoders.py:174: UserWarning: Found unknown categories in columns [4] during transform. These unknown categories will be encoded as all zeros\n",
      "  UserWarning,\n",
      "/opt/conda/lib/python3.7/site-packages/sklearn/preprocessing/_encoders.py:174: UserWarning: Found unknown categories in columns [4] during transform. These unknown categories will be encoded as all zeros\n",
      "  UserWarning,\n",
      "/opt/conda/lib/python3.7/site-packages/sklearn/preprocessing/_encoders.py:174: UserWarning: Found unknown categories in columns [4] during transform. These unknown categories will be encoded as all zeros\n",
      "  UserWarning,\n",
      "/opt/conda/lib/python3.7/site-packages/sklearn/preprocessing/_encoders.py:174: UserWarning: Found unknown categories in columns [4] during transform. These unknown categories will be encoded as all zeros\n",
      "  UserWarning,\n",
      "/opt/conda/lib/python3.7/site-packages/sklearn/preprocessing/_encoders.py:174: UserWarning: Found unknown categories in columns [4] during transform. These unknown categories will be encoded as all zeros\n",
      "  UserWarning,\n",
      "/opt/conda/lib/python3.7/site-packages/sklearn/preprocessing/_encoders.py:174: UserWarning: Found unknown categories in columns [4] during transform. These unknown categories will be encoded as all zeros\n",
      "  UserWarning,\n",
      "/opt/conda/lib/python3.7/site-packages/sklearn/preprocessing/_encoders.py:174: UserWarning: Found unknown categories in columns [4] during transform. These unknown categories will be encoded as all zeros\n",
      "  UserWarning,\n",
      "/opt/conda/lib/python3.7/site-packages/sklearn/preprocessing/_encoders.py:174: UserWarning: Found unknown categories in columns [4] during transform. These unknown categories will be encoded as all zeros\n",
      "  UserWarning,\n",
      "/opt/conda/lib/python3.7/site-packages/sklearn/preprocessing/_encoders.py:174: UserWarning: Found unknown categories in columns [4] during transform. These unknown categories will be encoded as all zeros\n",
      "  UserWarning,\n",
      "/opt/conda/lib/python3.7/site-packages/sklearn/preprocessing/_encoders.py:174: UserWarning: Found unknown categories in columns [4] during transform. These unknown categories will be encoded as all zeros\n",
      "  UserWarning,\n",
      "/opt/conda/lib/python3.7/site-packages/sklearn/preprocessing/_encoders.py:174: UserWarning: Found unknown categories in columns [4] during transform. These unknown categories will be encoded as all zeros\n",
      "  UserWarning,\n",
      "/opt/conda/lib/python3.7/site-packages/sklearn/preprocessing/_encoders.py:174: UserWarning: Found unknown categories in columns [4] during transform. These unknown categories will be encoded as all zeros\n",
      "  UserWarning,\n",
      "/opt/conda/lib/python3.7/site-packages/sklearn/preprocessing/_encoders.py:174: UserWarning: Found unknown categories in columns [4] during transform. These unknown categories will be encoded as all zeros\n",
      "  UserWarning,\n",
      "/opt/conda/lib/python3.7/site-packages/sklearn/preprocessing/_encoders.py:174: UserWarning: Found unknown categories in columns [4] during transform. These unknown categories will be encoded as all zeros\n",
      "  UserWarning,\n",
      "/opt/conda/lib/python3.7/site-packages/sklearn/preprocessing/_encoders.py:174: UserWarning: Found unknown categories in columns [4] during transform. These unknown categories will be encoded as all zeros\n",
      "  UserWarning,\n",
      "/opt/conda/lib/python3.7/site-packages/sklearn/preprocessing/_encoders.py:174: UserWarning: Found unknown categories in columns [4] during transform. These unknown categories will be encoded as all zeros\n",
      "  UserWarning,\n",
      "/opt/conda/lib/python3.7/site-packages/sklearn/preprocessing/_encoders.py:174: UserWarning: Found unknown categories in columns [4] during transform. These unknown categories will be encoded as all zeros\n",
      "  UserWarning,\n",
      "/opt/conda/lib/python3.7/site-packages/sklearn/preprocessing/_encoders.py:174: UserWarning: Found unknown categories in columns [4] during transform. These unknown categories will be encoded as all zeros\n",
      "  UserWarning,\n",
      "/opt/conda/lib/python3.7/site-packages/sklearn/preprocessing/_encoders.py:174: UserWarning: Found unknown categories in columns [4] during transform. These unknown categories will be encoded as all zeros\n",
      "  UserWarning,\n",
      "/opt/conda/lib/python3.7/site-packages/sklearn/preprocessing/_encoders.py:174: UserWarning: Found unknown categories in columns [4] during transform. These unknown categories will be encoded as all zeros\n",
      "  UserWarning,\n",
      "/opt/conda/lib/python3.7/site-packages/sklearn/preprocessing/_encoders.py:174: UserWarning: Found unknown categories in columns [4] during transform. These unknown categories will be encoded as all zeros\n",
      "  UserWarning,\n",
      "/opt/conda/lib/python3.7/site-packages/sklearn/preprocessing/_encoders.py:174: UserWarning: Found unknown categories in columns [4] during transform. These unknown categories will be encoded as all zeros\n",
      "  UserWarning,\n",
      "/opt/conda/lib/python3.7/site-packages/sklearn/preprocessing/_encoders.py:174: UserWarning: Found unknown categories in columns [4] during transform. These unknown categories will be encoded as all zeros\n",
      "  UserWarning,\n",
      "/opt/conda/lib/python3.7/site-packages/sklearn/preprocessing/_encoders.py:174: UserWarning: Found unknown categories in columns [4] during transform. These unknown categories will be encoded as all zeros\n",
      "  UserWarning,\n",
      "/opt/conda/lib/python3.7/site-packages/sklearn/preprocessing/_encoders.py:174: UserWarning: Found unknown categories in columns [4] during transform. These unknown categories will be encoded as all zeros\n",
      "  UserWarning,\n",
      "/opt/conda/lib/python3.7/site-packages/sklearn/preprocessing/_encoders.py:174: UserWarning: Found unknown categories in columns [4] during transform. These unknown categories will be encoded as all zeros\n",
      "  UserWarning,\n",
      "/opt/conda/lib/python3.7/site-packages/sklearn/preprocessing/_encoders.py:174: UserWarning: Found unknown categories in columns [4] during transform. These unknown categories will be encoded as all zeros\n",
      "  UserWarning,\n",
      "/opt/conda/lib/python3.7/site-packages/sklearn/preprocessing/_encoders.py:174: UserWarning: Found unknown categories in columns [4] during transform. These unknown categories will be encoded as all zeros\n",
      "  UserWarning,\n",
      "/opt/conda/lib/python3.7/site-packages/sklearn/preprocessing/_encoders.py:174: UserWarning: Found unknown categories in columns [4] during transform. These unknown categories will be encoded as all zeros\n",
      "  UserWarning,\n",
      "/opt/conda/lib/python3.7/site-packages/sklearn/preprocessing/_encoders.py:174: UserWarning: Found unknown categories in columns [4] during transform. These unknown categories will be encoded as all zeros\n",
      "  UserWarning,\n",
      "/opt/conda/lib/python3.7/site-packages/sklearn/preprocessing/_encoders.py:174: UserWarning: Found unknown categories in columns [4] during transform. These unknown categories will be encoded as all zeros\n",
      "  UserWarning,\n",
      "/opt/conda/lib/python3.7/site-packages/sklearn/preprocessing/_encoders.py:174: UserWarning: Found unknown categories in columns [4] during transform. These unknown categories will be encoded as all zeros\n",
      "  UserWarning,\n",
      "/opt/conda/lib/python3.7/site-packages/sklearn/preprocessing/_encoders.py:174: UserWarning: Found unknown categories in columns [4] during transform. These unknown categories will be encoded as all zeros\n",
      "  UserWarning,\n",
      "/opt/conda/lib/python3.7/site-packages/sklearn/preprocessing/_encoders.py:174: UserWarning: Found unknown categories in columns [4] during transform. These unknown categories will be encoded as all zeros\n",
      "  UserWarning,\n",
      "/opt/conda/lib/python3.7/site-packages/sklearn/preprocessing/_encoders.py:174: UserWarning: Found unknown categories in columns [4] during transform. These unknown categories will be encoded as all zeros\n",
      "  UserWarning,\n",
      "/opt/conda/lib/python3.7/site-packages/sklearn/preprocessing/_encoders.py:174: UserWarning: Found unknown categories in columns [4] during transform. These unknown categories will be encoded as all zeros\n",
      "  UserWarning,\n",
      "/opt/conda/lib/python3.7/site-packages/sklearn/preprocessing/_encoders.py:174: UserWarning: Found unknown categories in columns [4] during transform. These unknown categories will be encoded as all zeros\n",
      "  UserWarning,\n",
      "/opt/conda/lib/python3.7/site-packages/sklearn/preprocessing/_encoders.py:174: UserWarning: Found unknown categories in columns [4] during transform. These unknown categories will be encoded as all zeros\n",
      "  UserWarning,\n",
      "/opt/conda/lib/python3.7/site-packages/sklearn/preprocessing/_encoders.py:174: UserWarning: Found unknown categories in columns [4] during transform. These unknown categories will be encoded as all zeros\n",
      "  UserWarning,\n",
      "/opt/conda/lib/python3.7/site-packages/sklearn/preprocessing/_encoders.py:174: UserWarning: Found unknown categories in columns [4] during transform. These unknown categories will be encoded as all zeros\n",
      "  UserWarning,\n",
      "/opt/conda/lib/python3.7/site-packages/sklearn/preprocessing/_encoders.py:174: UserWarning: Found unknown categories in columns [4] during transform. These unknown categories will be encoded as all zeros\n",
      "  UserWarning,\n",
      "/opt/conda/lib/python3.7/site-packages/sklearn/preprocessing/_encoders.py:174: UserWarning: Found unknown categories in columns [4] during transform. These unknown categories will be encoded as all zeros\n",
      "  UserWarning,\n",
      "/opt/conda/lib/python3.7/site-packages/sklearn/preprocessing/_encoders.py:174: UserWarning: Found unknown categories in columns [4] during transform. These unknown categories will be encoded as all zeros\n",
      "  UserWarning,\n",
      "/opt/conda/lib/python3.7/site-packages/sklearn/preprocessing/_encoders.py:174: UserWarning: Found unknown categories in columns [4] during transform. These unknown categories will be encoded as all zeros\n",
      "  UserWarning,\n",
      "/opt/conda/lib/python3.7/site-packages/sklearn/preprocessing/_encoders.py:174: UserWarning: Found unknown categories in columns [4] during transform. These unknown categories will be encoded as all zeros\n",
      "  UserWarning,\n",
      "/opt/conda/lib/python3.7/site-packages/sklearn/preprocessing/_encoders.py:174: UserWarning: Found unknown categories in columns [4] during transform. These unknown categories will be encoded as all zeros\n",
      "  UserWarning,\n",
      "/opt/conda/lib/python3.7/site-packages/sklearn/preprocessing/_encoders.py:174: UserWarning: Found unknown categories in columns [4] during transform. These unknown categories will be encoded as all zeros\n",
      "  UserWarning,\n",
      "/opt/conda/lib/python3.7/site-packages/sklearn/preprocessing/_encoders.py:174: UserWarning: Found unknown categories in columns [4] during transform. These unknown categories will be encoded as all zeros\n",
      "  UserWarning,\n",
      "/opt/conda/lib/python3.7/site-packages/sklearn/preprocessing/_encoders.py:174: UserWarning: Found unknown categories in columns [4] during transform. These unknown categories will be encoded as all zeros\n",
      "  UserWarning,\n",
      "/opt/conda/lib/python3.7/site-packages/sklearn/preprocessing/_encoders.py:174: UserWarning: Found unknown categories in columns [4] during transform. These unknown categories will be encoded as all zeros\n",
      "  UserWarning,\n",
      "/opt/conda/lib/python3.7/site-packages/sklearn/preprocessing/_encoders.py:174: UserWarning: Found unknown categories in columns [4] during transform. These unknown categories will be encoded as all zeros\n",
      "  UserWarning,\n",
      "/opt/conda/lib/python3.7/site-packages/sklearn/preprocessing/_encoders.py:174: UserWarning: Found unknown categories in columns [4] during transform. These unknown categories will be encoded as all zeros\n",
      "  UserWarning,\n",
      "/opt/conda/lib/python3.7/site-packages/sklearn/preprocessing/_encoders.py:174: UserWarning: Found unknown categories in columns [4] during transform. These unknown categories will be encoded as all zeros\n",
      "  UserWarning,\n",
      "/opt/conda/lib/python3.7/site-packages/sklearn/preprocessing/_encoders.py:174: UserWarning: Found unknown categories in columns [4] during transform. These unknown categories will be encoded as all zeros\n",
      "  UserWarning,\n",
      "/opt/conda/lib/python3.7/site-packages/sklearn/preprocessing/_encoders.py:174: UserWarning: Found unknown categories in columns [4] during transform. These unknown categories will be encoded as all zeros\n",
      "  UserWarning,\n",
      "/opt/conda/lib/python3.7/site-packages/sklearn/preprocessing/_encoders.py:174: UserWarning: Found unknown categories in columns [4] during transform. These unknown categories will be encoded as all zeros\n",
      "  UserWarning,\n",
      "/opt/conda/lib/python3.7/site-packages/sklearn/preprocessing/_encoders.py:174: UserWarning: Found unknown categories in columns [4] during transform. These unknown categories will be encoded as all zeros\n",
      "  UserWarning,\n",
      "/opt/conda/lib/python3.7/site-packages/sklearn/preprocessing/_encoders.py:174: UserWarning: Found unknown categories in columns [4] during transform. These unknown categories will be encoded as all zeros\n",
      "  UserWarning,\n",
      "/opt/conda/lib/python3.7/site-packages/sklearn/preprocessing/_encoders.py:174: UserWarning: Found unknown categories in columns [4] during transform. These unknown categories will be encoded as all zeros\n",
      "  UserWarning,\n",
      "/opt/conda/lib/python3.7/site-packages/sklearn/preprocessing/_encoders.py:174: UserWarning: Found unknown categories in columns [4] during transform. These unknown categories will be encoded as all zeros\n",
      "  UserWarning,\n",
      "/opt/conda/lib/python3.7/site-packages/sklearn/preprocessing/_encoders.py:174: UserWarning: Found unknown categories in columns [4] during transform. These unknown categories will be encoded as all zeros\n",
      "  UserWarning,\n",
      "/opt/conda/lib/python3.7/site-packages/sklearn/preprocessing/_encoders.py:174: UserWarning: Found unknown categories in columns [4] during transform. These unknown categories will be encoded as all zeros\n",
      "  UserWarning,\n",
      "/opt/conda/lib/python3.7/site-packages/sklearn/preprocessing/_encoders.py:174: UserWarning: Found unknown categories in columns [4] during transform. These unknown categories will be encoded as all zeros\n",
      "  UserWarning,\n",
      "/opt/conda/lib/python3.7/site-packages/sklearn/preprocessing/_encoders.py:174: UserWarning: Found unknown categories in columns [4] during transform. These unknown categories will be encoded as all zeros\n",
      "  UserWarning,\n",
      "/opt/conda/lib/python3.7/site-packages/sklearn/preprocessing/_encoders.py:174: UserWarning: Found unknown categories in columns [4] during transform. These unknown categories will be encoded as all zeros\n",
      "  UserWarning,\n",
      "/opt/conda/lib/python3.7/site-packages/sklearn/preprocessing/_encoders.py:174: UserWarning: Found unknown categories in columns [4] during transform. These unknown categories will be encoded as all zeros\n",
      "  UserWarning,\n",
      "/opt/conda/lib/python3.7/site-packages/sklearn/preprocessing/_encoders.py:174: UserWarning: Found unknown categories in columns [4] during transform. These unknown categories will be encoded as all zeros\n",
      "  UserWarning,\n",
      "/opt/conda/lib/python3.7/site-packages/sklearn/preprocessing/_encoders.py:174: UserWarning: Found unknown categories in columns [4] during transform. These unknown categories will be encoded as all zeros\n",
      "  UserWarning,\n",
      "/opt/conda/lib/python3.7/site-packages/sklearn/preprocessing/_encoders.py:174: UserWarning: Found unknown categories in columns [4] during transform. These unknown categories will be encoded as all zeros\n",
      "  UserWarning,\n",
      "/opt/conda/lib/python3.7/site-packages/sklearn/preprocessing/_encoders.py:174: UserWarning: Found unknown categories in columns [4] during transform. These unknown categories will be encoded as all zeros\n",
      "  UserWarning,\n",
      "/opt/conda/lib/python3.7/site-packages/sklearn/preprocessing/_encoders.py:174: UserWarning: Found unknown categories in columns [4] during transform. These unknown categories will be encoded as all zeros\n",
      "  UserWarning,\n",
      "/opt/conda/lib/python3.7/site-packages/sklearn/preprocessing/_encoders.py:174: UserWarning: Found unknown categories in columns [4] during transform. These unknown categories will be encoded as all zeros\n",
      "  UserWarning,\n",
      "/opt/conda/lib/python3.7/site-packages/sklearn/preprocessing/_encoders.py:174: UserWarning: Found unknown categories in columns [4] during transform. These unknown categories will be encoded as all zeros\n",
      "  UserWarning,\n",
      "/opt/conda/lib/python3.7/site-packages/sklearn/preprocessing/_encoders.py:174: UserWarning: Found unknown categories in columns [4] during transform. These unknown categories will be encoded as all zeros\n",
      "  UserWarning,\n",
      "/opt/conda/lib/python3.7/site-packages/sklearn/preprocessing/_encoders.py:174: UserWarning: Found unknown categories in columns [4] during transform. These unknown categories will be encoded as all zeros\n",
      "  UserWarning,\n",
      "/opt/conda/lib/python3.7/site-packages/sklearn/preprocessing/_encoders.py:174: UserWarning: Found unknown categories in columns [4] during transform. These unknown categories will be encoded as all zeros\n",
      "  UserWarning,\n",
      "/opt/conda/lib/python3.7/site-packages/sklearn/preprocessing/_encoders.py:174: UserWarning: Found unknown categories in columns [4] during transform. These unknown categories will be encoded as all zeros\n",
      "  UserWarning,\n",
      "/opt/conda/lib/python3.7/site-packages/sklearn/preprocessing/_encoders.py:174: UserWarning: Found unknown categories in columns [4] during transform. These unknown categories will be encoded as all zeros\n",
      "  UserWarning,\n",
      "/opt/conda/lib/python3.7/site-packages/sklearn/preprocessing/_encoders.py:174: UserWarning: Found unknown categories in columns [4] during transform. These unknown categories will be encoded as all zeros\n",
      "  UserWarning,\n",
      "/opt/conda/lib/python3.7/site-packages/sklearn/preprocessing/_encoders.py:174: UserWarning: Found unknown categories in columns [4] during transform. These unknown categories will be encoded as all zeros\n",
      "  UserWarning,\n",
      "/opt/conda/lib/python3.7/site-packages/sklearn/preprocessing/_encoders.py:174: UserWarning: Found unknown categories in columns [4] during transform. These unknown categories will be encoded as all zeros\n",
      "  UserWarning,\n",
      "/opt/conda/lib/python3.7/site-packages/sklearn/preprocessing/_encoders.py:174: UserWarning: Found unknown categories in columns [4] during transform. These unknown categories will be encoded as all zeros\n",
      "  UserWarning,\n",
      "/opt/conda/lib/python3.7/site-packages/sklearn/preprocessing/_encoders.py:174: UserWarning: Found unknown categories in columns [4] during transform. These unknown categories will be encoded as all zeros\n",
      "  UserWarning,\n",
      "/opt/conda/lib/python3.7/site-packages/sklearn/preprocessing/_encoders.py:174: UserWarning: Found unknown categories in columns [4] during transform. These unknown categories will be encoded as all zeros\n",
      "  UserWarning,\n",
      "/opt/conda/lib/python3.7/site-packages/sklearn/preprocessing/_encoders.py:174: UserWarning: Found unknown categories in columns [4] during transform. These unknown categories will be encoded as all zeros\n",
      "  UserWarning,\n",
      "/opt/conda/lib/python3.7/site-packages/sklearn/preprocessing/_encoders.py:174: UserWarning: Found unknown categories in columns [4] during transform. These unknown categories will be encoded as all zeros\n",
      "  UserWarning,\n",
      "/opt/conda/lib/python3.7/site-packages/sklearn/preprocessing/_encoders.py:174: UserWarning: Found unknown categories in columns [4] during transform. These unknown categories will be encoded as all zeros\n",
      "  UserWarning,\n",
      "/opt/conda/lib/python3.7/site-packages/sklearn/preprocessing/_encoders.py:174: UserWarning: Found unknown categories in columns [4] during transform. These unknown categories will be encoded as all zeros\n",
      "  UserWarning,\n",
      "/opt/conda/lib/python3.7/site-packages/sklearn/preprocessing/_encoders.py:174: UserWarning: Found unknown categories in columns [4] during transform. These unknown categories will be encoded as all zeros\n",
      "  UserWarning,\n",
      "/opt/conda/lib/python3.7/site-packages/sklearn/preprocessing/_encoders.py:174: UserWarning: Found unknown categories in columns [4] during transform. These unknown categories will be encoded as all zeros\n",
      "  UserWarning,\n",
      "/opt/conda/lib/python3.7/site-packages/sklearn/preprocessing/_encoders.py:174: UserWarning: Found unknown categories in columns [4] during transform. These unknown categories will be encoded as all zeros\n",
      "  UserWarning,\n",
      "/opt/conda/lib/python3.7/site-packages/sklearn/preprocessing/_encoders.py:174: UserWarning: Found unknown categories in columns [4] during transform. These unknown categories will be encoded as all zeros\n",
      "  UserWarning,\n",
      "/opt/conda/lib/python3.7/site-packages/sklearn/preprocessing/_encoders.py:174: UserWarning: Found unknown categories in columns [4] during transform. These unknown categories will be encoded as all zeros\n",
      "  UserWarning,\n",
      "/opt/conda/lib/python3.7/site-packages/sklearn/preprocessing/_encoders.py:174: UserWarning: Found unknown categories in columns [4] during transform. These unknown categories will be encoded as all zeros\n",
      "  UserWarning,\n",
      "/opt/conda/lib/python3.7/site-packages/sklearn/preprocessing/_encoders.py:174: UserWarning: Found unknown categories in columns [4] during transform. These unknown categories will be encoded as all zeros\n",
      "  UserWarning,\n",
      "/opt/conda/lib/python3.7/site-packages/sklearn/preprocessing/_encoders.py:174: UserWarning: Found unknown categories in columns [4] during transform. These unknown categories will be encoded as all zeros\n",
      "  UserWarning,\n",
      "/opt/conda/lib/python3.7/site-packages/sklearn/preprocessing/_encoders.py:174: UserWarning: Found unknown categories in columns [4] during transform. These unknown categories will be encoded as all zeros\n",
      "  UserWarning,\n",
      "/opt/conda/lib/python3.7/site-packages/sklearn/preprocessing/_encoders.py:174: UserWarning: Found unknown categories in columns [4] during transform. These unknown categories will be encoded as all zeros\n",
      "  UserWarning,\n"
     ]
    },
    {
     "data": {
      "text/plain": [
       "GridSearchCV(cv=5,\n",
       "             estimator=Pipeline(steps=[('columntransformer',\n",
       "                                        ColumnTransformer(n_jobs=-1,\n",
       "                                                          transformers=[('kbinsdiscretizer-1',\n",
       "                                                                         KBinsDiscretizer(encode='ordinal',\n",
       "                                                                                          strategy='uniform'),\n",
       "                                                                         ['Age']),\n",
       "                                                                        ('kbinsdiscretizer-2',\n",
       "                                                                         KBinsDiscretizer(encode='ordinal',\n",
       "                                                                                          n_bins=4),\n",
       "                                                                         ['Fare']),\n",
       "                                                                        ('onehotencoder',\n",
       "                                                                         OneHotEncoder(drop='if_binary',\n",
       "                                                                                       handle_unknown='ignore'),\n",
       "                                                                         ['Pclass'...\n",
       "                                                                        ('passthrough',\n",
       "                                                                         'passthrough',\n",
       "                                                                         ['Alone',\n",
       "                                                                          'Family_label',\n",
       "                                                                          'Ticket_label'])])),\n",
       "                                       ('randomforestclassifier',\n",
       "                                        RandomForestClassifier(random_state=17))]),\n",
       "             n_jobs=-1,\n",
       "             param_grid={'randomforestclassifier__max_depth': [2, 4, 6, 8],\n",
       "                         'randomforestclassifier__min_samples_leaf': [1, 2, 3,\n",
       "                                                                      4, 5, 6,\n",
       "                                                                      7, 8, 9,\n",
       "                                                                      10],\n",
       "                         'randomforestclassifier__min_samples_split': [2, 3, 4,\n",
       "                                                                       5, 6, 7,\n",
       "                                                                       8, 9,\n",
       "                                                                       10]},\n",
       "             scoring='accuracy')"
      ]
     },
     "execution_count": 58,
     "metadata": {},
     "output_type": "execute_result"
    }
   ],
   "source": [
    "gccv.fit(train_df, y_train)"
   ]
  },
  {
   "cell_type": "code",
   "execution_count": 59,
   "id": "9d7b844c",
   "metadata": {
    "execution": {
     "iopub.execute_input": "2022-03-29T06:53:47.209672Z",
     "iopub.status.busy": "2022-03-29T06:53:47.208763Z",
     "iopub.status.idle": "2022-03-29T06:53:47.213830Z",
     "shell.execute_reply": "2022-03-29T06:53:47.214296Z",
     "shell.execute_reply.started": "2022-03-29T06:49:07.321024Z"
    },
    "papermill": {
     "duration": 0.080186,
     "end_time": "2022-03-29T06:53:47.214556",
     "exception": false,
     "start_time": "2022-03-29T06:53:47.134370",
     "status": "completed"
    },
    "tags": []
   },
   "outputs": [
    {
     "data": {
      "text/plain": [
       "{'randomforestclassifier__max_depth': 8,\n",
       " 'randomforestclassifier__min_samples_leaf': 3,\n",
       " 'randomforestclassifier__min_samples_split': 10}"
      ]
     },
     "execution_count": 59,
     "metadata": {},
     "output_type": "execute_result"
    }
   ],
   "source": [
    "gccv.best_params_"
   ]
  },
  {
   "cell_type": "code",
   "execution_count": 60,
   "id": "755eedd2",
   "metadata": {
    "execution": {
     "iopub.execute_input": "2022-03-29T06:53:47.361052Z",
     "iopub.status.busy": "2022-03-29T06:53:47.360061Z",
     "iopub.status.idle": "2022-03-29T06:53:47.365250Z",
     "shell.execute_reply": "2022-03-29T06:53:47.365772Z",
     "shell.execute_reply.started": "2022-03-29T06:49:07.328637Z"
    },
    "papermill": {
     "duration": 0.081097,
     "end_time": "2022-03-29T06:53:47.365936",
     "exception": false,
     "start_time": "2022-03-29T06:53:47.284839",
     "status": "completed"
    },
    "tags": []
   },
   "outputs": [
    {
     "data": {
      "text/plain": [
       "0.8294206264515724"
      ]
     },
     "execution_count": 60,
     "metadata": {},
     "output_type": "execute_result"
    }
   ],
   "source": [
    "gccv.best_score_"
   ]
  },
  {
   "cell_type": "code",
   "execution_count": 61,
   "id": "4cd5c404",
   "metadata": {
    "execution": {
     "iopub.execute_input": "2022-03-29T06:53:47.512279Z",
     "iopub.status.busy": "2022-03-29T06:53:47.511285Z",
     "iopub.status.idle": "2022-03-29T06:53:47.555161Z",
     "shell.execute_reply": "2022-03-29T06:53:47.555606Z",
     "shell.execute_reply.started": "2022-03-29T06:49:07.348787Z"
    },
    "papermill": {
     "duration": 0.118671,
     "end_time": "2022-03-29T06:53:47.555781",
     "exception": false,
     "start_time": "2022-03-29T06:53:47.437110",
     "status": "completed"
    },
    "tags": []
   },
   "outputs": [
    {
     "data": {
      "text/plain": [
       "0.8529741863075196"
      ]
     },
     "execution_count": 61,
     "metadata": {},
     "output_type": "execute_result"
    }
   ],
   "source": [
    "gccv.score(train_df, y_train)"
   ]
  },
  {
   "cell_type": "code",
   "execution_count": 62,
   "id": "e0765a51",
   "metadata": {
    "execution": {
     "iopub.execute_input": "2022-03-29T06:53:47.704078Z",
     "iopub.status.busy": "2022-03-29T06:53:47.703085Z",
     "iopub.status.idle": "2022-03-29T06:53:47.739814Z",
     "shell.execute_reply": "2022-03-29T06:53:47.740259Z",
     "shell.execute_reply.started": "2022-03-29T06:49:07.409664Z"
    },
    "papermill": {
     "duration": 0.111912,
     "end_time": "2022-03-29T06:53:47.740429",
     "exception": false,
     "start_time": "2022-03-29T06:53:47.628517",
     "status": "completed"
    },
    "tags": []
   },
   "outputs": [],
   "source": [
    "predictions = gccv.predict(test_df)"
   ]
  },
  {
   "cell_type": "code",
   "execution_count": 63,
   "id": "f600fde4",
   "metadata": {
    "execution": {
     "iopub.execute_input": "2022-03-29T06:53:47.889232Z",
     "iopub.status.busy": "2022-03-29T06:53:47.888538Z",
     "iopub.status.idle": "2022-03-29T06:53:47.894956Z",
     "shell.execute_reply": "2022-03-29T06:53:47.895471Z",
     "shell.execute_reply.started": "2022-03-29T06:49:07.456566Z"
    },
    "papermill": {
     "duration": 0.082949,
     "end_time": "2022-03-29T06:53:47.895663",
     "exception": false,
     "start_time": "2022-03-29T06:53:47.812714",
     "status": "completed"
    },
    "tags": []
   },
   "outputs": [],
   "source": [
    "output = pd.DataFrame({'PassengerId': pass_id_test, 'Survived': predictions})\n",
    "output.to_csv('submission.csv', index=False)"
   ]
  },
  {
   "cell_type": "code",
   "execution_count": 64,
   "id": "42e42ab4",
   "metadata": {
    "execution": {
     "iopub.execute_input": "2022-03-29T06:53:48.043173Z",
     "iopub.status.busy": "2022-03-29T06:53:48.042279Z",
     "iopub.status.idle": "2022-03-29T06:53:48.051515Z",
     "shell.execute_reply": "2022-03-29T06:53:48.051981Z",
     "shell.execute_reply.started": "2022-03-29T06:49:07.471041Z"
    },
    "papermill": {
     "duration": 0.084389,
     "end_time": "2022-03-29T06:53:48.052154",
     "exception": false,
     "start_time": "2022-03-29T06:53:47.967765",
     "status": "completed"
    },
    "tags": []
   },
   "outputs": [
    {
     "data": {
      "text/html": [
       "<div>\n",
       "<style scoped>\n",
       "    .dataframe tbody tr th:only-of-type {\n",
       "        vertical-align: middle;\n",
       "    }\n",
       "\n",
       "    .dataframe tbody tr th {\n",
       "        vertical-align: top;\n",
       "    }\n",
       "\n",
       "    .dataframe thead th {\n",
       "        text-align: right;\n",
       "    }\n",
       "</style>\n",
       "<table border=\"1\" class=\"dataframe\">\n",
       "  <thead>\n",
       "    <tr style=\"text-align: right;\">\n",
       "      <th></th>\n",
       "      <th>PassengerId</th>\n",
       "      <th>Survived</th>\n",
       "    </tr>\n",
       "  </thead>\n",
       "  <tbody>\n",
       "    <tr>\n",
       "      <th>0</th>\n",
       "      <td>892</td>\n",
       "      <td>0</td>\n",
       "    </tr>\n",
       "    <tr>\n",
       "      <th>1</th>\n",
       "      <td>893</td>\n",
       "      <td>1</td>\n",
       "    </tr>\n",
       "    <tr>\n",
       "      <th>2</th>\n",
       "      <td>894</td>\n",
       "      <td>0</td>\n",
       "    </tr>\n",
       "    <tr>\n",
       "      <th>3</th>\n",
       "      <td>895</td>\n",
       "      <td>0</td>\n",
       "    </tr>\n",
       "    <tr>\n",
       "      <th>4</th>\n",
       "      <td>896</td>\n",
       "      <td>1</td>\n",
       "    </tr>\n",
       "    <tr>\n",
       "      <th>...</th>\n",
       "      <td>...</td>\n",
       "      <td>...</td>\n",
       "    </tr>\n",
       "    <tr>\n",
       "      <th>413</th>\n",
       "      <td>1305</td>\n",
       "      <td>0</td>\n",
       "    </tr>\n",
       "    <tr>\n",
       "      <th>414</th>\n",
       "      <td>1306</td>\n",
       "      <td>1</td>\n",
       "    </tr>\n",
       "    <tr>\n",
       "      <th>415</th>\n",
       "      <td>1307</td>\n",
       "      <td>0</td>\n",
       "    </tr>\n",
       "    <tr>\n",
       "      <th>416</th>\n",
       "      <td>1308</td>\n",
       "      <td>0</td>\n",
       "    </tr>\n",
       "    <tr>\n",
       "      <th>417</th>\n",
       "      <td>1309</td>\n",
       "      <td>1</td>\n",
       "    </tr>\n",
       "  </tbody>\n",
       "</table>\n",
       "<p>418 rows × 2 columns</p>\n",
       "</div>"
      ],
      "text/plain": [
       "     PassengerId  Survived\n",
       "0            892         0\n",
       "1            893         1\n",
       "2            894         0\n",
       "3            895         0\n",
       "4            896         1\n",
       "..           ...       ...\n",
       "413         1305         0\n",
       "414         1306         1\n",
       "415         1307         0\n",
       "416         1308         0\n",
       "417         1309         1\n",
       "\n",
       "[418 rows x 2 columns]"
      ]
     },
     "execution_count": 64,
     "metadata": {},
     "output_type": "execute_result"
    }
   ],
   "source": [
    "output"
   ]
  }
 ],
 "metadata": {
  "kernelspec": {
   "display_name": "Python 3",
   "language": "python",
   "name": "python3"
  },
  "language_info": {
   "codemirror_mode": {
    "name": "ipython",
    "version": 3
   },
   "file_extension": ".py",
   "mimetype": "text/x-python",
   "name": "python",
   "nbconvert_exporter": "python",
   "pygments_lexer": "ipython3",
   "version": "3.7.12"
  },
  "papermill": {
   "default_parameters": {},
   "duration": 205.474144,
   "end_time": "2022-03-29T06:53:48.934385",
   "environment_variables": {},
   "exception": null,
   "input_path": "__notebook__.ipynb",
   "output_path": "__notebook__.ipynb",
   "parameters": {},
   "start_time": "2022-03-29T06:50:23.460241",
   "version": "2.3.3"
  }
 },
 "nbformat": 4,
 "nbformat_minor": 5
}
