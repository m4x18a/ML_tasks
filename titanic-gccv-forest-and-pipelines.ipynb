{
 "cells": [
  {
   "cell_type": "code",
   "execution_count": 1,
   "id": "1e1241ac",
   "metadata": {
    "_cell_guid": "b1076dfc-b9ad-4769-8c92-a6c4dae69d19",
    "_uuid": "8f2839f25d086af736a60e9eeb907d3b93b6e0e5",
    "execution": {
     "iopub.execute_input": "2022-03-25T11:58:20.585170Z",
     "iopub.status.busy": "2022-03-25T11:58:20.577871Z",
     "iopub.status.idle": "2022-03-25T11:58:20.590588Z",
     "shell.execute_reply": "2022-03-25T11:58:20.591085Z",
     "shell.execute_reply.started": "2022-03-23T07:27:03.194672Z"
    },
    "papermill": {
     "duration": 0.051437,
     "end_time": "2022-03-25T11:58:20.591440",
     "exception": false,
     "start_time": "2022-03-25T11:58:20.540003",
     "status": "completed"
    },
    "tags": []
   },
   "outputs": [
    {
     "name": "stdout",
     "output_type": "stream",
     "text": [
      "/kaggle/input/titanic/train.csv\n",
      "/kaggle/input/titanic/test.csv\n",
      "/kaggle/input/titanic/gender_submission.csv\n"
     ]
    }
   ],
   "source": [
    "# This Python 3 environment comes with many helpful analytics libraries installed\n",
    "# It is defined by the kaggle/python Docker image: https://github.com/kaggle/docker-python\n",
    "# For example, here's several helpful packages to load\n",
    "\n",
    "import numpy as np # linear algebra\n",
    "import pandas as pd # data processing, CSV file I/O (e.g. pd.read_csv)\n",
    "\n",
    "# Input data files are available in the read-only \"../input/\" directory\n",
    "# For example, running this (by clicking run or pressing Shift+Enter) will list all files under the input directory\n",
    "\n",
    "import os\n",
    "for dirname, _, filenames in os.walk('/kaggle/input'):\n",
    "    for filename in filenames:\n",
    "        print(os.path.join(dirname, filename))\n",
    "\n",
    "# You can write up to 20GB to the current directory (/kaggle/working/) that gets preserved as output when you create a version using \"Save & Run All\" \n",
    "# You can also write temporary files to /kaggle/temp/, but they won't be saved outside of the current session"
   ]
  },
  {
   "cell_type": "code",
   "execution_count": 2,
   "id": "319def2b",
   "metadata": {
    "execution": {
     "iopub.execute_input": "2022-03-25T11:58:20.665366Z",
     "iopub.status.busy": "2022-03-25T11:58:20.664620Z",
     "iopub.status.idle": "2022-03-25T11:58:22.271807Z",
     "shell.execute_reply": "2022-03-25T11:58:22.271209Z",
     "shell.execute_reply.started": "2022-03-23T07:27:03.661466Z"
    },
    "papermill": {
     "duration": 1.647175,
     "end_time": "2022-03-25T11:58:22.271977",
     "exception": false,
     "start_time": "2022-03-25T11:58:20.624802",
     "status": "completed"
    },
    "tags": []
   },
   "outputs": [],
   "source": [
    "import matplotlib.pyplot as plt\n",
    "import seaborn as sns\n",
    "from sklearn.impute import SimpleImputer\n",
    "from sklearn.preprocessing import OneHotEncoder\n",
    "from sklearn.ensemble import RandomForestClassifier\n",
    "from sklearn.compose import make_column_transformer, ColumnTransformer\n",
    "from sklearn.pipeline import make_pipeline, Pipeline\n",
    "from sklearn.linear_model import LogisticRegression\n",
    "\n",
    "from sklearn.preprocessing import KBinsDiscretizer\n",
    "from sklearn.tree import DecisionTreeClassifier\n",
    "from sklearn.neighbors import KNeighborsClassifier\n",
    "from sklearn.model_selection import train_test_split, cross_val_score, GridSearchCV\n",
    "from sklearn.metrics import confusion_matrix, ConfusionMatrixDisplay, classification_report, accuracy_score"
   ]
  },
  {
   "cell_type": "code",
   "execution_count": 3,
   "id": "086efb11",
   "metadata": {
    "execution": {
     "iopub.execute_input": "2022-03-25T11:58:22.343571Z",
     "iopub.status.busy": "2022-03-25T11:58:22.342852Z",
     "iopub.status.idle": "2022-03-25T11:58:22.372124Z",
     "shell.execute_reply": "2022-03-25T11:58:22.372710Z",
     "shell.execute_reply.started": "2022-03-23T07:27:04.131912Z"
    },
    "papermill": {
     "duration": 0.066288,
     "end_time": "2022-03-25T11:58:22.373083",
     "exception": false,
     "start_time": "2022-03-25T11:58:22.306795",
     "status": "completed"
    },
    "tags": []
   },
   "outputs": [],
   "source": [
    "train_df = pd.read_csv('/kaggle/input/titanic/train.csv')\n",
    "test_df = pd.read_csv('/kaggle/input/titanic/test.csv')"
   ]
  },
  {
   "cell_type": "code",
   "execution_count": 4,
   "id": "28f3c6e9",
   "metadata": {
    "execution": {
     "iopub.execute_input": "2022-03-25T11:58:22.443477Z",
     "iopub.status.busy": "2022-03-25T11:58:22.442763Z",
     "iopub.status.idle": "2022-03-25T11:58:22.466940Z",
     "shell.execute_reply": "2022-03-25T11:58:22.467457Z",
     "shell.execute_reply.started": "2022-03-23T07:27:04.60246Z"
    },
    "papermill": {
     "duration": 0.059873,
     "end_time": "2022-03-25T11:58:22.467658",
     "exception": false,
     "start_time": "2022-03-25T11:58:22.407785",
     "status": "completed"
    },
    "tags": []
   },
   "outputs": [
    {
     "data": {
      "text/html": [
       "<div>\n",
       "<style scoped>\n",
       "    .dataframe tbody tr th:only-of-type {\n",
       "        vertical-align: middle;\n",
       "    }\n",
       "\n",
       "    .dataframe tbody tr th {\n",
       "        vertical-align: top;\n",
       "    }\n",
       "\n",
       "    .dataframe thead th {\n",
       "        text-align: right;\n",
       "    }\n",
       "</style>\n",
       "<table border=\"1\" class=\"dataframe\">\n",
       "  <thead>\n",
       "    <tr style=\"text-align: right;\">\n",
       "      <th></th>\n",
       "      <th>PassengerId</th>\n",
       "      <th>Survived</th>\n",
       "      <th>Pclass</th>\n",
       "      <th>Name</th>\n",
       "      <th>Sex</th>\n",
       "      <th>Age</th>\n",
       "      <th>SibSp</th>\n",
       "      <th>Parch</th>\n",
       "      <th>Ticket</th>\n",
       "      <th>Fare</th>\n",
       "      <th>Cabin</th>\n",
       "      <th>Embarked</th>\n",
       "    </tr>\n",
       "  </thead>\n",
       "  <tbody>\n",
       "    <tr>\n",
       "      <th>0</th>\n",
       "      <td>1</td>\n",
       "      <td>0</td>\n",
       "      <td>3</td>\n",
       "      <td>Braund, Mr. Owen Harris</td>\n",
       "      <td>male</td>\n",
       "      <td>22.0</td>\n",
       "      <td>1</td>\n",
       "      <td>0</td>\n",
       "      <td>A/5 21171</td>\n",
       "      <td>7.2500</td>\n",
       "      <td>NaN</td>\n",
       "      <td>S</td>\n",
       "    </tr>\n",
       "    <tr>\n",
       "      <th>1</th>\n",
       "      <td>2</td>\n",
       "      <td>1</td>\n",
       "      <td>1</td>\n",
       "      <td>Cumings, Mrs. John Bradley (Florence Briggs Th...</td>\n",
       "      <td>female</td>\n",
       "      <td>38.0</td>\n",
       "      <td>1</td>\n",
       "      <td>0</td>\n",
       "      <td>PC 17599</td>\n",
       "      <td>71.2833</td>\n",
       "      <td>C85</td>\n",
       "      <td>C</td>\n",
       "    </tr>\n",
       "    <tr>\n",
       "      <th>2</th>\n",
       "      <td>3</td>\n",
       "      <td>1</td>\n",
       "      <td>3</td>\n",
       "      <td>Heikkinen, Miss. Laina</td>\n",
       "      <td>female</td>\n",
       "      <td>26.0</td>\n",
       "      <td>0</td>\n",
       "      <td>0</td>\n",
       "      <td>STON/O2. 3101282</td>\n",
       "      <td>7.9250</td>\n",
       "      <td>NaN</td>\n",
       "      <td>S</td>\n",
       "    </tr>\n",
       "    <tr>\n",
       "      <th>3</th>\n",
       "      <td>4</td>\n",
       "      <td>1</td>\n",
       "      <td>1</td>\n",
       "      <td>Futrelle, Mrs. Jacques Heath (Lily May Peel)</td>\n",
       "      <td>female</td>\n",
       "      <td>35.0</td>\n",
       "      <td>1</td>\n",
       "      <td>0</td>\n",
       "      <td>113803</td>\n",
       "      <td>53.1000</td>\n",
       "      <td>C123</td>\n",
       "      <td>S</td>\n",
       "    </tr>\n",
       "    <tr>\n",
       "      <th>4</th>\n",
       "      <td>5</td>\n",
       "      <td>0</td>\n",
       "      <td>3</td>\n",
       "      <td>Allen, Mr. William Henry</td>\n",
       "      <td>male</td>\n",
       "      <td>35.0</td>\n",
       "      <td>0</td>\n",
       "      <td>0</td>\n",
       "      <td>373450</td>\n",
       "      <td>8.0500</td>\n",
       "      <td>NaN</td>\n",
       "      <td>S</td>\n",
       "    </tr>\n",
       "  </tbody>\n",
       "</table>\n",
       "</div>"
      ],
      "text/plain": [
       "   PassengerId  Survived  Pclass  \\\n",
       "0            1         0       3   \n",
       "1            2         1       1   \n",
       "2            3         1       3   \n",
       "3            4         1       1   \n",
       "4            5         0       3   \n",
       "\n",
       "                                                Name     Sex   Age  SibSp  \\\n",
       "0                            Braund, Mr. Owen Harris    male  22.0      1   \n",
       "1  Cumings, Mrs. John Bradley (Florence Briggs Th...  female  38.0      1   \n",
       "2                             Heikkinen, Miss. Laina  female  26.0      0   \n",
       "3       Futrelle, Mrs. Jacques Heath (Lily May Peel)  female  35.0      1   \n",
       "4                           Allen, Mr. William Henry    male  35.0      0   \n",
       "\n",
       "   Parch            Ticket     Fare Cabin Embarked  \n",
       "0      0         A/5 21171   7.2500   NaN        S  \n",
       "1      0          PC 17599  71.2833   C85        C  \n",
       "2      0  STON/O2. 3101282   7.9250   NaN        S  \n",
       "3      0            113803  53.1000  C123        S  \n",
       "4      0            373450   8.0500   NaN        S  "
      ]
     },
     "execution_count": 4,
     "metadata": {},
     "output_type": "execute_result"
    }
   ],
   "source": [
    "train_df.head()"
   ]
  },
  {
   "cell_type": "code",
   "execution_count": 5,
   "id": "f48dd03e",
   "metadata": {
    "execution": {
     "iopub.execute_input": "2022-03-25T11:58:22.539146Z",
     "iopub.status.busy": "2022-03-25T11:58:22.537472Z",
     "iopub.status.idle": "2022-03-25T11:58:22.563776Z",
     "shell.execute_reply": "2022-03-25T11:58:22.564442Z",
     "shell.execute_reply.started": "2022-03-23T07:27:05.072195Z"
    },
    "papermill": {
     "duration": 0.063539,
     "end_time": "2022-03-25T11:58:22.564643",
     "exception": false,
     "start_time": "2022-03-25T11:58:22.501104",
     "status": "completed"
    },
    "tags": []
   },
   "outputs": [
    {
     "name": "stdout",
     "output_type": "stream",
     "text": [
      "<class 'pandas.core.frame.DataFrame'>\n",
      "RangeIndex: 891 entries, 0 to 890\n",
      "Data columns (total 12 columns):\n",
      " #   Column       Non-Null Count  Dtype  \n",
      "---  ------       --------------  -----  \n",
      " 0   PassengerId  891 non-null    int64  \n",
      " 1   Survived     891 non-null    int64  \n",
      " 2   Pclass       891 non-null    int64  \n",
      " 3   Name         891 non-null    object \n",
      " 4   Sex          891 non-null    object \n",
      " 5   Age          714 non-null    float64\n",
      " 6   SibSp        891 non-null    int64  \n",
      " 7   Parch        891 non-null    int64  \n",
      " 8   Ticket       891 non-null    object \n",
      " 9   Fare         891 non-null    float64\n",
      " 10  Cabin        204 non-null    object \n",
      " 11  Embarked     889 non-null    object \n",
      "dtypes: float64(2), int64(5), object(5)\n",
      "memory usage: 83.7+ KB\n"
     ]
    }
   ],
   "source": [
    "train_df.info()"
   ]
  },
  {
   "cell_type": "code",
   "execution_count": 6,
   "id": "d58a41e7",
   "metadata": {
    "execution": {
     "iopub.execute_input": "2022-03-25T11:58:22.634430Z",
     "iopub.status.busy": "2022-03-25T11:58:22.633469Z",
     "iopub.status.idle": "2022-03-25T11:58:22.642574Z",
     "shell.execute_reply": "2022-03-25T11:58:22.643202Z",
     "shell.execute_reply.started": "2022-03-23T07:27:05.533522Z"
    },
    "papermill": {
     "duration": 0.045508,
     "end_time": "2022-03-25T11:58:22.643380",
     "exception": false,
     "start_time": "2022-03-25T11:58:22.597872",
     "status": "completed"
    },
    "tags": []
   },
   "outputs": [
    {
     "data": {
      "text/plain": [
       "PassengerId      0\n",
       "Survived         0\n",
       "Pclass           0\n",
       "Name             0\n",
       "Sex              0\n",
       "Age            177\n",
       "SibSp            0\n",
       "Parch            0\n",
       "Ticket           0\n",
       "Fare             0\n",
       "Cabin          687\n",
       "Embarked         2\n",
       "dtype: int64"
      ]
     },
     "execution_count": 6,
     "metadata": {},
     "output_type": "execute_result"
    }
   ],
   "source": [
    "train_df.isna().sum()"
   ]
  },
  {
   "cell_type": "code",
   "execution_count": 7,
   "id": "f0894cdd",
   "metadata": {
    "execution": {
     "iopub.execute_input": "2022-03-25T11:58:22.716773Z",
     "iopub.status.busy": "2022-03-25T11:58:22.715755Z",
     "iopub.status.idle": "2022-03-25T11:58:22.722925Z",
     "shell.execute_reply": "2022-03-25T11:58:22.723519Z",
     "shell.execute_reply.started": "2022-03-23T07:27:05.988209Z"
    },
    "papermill": {
     "duration": 0.047238,
     "end_time": "2022-03-25T11:58:22.723704",
     "exception": false,
     "start_time": "2022-03-25T11:58:22.676466",
     "status": "completed"
    },
    "tags": []
   },
   "outputs": [
    {
     "data": {
      "text/plain": [
       "PassengerId      0\n",
       "Pclass           0\n",
       "Name             0\n",
       "Sex              0\n",
       "Age             86\n",
       "SibSp            0\n",
       "Parch            0\n",
       "Ticket           0\n",
       "Fare             1\n",
       "Cabin          327\n",
       "Embarked         0\n",
       "dtype: int64"
      ]
     },
     "execution_count": 7,
     "metadata": {},
     "output_type": "execute_result"
    }
   ],
   "source": [
    "test_df.isna().sum()"
   ]
  },
  {
   "cell_type": "code",
   "execution_count": 8,
   "id": "217d845a",
   "metadata": {
    "execution": {
     "iopub.execute_input": "2022-03-25T11:58:22.797222Z",
     "iopub.status.busy": "2022-03-25T11:58:22.796231Z",
     "iopub.status.idle": "2022-03-25T11:58:22.806218Z",
     "shell.execute_reply": "2022-03-25T11:58:22.806818Z",
     "shell.execute_reply.started": "2022-03-23T07:27:06.454885Z"
    },
    "papermill": {
     "duration": 0.049625,
     "end_time": "2022-03-25T11:58:22.806999",
     "exception": false,
     "start_time": "2022-03-25T11:58:22.757374",
     "status": "completed"
    },
    "tags": []
   },
   "outputs": [
    {
     "data": {
      "text/plain": [
       "Name      891\n",
       "Ticket    681\n",
       "Cabin     147\n",
       "dtype: int64"
      ]
     },
     "execution_count": 8,
     "metadata": {},
     "output_type": "execute_result"
    }
   ],
   "source": [
    "train_df.loc[:, ['Name', 'Ticket', 'Cabin']].nunique()"
   ]
  },
  {
   "cell_type": "code",
   "execution_count": 9,
   "id": "518507f6",
   "metadata": {
    "execution": {
     "iopub.execute_input": "2022-03-25T11:58:22.880130Z",
     "iopub.status.busy": "2022-03-25T11:58:22.879127Z",
     "iopub.status.idle": "2022-03-25T11:58:23.086178Z",
     "shell.execute_reply": "2022-03-25T11:58:23.086640Z",
     "shell.execute_reply.started": "2022-03-23T07:27:06.903237Z"
    },
    "papermill": {
     "duration": 0.245728,
     "end_time": "2022-03-25T11:58:23.086843",
     "exception": false,
     "start_time": "2022-03-25T11:58:22.841115",
     "status": "completed"
    },
    "tags": []
   },
   "outputs": [
    {
     "data": {
      "text/plain": [
       "<AxesSubplot:xlabel='Survived', ylabel='count'>"
      ]
     },
     "execution_count": 9,
     "metadata": {},
     "output_type": "execute_result"
    },
    {
     "data": {
      "image/png": "[encoded data removed]",
      "text/plain": [
       "<Figure size 432x288 with 1 Axes>"
      ]
     },
     "metadata": {
      "needs_background": "light"
     },
     "output_type": "display_data"
    }
   ],
   "source": [
    "sns.countplot(x='Survived', data=train_df)"
   ]
  },
  {
   "cell_type": "code",
   "execution_count": 10,
   "id": "b3831900",
   "metadata": {
    "execution": {
     "iopub.execute_input": "2022-03-25T11:58:23.164551Z",
     "iopub.status.busy": "2022-03-25T11:58:23.163569Z",
     "iopub.status.idle": "2022-03-25T11:58:23.357271Z",
     "shell.execute_reply": "2022-03-25T11:58:23.356664Z",
     "shell.execute_reply.started": "2022-03-23T07:27:07.363574Z"
    },
    "papermill": {
     "duration": 0.235384,
     "end_time": "2022-03-25T11:58:23.357425",
     "exception": false,
     "start_time": "2022-03-25T11:58:23.122041",
     "status": "completed"
    },
    "tags": []
   },
   "outputs": [
    {
     "data": {
      "text/plain": [
       "<AxesSubplot:xlabel='Sex', ylabel='count'>"
      ]
     },
     "execution_count": 10,
     "metadata": {},
     "output_type": "execute_result"
    },
    {
     "data": {
      "image/png": "[encoded data removed]",
      "text/plain": [
       "<Figure size 432x288 with 1 Axes>"
      ]
     },
     "metadata": {
      "needs_background": "light"
     },
     "output_type": "display_data"
    }
   ],
   "source": [
    "sns.countplot(x='Sex', hue='Survived', data=train_df)"
   ]
  },
  {
   "cell_type": "code",
   "execution_count": 11,
   "id": "1f1a47ac",
   "metadata": {
    "execution": {
     "iopub.execute_input": "2022-03-25T11:58:23.434718Z",
     "iopub.status.busy": "2022-03-25T11:58:23.433788Z",
     "iopub.status.idle": "2022-03-25T11:58:23.656881Z",
     "shell.execute_reply": "2022-03-25T11:58:23.657328Z",
     "shell.execute_reply.started": "2022-03-23T07:27:07.818211Z"
    },
    "papermill": {
     "duration": 0.262707,
     "end_time": "2022-03-25T11:58:23.657518",
     "exception": false,
     "start_time": "2022-03-25T11:58:23.394811",
     "status": "completed"
    },
    "tags": []
   },
   "outputs": [
    {
     "data": {
      "text/plain": [
       "<AxesSubplot:xlabel='Pclass', ylabel='count'>"
      ]
     },
     "execution_count": 11,
     "metadata": {},
     "output_type": "execute_result"
    },
    {
     "data": {
      "image/png": "[encoded data removed]",
      "text/plain": [
       "<Figure size 432x288 with 1 Axes>"
      ]
     },
     "metadata": {
      "needs_background": "light"
     },
     "output_type": "display_data"
    }
   ],
   "source": [
    "sns.countplot(x='Pclass', hue='Survived', data=train_df)"
   ]
  },
  {
   "cell_type": "code",
   "execution_count": 12,
   "id": "f94908a0",
   "metadata": {
    "execution": {
     "iopub.execute_input": "2022-03-25T11:58:23.736373Z",
     "iopub.status.busy": "2022-03-25T11:58:23.735368Z",
     "iopub.status.idle": "2022-03-25T11:58:24.266319Z",
     "shell.execute_reply": "2022-03-25T11:58:24.266809Z",
     "shell.execute_reply.started": "2022-03-23T07:27:08.091618Z"
    },
    "papermill": {
     "duration": 0.572394,
     "end_time": "2022-03-25T11:58:24.267017",
     "exception": false,
     "start_time": "2022-03-25T11:58:23.694623",
     "status": "completed"
    },
    "tags": []
   },
   "outputs": [
    {
     "data": {
      "text/plain": [
       "<seaborn.axisgrid.FacetGrid at 0x7facb66c0a90>"
      ]
     },
     "execution_count": 12,
     "metadata": {},
     "output_type": "execute_result"
    },
    {
     "data": {
      "image/png": "[encoded data removed]",
      "text/plain": [
       "<Figure size 360x360 with 1 Axes>"
      ]
     },
     "metadata": {
      "needs_background": "light"
     },
     "output_type": "display_data"
    }
   ],
   "source": [
    "sns.displot(train_df['Fare'])"
   ]
  },
  {
   "cell_type": "code",
   "execution_count": 13,
   "id": "e6a552ef",
   "metadata": {
    "execution": {
     "iopub.execute_input": "2022-03-25T11:58:24.352659Z",
     "iopub.status.busy": "2022-03-25T11:58:24.351479Z",
     "iopub.status.idle": "2022-03-25T11:58:24.354926Z",
     "shell.execute_reply": "2022-03-25T11:58:24.354269Z",
     "shell.execute_reply.started": "2022-03-23T07:27:08.746222Z"
    },
    "papermill": {
     "duration": 0.048881,
     "end_time": "2022-03-25T11:58:24.355084",
     "exception": false,
     "start_time": "2022-03-25T11:58:24.306203",
     "status": "completed"
    },
    "tags": []
   },
   "outputs": [],
   "source": [
    "pass_id_train = train_df['PassengerId']\n",
    "pass_id_test = test_df['PassengerId']\n",
    "y_train = np.array(train_df['Survived'])"
   ]
  },
  {
   "cell_type": "code",
   "execution_count": 14,
   "id": "0afc025c",
   "metadata": {
    "execution": {
     "iopub.execute_input": "2022-03-25T11:58:24.441346Z",
     "iopub.status.busy": "2022-03-25T11:58:24.440505Z",
     "iopub.status.idle": "2022-03-25T11:58:24.443305Z",
     "shell.execute_reply": "2022-03-25T11:58:24.443769Z",
     "shell.execute_reply.started": "2022-03-23T07:27:08.753005Z"
    },
    "papermill": {
     "duration": 0.049958,
     "end_time": "2022-03-25T11:58:24.443969",
     "exception": false,
     "start_time": "2022-03-25T11:58:24.394011",
     "status": "completed"
    },
    "tags": []
   },
   "outputs": [],
   "source": [
    "train_df['Family_size'] = train_df['SibSp'] + train_df['Parch']\n",
    "test_df['Family_size'] = test_df['SibSp'] + test_df['Parch']"
   ]
  },
  {
   "cell_type": "code",
   "execution_count": 15,
   "id": "5055e4c4",
   "metadata": {
    "execution": {
     "iopub.execute_input": "2022-03-25T11:58:24.533017Z",
     "iopub.status.busy": "2022-03-25T11:58:24.530943Z",
     "iopub.status.idle": "2022-03-25T11:58:24.535135Z",
     "shell.execute_reply": "2022-03-25T11:58:24.535787Z",
     "shell.execute_reply.started": "2022-03-23T07:27:08.769616Z"
    },
    "papermill": {
     "duration": 0.05218,
     "end_time": "2022-03-25T11:58:24.535990",
     "exception": false,
     "start_time": "2022-03-25T11:58:24.483810",
     "status": "completed"
    },
    "tags": []
   },
   "outputs": [],
   "source": [
    "train_df.drop(['SibSp', 'Parch'], axis=1, inplace=True)\n",
    "test_df.drop(['SibSp', 'Parch'], axis=1, inplace=True)"
   ]
  },
  {
   "cell_type": "code",
   "execution_count": 16,
   "id": "e1f88ea8",
   "metadata": {
    "execution": {
     "iopub.execute_input": "2022-03-25T11:58:24.619534Z",
     "iopub.status.busy": "2022-03-25T11:58:24.618855Z",
     "iopub.status.idle": "2022-03-25T11:58:24.622603Z",
     "shell.execute_reply": "2022-03-25T11:58:24.623216Z",
     "shell.execute_reply.started": "2022-03-23T07:27:08.783538Z"
    },
    "papermill": {
     "duration": 0.046296,
     "end_time": "2022-03-25T11:58:24.623387",
     "exception": false,
     "start_time": "2022-03-25T11:58:24.577091",
     "status": "completed"
    },
    "tags": []
   },
   "outputs": [],
   "source": [
    "SimpleImputer.get_feature_names_out = (lambda self, names=None: self.feature_names_in_)"
   ]
  },
  {
   "cell_type": "code",
   "execution_count": 17,
   "id": "eb2ee6d7",
   "metadata": {
    "execution": {
     "iopub.execute_input": "2022-03-25T11:58:24.704621Z",
     "iopub.status.busy": "2022-03-25T11:58:24.703972Z",
     "iopub.status.idle": "2022-03-25T11:58:24.707790Z",
     "shell.execute_reply": "2022-03-25T11:58:24.708361Z",
     "shell.execute_reply.started": "2022-03-23T07:27:08.811272Z"
    },
    "papermill": {
     "duration": 0.046152,
     "end_time": "2022-03-25T11:58:24.708531",
     "exception": false,
     "start_time": "2022-03-25T11:58:24.662379",
     "status": "completed"
    },
    "tags": []
   },
   "outputs": [],
   "source": [
    "pipe_embarked = make_pipeline(SimpleImputer(strategy='most_frequent'), OneHotEncoder())"
   ]
  },
  {
   "cell_type": "code",
   "execution_count": 18,
   "id": "8b08ed0a",
   "metadata": {
    "execution": {
     "iopub.execute_input": "2022-03-25T11:58:24.789869Z",
     "iopub.status.busy": "2022-03-25T11:58:24.789170Z",
     "iopub.status.idle": "2022-03-25T11:58:24.794805Z",
     "shell.execute_reply": "2022-03-25T11:58:24.794111Z",
     "shell.execute_reply.started": "2022-03-23T07:27:09.140855Z"
    },
    "papermill": {
     "duration": 0.047594,
     "end_time": "2022-03-25T11:58:24.794962",
     "exception": false,
     "start_time": "2022-03-25T11:58:24.747368",
     "status": "completed"
    },
    "tags": []
   },
   "outputs": [],
   "source": [
    "transformer = make_column_transformer(\n",
    "    (pipe_embarked, ['Embarked']),\n",
    "    (SimpleImputer(strategy='mean'), ['Age']),\n",
    "    (OneHotEncoder(drop='if_binary'), ['Sex', 'Pclass']),\n",
    "    ('passthrough', ['Family_size']),\n",
    "    n_jobs=-1)"
   ]
  },
  {
   "cell_type": "code",
   "execution_count": 19,
   "id": "4200bc17",
   "metadata": {
    "execution": {
     "iopub.execute_input": "2022-03-25T11:58:24.879308Z",
     "iopub.status.busy": "2022-03-25T11:58:24.878619Z",
     "iopub.status.idle": "2022-03-25T11:58:26.621278Z",
     "shell.execute_reply": "2022-03-25T11:58:26.618771Z",
     "shell.execute_reply.started": "2022-03-23T07:27:09.386025Z"
    },
    "papermill": {
     "duration": 1.788019,
     "end_time": "2022-03-25T11:58:26.621520",
     "exception": false,
     "start_time": "2022-03-25T11:58:24.833501",
     "status": "completed"
    },
    "tags": []
   },
   "outputs": [
    {
     "data": {
      "text/html": [
       "<div>\n",
       "<style scoped>\n",
       "    .dataframe tbody tr th:only-of-type {\n",
       "        vertical-align: middle;\n",
       "    }\n",
       "\n",
       "    .dataframe tbody tr th {\n",
       "        vertical-align: top;\n",
       "    }\n",
       "\n",
       "    .dataframe thead th {\n",
       "        text-align: right;\n",
       "    }\n",
       "</style>\n",
       "<table border=\"1\" class=\"dataframe\">\n",
       "  <thead>\n",
       "    <tr style=\"text-align: right;\">\n",
       "      <th></th>\n",
       "      <th>pipeline__Embarked_C</th>\n",
       "      <th>pipeline__Embarked_Q</th>\n",
       "      <th>pipeline__Embarked_S</th>\n",
       "      <th>simpleimputer__Age</th>\n",
       "      <th>onehotencoder__Sex_male</th>\n",
       "      <th>onehotencoder__Pclass_1</th>\n",
       "      <th>onehotencoder__Pclass_2</th>\n",
       "      <th>onehotencoder__Pclass_3</th>\n",
       "      <th>passthrough__Family_size</th>\n",
       "    </tr>\n",
       "  </thead>\n",
       "  <tbody>\n",
       "    <tr>\n",
       "      <th>0</th>\n",
       "      <td>0.0</td>\n",
       "      <td>0.0</td>\n",
       "      <td>1.0</td>\n",
       "      <td>22.000000</td>\n",
       "      <td>1.0</td>\n",
       "      <td>0.0</td>\n",
       "      <td>0.0</td>\n",
       "      <td>1.0</td>\n",
       "      <td>1.0</td>\n",
       "    </tr>\n",
       "    <tr>\n",
       "      <th>1</th>\n",
       "      <td>1.0</td>\n",
       "      <td>0.0</td>\n",
       "      <td>0.0</td>\n",
       "      <td>38.000000</td>\n",
       "      <td>0.0</td>\n",
       "      <td>1.0</td>\n",
       "      <td>0.0</td>\n",
       "      <td>0.0</td>\n",
       "      <td>1.0</td>\n",
       "    </tr>\n",
       "    <tr>\n",
       "      <th>2</th>\n",
       "      <td>0.0</td>\n",
       "      <td>0.0</td>\n",
       "      <td>1.0</td>\n",
       "      <td>26.000000</td>\n",
       "      <td>0.0</td>\n",
       "      <td>0.0</td>\n",
       "      <td>0.0</td>\n",
       "      <td>1.0</td>\n",
       "      <td>0.0</td>\n",
       "    </tr>\n",
       "    <tr>\n",
       "      <th>3</th>\n",
       "      <td>0.0</td>\n",
       "      <td>0.0</td>\n",
       "      <td>1.0</td>\n",
       "      <td>35.000000</td>\n",
       "      <td>0.0</td>\n",
       "      <td>1.0</td>\n",
       "      <td>0.0</td>\n",
       "      <td>0.0</td>\n",
       "      <td>1.0</td>\n",
       "    </tr>\n",
       "    <tr>\n",
       "      <th>4</th>\n",
       "      <td>0.0</td>\n",
       "      <td>0.0</td>\n",
       "      <td>1.0</td>\n",
       "      <td>35.000000</td>\n",
       "      <td>1.0</td>\n",
       "      <td>0.0</td>\n",
       "      <td>0.0</td>\n",
       "      <td>1.0</td>\n",
       "      <td>0.0</td>\n",
       "    </tr>\n",
       "    <tr>\n",
       "      <th>...</th>\n",
       "      <td>...</td>\n",
       "      <td>...</td>\n",
       "      <td>...</td>\n",
       "      <td>...</td>\n",
       "      <td>...</td>\n",
       "      <td>...</td>\n",
       "      <td>...</td>\n",
       "      <td>...</td>\n",
       "      <td>...</td>\n",
       "    </tr>\n",
       "    <tr>\n",
       "      <th>886</th>\n",
       "      <td>0.0</td>\n",
       "      <td>0.0</td>\n",
       "      <td>1.0</td>\n",
       "      <td>27.000000</td>\n",
       "      <td>1.0</td>\n",
       "      <td>0.0</td>\n",
       "      <td>1.0</td>\n",
       "      <td>0.0</td>\n",
       "      <td>0.0</td>\n",
       "    </tr>\n",
       "    <tr>\n",
       "      <th>887</th>\n",
       "      <td>0.0</td>\n",
       "      <td>0.0</td>\n",
       "      <td>1.0</td>\n",
       "      <td>19.000000</td>\n",
       "      <td>0.0</td>\n",
       "      <td>1.0</td>\n",
       "      <td>0.0</td>\n",
       "      <td>0.0</td>\n",
       "      <td>0.0</td>\n",
       "    </tr>\n",
       "    <tr>\n",
       "      <th>888</th>\n",
       "      <td>0.0</td>\n",
       "      <td>0.0</td>\n",
       "      <td>1.0</td>\n",
       "      <td>29.699118</td>\n",
       "      <td>0.0</td>\n",
       "      <td>0.0</td>\n",
       "      <td>0.0</td>\n",
       "      <td>1.0</td>\n",
       "      <td>3.0</td>\n",
       "    </tr>\n",
       "    <tr>\n",
       "      <th>889</th>\n",
       "      <td>1.0</td>\n",
       "      <td>0.0</td>\n",
       "      <td>0.0</td>\n",
       "      <td>26.000000</td>\n",
       "      <td>1.0</td>\n",
       "      <td>1.0</td>\n",
       "      <td>0.0</td>\n",
       "      <td>0.0</td>\n",
       "      <td>0.0</td>\n",
       "    </tr>\n",
       "    <tr>\n",
       "      <th>890</th>\n",
       "      <td>0.0</td>\n",
       "      <td>1.0</td>\n",
       "      <td>0.0</td>\n",
       "      <td>32.000000</td>\n",
       "      <td>1.0</td>\n",
       "      <td>0.0</td>\n",
       "      <td>0.0</td>\n",
       "      <td>1.0</td>\n",
       "      <td>0.0</td>\n",
       "    </tr>\n",
       "  </tbody>\n",
       "</table>\n",
       "<p>891 rows × 9 columns</p>\n",
       "</div>"
      ],
      "text/plain": [
       "     pipeline__Embarked_C  pipeline__Embarked_Q  pipeline__Embarked_S  \\\n",
       "0                     0.0                   0.0                   1.0   \n",
       "1                     1.0                   0.0                   0.0   \n",
       "2                     0.0                   0.0                   1.0   \n",
       "3                     0.0                   0.0                   1.0   \n",
       "4                     0.0                   0.0                   1.0   \n",
       "..                    ...                   ...                   ...   \n",
       "886                   0.0                   0.0                   1.0   \n",
       "887                   0.0                   0.0                   1.0   \n",
       "888                   0.0                   0.0                   1.0   \n",
       "889                   1.0                   0.0                   0.0   \n",
       "890                   0.0                   1.0                   0.0   \n",
       "\n",
       "     simpleimputer__Age  onehotencoder__Sex_male  onehotencoder__Pclass_1  \\\n",
       "0             22.000000                      1.0                      0.0   \n",
       "1             38.000000                      0.0                      1.0   \n",
       "2             26.000000                      0.0                      0.0   \n",
       "3             35.000000                      0.0                      1.0   \n",
       "4             35.000000                      1.0                      0.0   \n",
       "..                  ...                      ...                      ...   \n",
       "886           27.000000                      1.0                      0.0   \n",
       "887           19.000000                      0.0                      1.0   \n",
       "888           29.699118                      0.0                      0.0   \n",
       "889           26.000000                      1.0                      1.0   \n",
       "890           32.000000                      1.0                      0.0   \n",
       "\n",
       "     onehotencoder__Pclass_2  onehotencoder__Pclass_3  \\\n",
       "0                        0.0                      1.0   \n",
       "1                        0.0                      0.0   \n",
       "2                        0.0                      1.0   \n",
       "3                        0.0                      0.0   \n",
       "4                        0.0                      1.0   \n",
       "..                       ...                      ...   \n",
       "886                      1.0                      0.0   \n",
       "887                      0.0                      0.0   \n",
       "888                      0.0                      1.0   \n",
       "889                      0.0                      0.0   \n",
       "890                      0.0                      1.0   \n",
       "\n",
       "     passthrough__Family_size  \n",
       "0                         1.0  \n",
       "1                         1.0  \n",
       "2                         0.0  \n",
       "3                         1.0  \n",
       "4                         0.0  \n",
       "..                        ...  \n",
       "886                       0.0  \n",
       "887                       0.0  \n",
       "888                       3.0  \n",
       "889                       0.0  \n",
       "890                       0.0  \n",
       "\n",
       "[891 rows x 9 columns]"
      ]
     },
     "execution_count": 19,
     "metadata": {},
     "output_type": "execute_result"
    }
   ],
   "source": [
    "pd.DataFrame(transformer.fit_transform(train_df), columns=transformer.get_feature_names_out())"
   ]
  },
  {
   "cell_type": "code",
   "execution_count": 20,
   "id": "b820e9f7",
   "metadata": {
    "execution": {
     "iopub.execute_input": "2022-03-25T11:58:26.723123Z",
     "iopub.status.busy": "2022-03-25T11:58:26.722376Z",
     "iopub.status.idle": "2022-03-25T11:58:26.727613Z",
     "shell.execute_reply": "2022-03-25T11:58:26.728246Z",
     "shell.execute_reply.started": "2022-03-23T07:27:11.024631Z"
    },
    "papermill": {
     "duration": 0.054037,
     "end_time": "2022-03-25T11:58:26.728428",
     "exception": false,
     "start_time": "2022-03-25T11:58:26.674391",
     "status": "completed"
    },
    "tags": []
   },
   "outputs": [],
   "source": [
    "clf = DecisionTreeClassifier(random_state=17)"
   ]
  },
  {
   "cell_type": "code",
   "execution_count": 21,
   "id": "fe6ac374",
   "metadata": {
    "execution": {
     "iopub.execute_input": "2022-03-25T11:58:26.818374Z",
     "iopub.status.busy": "2022-03-25T11:58:26.817593Z",
     "iopub.status.idle": "2022-03-25T11:58:26.820129Z",
     "shell.execute_reply": "2022-03-25T11:58:26.820613Z",
     "shell.execute_reply.started": "2022-03-23T07:27:11.031558Z"
    },
    "papermill": {
     "duration": 0.048778,
     "end_time": "2022-03-25T11:58:26.820796",
     "exception": false,
     "start_time": "2022-03-25T11:58:26.772018",
     "status": "completed"
    },
    "tags": []
   },
   "outputs": [],
   "source": [
    "pipe_model = make_pipeline(transformer, clf)"
   ]
  },
  {
   "cell_type": "code",
   "execution_count": 22,
   "id": "85874c05",
   "metadata": {
    "execution": {
     "iopub.execute_input": "2022-03-25T11:58:26.905775Z",
     "iopub.status.busy": "2022-03-25T11:58:26.904583Z",
     "iopub.status.idle": "2022-03-25T11:58:26.916649Z",
     "shell.execute_reply": "2022-03-25T11:58:26.917372Z",
     "shell.execute_reply.started": "2022-03-23T07:27:11.044944Z"
    },
    "papermill": {
     "duration": 0.057017,
     "end_time": "2022-03-25T11:58:26.917577",
     "exception": false,
     "start_time": "2022-03-25T11:58:26.860560",
     "status": "completed"
    },
    "tags": []
   },
   "outputs": [
    {
     "data": {
      "text/plain": [
       "dict_keys(['memory', 'steps', 'verbose', 'columntransformer', 'decisiontreeclassifier', 'columntransformer__n_jobs', 'columntransformer__remainder', 'columntransformer__sparse_threshold', 'columntransformer__transformer_weights', 'columntransformer__transformers', 'columntransformer__verbose', 'columntransformer__verbose_feature_names_out', 'columntransformer__pipeline', 'columntransformer__simpleimputer', 'columntransformer__onehotencoder', 'columntransformer__passthrough', 'columntransformer__pipeline__memory', 'columntransformer__pipeline__steps', 'columntransformer__pipeline__verbose', 'columntransformer__pipeline__simpleimputer', 'columntransformer__pipeline__onehotencoder', 'columntransformer__pipeline__simpleimputer__add_indicator', 'columntransformer__pipeline__simpleimputer__copy', 'columntransformer__pipeline__simpleimputer__fill_value', 'columntransformer__pipeline__simpleimputer__missing_values', 'columntransformer__pipeline__simpleimputer__strategy', 'columntransformer__pipeline__simpleimputer__verbose', 'columntransformer__pipeline__onehotencoder__categories', 'columntransformer__pipeline__onehotencoder__drop', 'columntransformer__pipeline__onehotencoder__dtype', 'columntransformer__pipeline__onehotencoder__handle_unknown', 'columntransformer__pipeline__onehotencoder__sparse', 'columntransformer__simpleimputer__add_indicator', 'columntransformer__simpleimputer__copy', 'columntransformer__simpleimputer__fill_value', 'columntransformer__simpleimputer__missing_values', 'columntransformer__simpleimputer__strategy', 'columntransformer__simpleimputer__verbose', 'columntransformer__onehotencoder__categories', 'columntransformer__onehotencoder__drop', 'columntransformer__onehotencoder__dtype', 'columntransformer__onehotencoder__handle_unknown', 'columntransformer__onehotencoder__sparse', 'decisiontreeclassifier__ccp_alpha', 'decisiontreeclassifier__class_weight', 'decisiontreeclassifier__criterion', 'decisiontreeclassifier__max_depth', 'decisiontreeclassifier__max_features', 'decisiontreeclassifier__max_leaf_nodes', 'decisiontreeclassifier__min_impurity_decrease', 'decisiontreeclassifier__min_samples_leaf', 'decisiontreeclassifier__min_samples_split', 'decisiontreeclassifier__min_weight_fraction_leaf', 'decisiontreeclassifier__random_state', 'decisiontreeclassifier__splitter'])"
      ]
     },
     "execution_count": 22,
     "metadata": {},
     "output_type": "execute_result"
    }
   ],
   "source": [
    "pipe_model.get_params().keys()"
   ]
  },
  {
   "cell_type": "code",
   "execution_count": 23,
   "id": "741f0e62",
   "metadata": {
    "execution": {
     "iopub.execute_input": "2022-03-25T11:58:27.011129Z",
     "iopub.status.busy": "2022-03-25T11:58:27.010234Z",
     "iopub.status.idle": "2022-03-25T11:58:27.015556Z",
     "shell.execute_reply": "2022-03-25T11:58:27.016103Z",
     "shell.execute_reply.started": "2022-03-23T07:27:11.060053Z"
    },
    "papermill": {
     "duration": 0.052042,
     "end_time": "2022-03-25T11:58:27.016304",
     "exception": false,
     "start_time": "2022-03-25T11:58:26.964262",
     "status": "completed"
    },
    "tags": []
   },
   "outputs": [],
   "source": [
    "parameters = {}\n",
    "parameters['decisiontreeclassifier__max_depth'] = [i for i in range(2, 10, 2)]\n",
    "parameters['decisiontreeclassifier__min_samples_split'] = [i for i in range(2, 11)]\n",
    "parameters['decisiontreeclassifier__min_samples_leaf'] = [i for i in range(1, 11)]"
   ]
  },
  {
   "cell_type": "code",
   "execution_count": 24,
   "id": "7471311f",
   "metadata": {
    "execution": {
     "iopub.execute_input": "2022-03-25T11:58:27.102818Z",
     "iopub.status.busy": "2022-03-25T11:58:27.102128Z",
     "iopub.status.idle": "2022-03-25T11:58:27.103384Z",
     "shell.execute_reply": "2022-03-25T11:58:27.103993Z",
     "shell.execute_reply.started": "2022-03-23T07:27:11.346519Z"
    },
    "papermill": {
     "duration": 0.047353,
     "end_time": "2022-03-25T11:58:27.104182",
     "exception": false,
     "start_time": "2022-03-25T11:58:27.056829",
     "status": "completed"
    },
    "tags": []
   },
   "outputs": [],
   "source": [
    "gccv = GridSearchCV(pipe_model, parameters, cv=5,  scoring = 'accuracy', n_jobs=-1)"
   ]
  },
  {
   "cell_type": "code",
   "execution_count": 25,
   "id": "07830b7e",
   "metadata": {
    "execution": {
     "iopub.execute_input": "2022-03-25T11:58:27.198824Z",
     "iopub.status.busy": "2022-03-25T11:58:27.198138Z",
     "iopub.status.idle": "2022-03-25T12:00:06.893534Z",
     "shell.execute_reply": "2022-03-25T12:00:06.894134Z",
     "shell.execute_reply.started": "2022-03-23T07:27:11.819059Z"
    },
    "papermill": {
     "duration": 99.744775,
     "end_time": "2022-03-25T12:00:06.894347",
     "exception": false,
     "start_time": "2022-03-25T11:58:27.149572",
     "status": "completed"
    },
    "tags": []
   },
   "outputs": [
    {
     "data": {
      "text/plain": [
       "GridSearchCV(cv=5,\n",
       "             estimator=Pipeline(steps=[('columntransformer',\n",
       "                                        ColumnTransformer(n_jobs=-1,\n",
       "                                                          transformers=[('pipeline',\n",
       "                                                                         Pipeline(steps=[('simpleimputer',\n",
       "                                                                                          SimpleImputer(strategy='most_frequent')),\n",
       "                                                                                         ('onehotencoder',\n",
       "                                                                                          OneHotEncoder())]),\n",
       "                                                                         ['Embarked']),\n",
       "                                                                        ('simpleimputer',\n",
       "                                                                         SimpleImputer(),\n",
       "                                                                         ['Age']),\n",
       "                                                                        ('onehotencoder',\n",
       "                                                                         OneHotEncoder(drop='if_binary'),\n",
       "                                                                         ['Sex',\n",
       "                                                                          'Pclass']),\n",
       "                                                                        ('passthrough',\n",
       "                                                                         'passthrough',\n",
       "                                                                         ['Family_size'])])),\n",
       "                                       ('decisiontreeclassifier',\n",
       "                                        DecisionTreeClassifier(random_state=17))]),\n",
       "             n_jobs=-1,\n",
       "             param_grid={'decisiontreeclassifier__max_depth': [2, 4, 6, 8],\n",
       "                         'decisiontreeclassifier__min_samples_leaf': [1, 2, 3,\n",
       "                                                                      4, 5, 6,\n",
       "                                                                      7, 8, 9,\n",
       "                                                                      10],\n",
       "                         'decisiontreeclassifier__min_samples_split': [2, 3, 4,\n",
       "                                                                       5, 6, 7,\n",
       "                                                                       8, 9,\n",
       "                                                                       10]},\n",
       "             scoring='accuracy')"
      ]
     },
     "execution_count": 25,
     "metadata": {},
     "output_type": "execute_result"
    }
   ],
   "source": [
    "gccv.fit(train_df, y_train)"
   ]
  },
  {
   "cell_type": "code",
   "execution_count": 26,
   "id": "1f43c029",
   "metadata": {
    "execution": {
     "iopub.execute_input": "2022-03-25T12:00:06.986160Z",
     "iopub.status.busy": "2022-03-25T12:00:06.985061Z",
     "iopub.status.idle": "2022-03-25T12:00:06.992047Z",
     "shell.execute_reply": "2022-03-25T12:00:06.992651Z",
     "shell.execute_reply.started": "2022-03-23T07:28:51.251545Z"
    },
    "papermill": {
     "duration": 0.054027,
     "end_time": "2022-03-25T12:00:06.992856",
     "exception": false,
     "start_time": "2022-03-25T12:00:06.938829",
     "status": "completed"
    },
    "tags": []
   },
   "outputs": [
    {
     "data": {
      "text/plain": [
       "{'decisiontreeclassifier__max_depth': 6,\n",
       " 'decisiontreeclassifier__min_samples_leaf': 1,\n",
       " 'decisiontreeclassifier__min_samples_split': 10}"
      ]
     },
     "execution_count": 26,
     "metadata": {},
     "output_type": "execute_result"
    }
   ],
   "source": [
    "gccv.best_params_"
   ]
  },
  {
   "cell_type": "code",
   "execution_count": 27,
   "id": "585b296b",
   "metadata": {
    "execution": {
     "iopub.execute_input": "2022-03-25T12:00:07.087209Z",
     "iopub.status.busy": "2022-03-25T12:00:07.083460Z",
     "iopub.status.idle": "2022-03-25T12:00:07.092550Z",
     "shell.execute_reply": "2022-03-25T12:00:07.091890Z",
     "shell.execute_reply.started": "2022-03-23T07:28:51.261985Z"
    },
    "papermill": {
     "duration": 0.057269,
     "end_time": "2022-03-25T12:00:07.092713",
     "exception": false,
     "start_time": "2022-03-25T12:00:07.035444",
     "status": "completed"
    },
    "tags": []
   },
   "outputs": [
    {
     "data": {
      "text/plain": [
       "0.8182035026049841"
      ]
     },
     "execution_count": 27,
     "metadata": {},
     "output_type": "execute_result"
    }
   ],
   "source": [
    "gccv.best_score_"
   ]
  },
  {
   "cell_type": "code",
   "execution_count": 28,
   "id": "3fe01404",
   "metadata": {
    "execution": {
     "iopub.execute_input": "2022-03-25T12:00:07.186160Z",
     "iopub.status.busy": "2022-03-25T12:00:07.185115Z",
     "iopub.status.idle": "2022-03-25T12:00:07.215999Z",
     "shell.execute_reply": "2022-03-25T12:00:07.216512Z",
     "shell.execute_reply.started": "2022-03-23T07:28:51.274158Z"
    },
    "papermill": {
     "duration": 0.078805,
     "end_time": "2022-03-25T12:00:07.216758",
     "exception": false,
     "start_time": "2022-03-25T12:00:07.137953",
     "status": "completed"
    },
    "tags": []
   },
   "outputs": [
    {
     "data": {
      "text/plain": [
       "0.8439955106621774"
      ]
     },
     "execution_count": 28,
     "metadata": {},
     "output_type": "execute_result"
    }
   ],
   "source": [
    "gccv.score(train_df, y_train)"
   ]
  },
  {
   "cell_type": "code",
   "execution_count": 29,
   "id": "19476c87",
   "metadata": {
    "execution": {
     "iopub.execute_input": "2022-03-25T12:00:07.306903Z",
     "iopub.status.busy": "2022-03-25T12:00:07.306065Z",
     "iopub.status.idle": "2022-03-25T12:00:07.334325Z",
     "shell.execute_reply": "2022-03-25T12:00:07.333678Z",
     "shell.execute_reply.started": "2022-03-23T07:28:51.310204Z"
    },
    "papermill": {
     "duration": 0.074589,
     "end_time": "2022-03-25T12:00:07.334487",
     "exception": false,
     "start_time": "2022-03-25T12:00:07.259898",
     "status": "completed"
    },
    "tags": []
   },
   "outputs": [],
   "source": [
    "predictions = gccv.predict(test_df)"
   ]
  },
  {
   "cell_type": "code",
   "execution_count": 30,
   "id": "47bf7cf2",
   "metadata": {
    "execution": {
     "iopub.execute_input": "2022-03-25T12:00:07.425109Z",
     "iopub.status.busy": "2022-03-25T12:00:07.424337Z",
     "iopub.status.idle": "2022-03-25T12:00:07.435670Z",
     "shell.execute_reply": "2022-03-25T12:00:07.436274Z",
     "shell.execute_reply.started": "2022-03-23T07:28:51.33726Z"
    },
    "papermill": {
     "duration": 0.05791,
     "end_time": "2022-03-25T12:00:07.436458",
     "exception": false,
     "start_time": "2022-03-25T12:00:07.378548",
     "status": "completed"
    },
    "tags": []
   },
   "outputs": [],
   "source": [
    "output = pd.DataFrame({'PassengerId': pass_id_test, 'Survived': predictions})\n",
    "output.to_csv('submission.csv', index=False)"
   ]
  },
  {
   "cell_type": "code",
   "execution_count": 31,
   "id": "d87b4098",
   "metadata": {
    "execution": {
     "iopub.execute_input": "2022-03-25T12:00:07.526919Z",
     "iopub.status.busy": "2022-03-25T12:00:07.525931Z",
     "iopub.status.idle": "2022-03-25T12:00:07.539288Z",
     "shell.execute_reply": "2022-03-25T12:00:07.538636Z",
     "shell.execute_reply.started": "2022-03-23T07:28:51.350016Z"
    },
    "papermill": {
     "duration": 0.059425,
     "end_time": "2022-03-25T12:00:07.539432",
     "exception": false,
     "start_time": "2022-03-25T12:00:07.480007",
     "status": "completed"
    },
    "tags": []
   },
   "outputs": [
    {
     "data": {
      "text/html": [
       "<div>\n",
       "<style scoped>\n",
       "    .dataframe tbody tr th:only-of-type {\n",
       "        vertical-align: middle;\n",
       "    }\n",
       "\n",
       "    .dataframe tbody tr th {\n",
       "        vertical-align: top;\n",
       "    }\n",
       "\n",
       "    .dataframe thead th {\n",
       "        text-align: right;\n",
       "    }\n",
       "</style>\n",
       "<table border=\"1\" class=\"dataframe\">\n",
       "  <thead>\n",
       "    <tr style=\"text-align: right;\">\n",
       "      <th></th>\n",
       "      <th>PassengerId</th>\n",
       "      <th>Survived</th>\n",
       "    </tr>\n",
       "  </thead>\n",
       "  <tbody>\n",
       "    <tr>\n",
       "      <th>0</th>\n",
       "      <td>892</td>\n",
       "      <td>0</td>\n",
       "    </tr>\n",
       "    <tr>\n",
       "      <th>1</th>\n",
       "      <td>893</td>\n",
       "      <td>0</td>\n",
       "    </tr>\n",
       "    <tr>\n",
       "      <th>2</th>\n",
       "      <td>894</td>\n",
       "      <td>0</td>\n",
       "    </tr>\n",
       "    <tr>\n",
       "      <th>3</th>\n",
       "      <td>895</td>\n",
       "      <td>0</td>\n",
       "    </tr>\n",
       "    <tr>\n",
       "      <th>4</th>\n",
       "      <td>896</td>\n",
       "      <td>0</td>\n",
       "    </tr>\n",
       "    <tr>\n",
       "      <th>...</th>\n",
       "      <td>...</td>\n",
       "      <td>...</td>\n",
       "    </tr>\n",
       "    <tr>\n",
       "      <th>413</th>\n",
       "      <td>1305</td>\n",
       "      <td>0</td>\n",
       "    </tr>\n",
       "    <tr>\n",
       "      <th>414</th>\n",
       "      <td>1306</td>\n",
       "      <td>1</td>\n",
       "    </tr>\n",
       "    <tr>\n",
       "      <th>415</th>\n",
       "      <td>1307</td>\n",
       "      <td>0</td>\n",
       "    </tr>\n",
       "    <tr>\n",
       "      <th>416</th>\n",
       "      <td>1308</td>\n",
       "      <td>0</td>\n",
       "    </tr>\n",
       "    <tr>\n",
       "      <th>417</th>\n",
       "      <td>1309</td>\n",
       "      <td>0</td>\n",
       "    </tr>\n",
       "  </tbody>\n",
       "</table>\n",
       "<p>418 rows × 2 columns</p>\n",
       "</div>"
      ],
      "text/plain": [
       "     PassengerId  Survived\n",
       "0            892         0\n",
       "1            893         0\n",
       "2            894         0\n",
       "3            895         0\n",
       "4            896         0\n",
       "..           ...       ...\n",
       "413         1305         0\n",
       "414         1306         1\n",
       "415         1307         0\n",
       "416         1308         0\n",
       "417         1309         0\n",
       "\n",
       "[418 rows x 2 columns]"
      ]
     },
     "execution_count": 31,
     "metadata": {},
     "output_type": "execute_result"
    }
   ],
   "source": [
    "output"
   ]
  }
 ],
 "metadata": {
  "kernelspec": {
   "display_name": "Python 3",
   "language": "python",
   "name": "python3"
  },
  "language_info": {
   "codemirror_mode": {
    "name": "ipython",
    "version": 3
   },
   "file_extension": ".py",
   "mimetype": "text/x-python",
   "name": "python",
   "nbconvert_exporter": "python",
   "pygments_lexer": "ipython3",
   "version": "3.7.12"
  },
  "papermill": {
   "default_parameters": {},
   "duration": 119.189534,
   "end_time": "2022-03-25T12:00:08.899885",
   "environment_variables": {},
   "exception": null,
   "input_path": "__notebook__.ipynb",
   "output_path": "__notebook__.ipynb",
   "parameters": {},
   "start_time": "2022-03-25T11:58:09.710351",
   "version": "2.3.3"
  }
 },
 "nbformat": 4,
 "nbformat_minor": 5
}
